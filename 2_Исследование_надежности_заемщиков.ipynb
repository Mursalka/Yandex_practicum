{
 "cells": [
  {
   "cell_type": "markdown",
   "id": "8784d008",
   "metadata": {
    "deletable": false,
    "editable": false,
    "id": "8784d008"
   },
   "source": [
    "# Исследование надежности заемщиков\n"
   ]
  },
  {
   "cell_type": "markdown",
   "id": "1514a113",
   "metadata": {
    "id": "1514a113"
   },
   "source": [
    "<h3>Описание проекта</h3>\n",
    "\n",
    "Заказчик — кредитный отдел банка. Нужно разобраться, влияет ли семейное положение и количество детей клиента на факт погашения кредита в срок. Входные данные от банка — статистика о платёжеспособности клиентов.\n"
   ]
  },
  {
   "cell_type": "markdown",
   "id": "9287d0b7",
   "metadata": {
    "id": "9287d0b7"
   },
   "source": [
    "<h3>Цель исследования</h3>\n",
    "\n",
    "Влияние семейного положения и количества детей клиента на своевременное погашение кредита."
   ]
  },
  {
   "cell_type": "markdown",
   "id": "38e02e31",
   "metadata": {
    "deletable": false,
    "editable": false,
    "id": "38e02e31"
   },
   "source": [
    "## Открытие данных\n",
    "\n",
    "\n"
   ]
  },
  {
   "cell_type": "code",
   "execution_count": 1,
   "id": "104628d9",
   "metadata": {
    "deletable": false,
    "id": "104628d9"
   },
   "outputs": [],
   "source": [
    "# Импортируем необходимые библиотеки\n",
    "import pandas as pd\n",
    "# Загружаем данные\n",
    "try:\n",
    "    data = pd.read_csv('/datasets/data.csv')\n",
    "except:\n",
    "    data = pd.read_csv('https://code.s3.yandex.net/datasets/data.csv')"
   ]
  },
  {
   "cell_type": "code",
   "execution_count": 2,
   "id": "2e146b52",
   "metadata": {
    "deletable": false,
    "id": "2e146b52",
    "outputId": "1a8f3ef2-d323-4ec2-ddf7-89670b5944c4"
   },
   "outputs": [
    {
     "data": {
      "text/html": [
       "<div>\n",
       "<style scoped>\n",
       "    .dataframe tbody tr th:only-of-type {\n",
       "        vertical-align: middle;\n",
       "    }\n",
       "\n",
       "    .dataframe tbody tr th {\n",
       "        vertical-align: top;\n",
       "    }\n",
       "\n",
       "    .dataframe thead th {\n",
       "        text-align: right;\n",
       "    }\n",
       "</style>\n",
       "<table border=\"1\" class=\"dataframe\">\n",
       "  <thead>\n",
       "    <tr style=\"text-align: right;\">\n",
       "      <th></th>\n",
       "      <th>children</th>\n",
       "      <th>days_employed</th>\n",
       "      <th>dob_years</th>\n",
       "      <th>education</th>\n",
       "      <th>education_id</th>\n",
       "      <th>family_status</th>\n",
       "      <th>family_status_id</th>\n",
       "      <th>gender</th>\n",
       "      <th>income_type</th>\n",
       "      <th>debt</th>\n",
       "      <th>total_income</th>\n",
       "      <th>purpose</th>\n",
       "    </tr>\n",
       "  </thead>\n",
       "  <tbody>\n",
       "    <tr>\n",
       "      <th>0</th>\n",
       "      <td>1</td>\n",
       "      <td>-8437.673028</td>\n",
       "      <td>42</td>\n",
       "      <td>высшее</td>\n",
       "      <td>0</td>\n",
       "      <td>женат / замужем</td>\n",
       "      <td>0</td>\n",
       "      <td>F</td>\n",
       "      <td>сотрудник</td>\n",
       "      <td>0</td>\n",
       "      <td>253875.639453</td>\n",
       "      <td>покупка жилья</td>\n",
       "    </tr>\n",
       "    <tr>\n",
       "      <th>1</th>\n",
       "      <td>1</td>\n",
       "      <td>-4024.803754</td>\n",
       "      <td>36</td>\n",
       "      <td>среднее</td>\n",
       "      <td>1</td>\n",
       "      <td>женат / замужем</td>\n",
       "      <td>0</td>\n",
       "      <td>F</td>\n",
       "      <td>сотрудник</td>\n",
       "      <td>0</td>\n",
       "      <td>112080.014102</td>\n",
       "      <td>приобретение автомобиля</td>\n",
       "    </tr>\n",
       "    <tr>\n",
       "      <th>2</th>\n",
       "      <td>0</td>\n",
       "      <td>-5623.422610</td>\n",
       "      <td>33</td>\n",
       "      <td>Среднее</td>\n",
       "      <td>1</td>\n",
       "      <td>женат / замужем</td>\n",
       "      <td>0</td>\n",
       "      <td>M</td>\n",
       "      <td>сотрудник</td>\n",
       "      <td>0</td>\n",
       "      <td>145885.952297</td>\n",
       "      <td>покупка жилья</td>\n",
       "    </tr>\n",
       "    <tr>\n",
       "      <th>3</th>\n",
       "      <td>3</td>\n",
       "      <td>-4124.747207</td>\n",
       "      <td>32</td>\n",
       "      <td>среднее</td>\n",
       "      <td>1</td>\n",
       "      <td>женат / замужем</td>\n",
       "      <td>0</td>\n",
       "      <td>M</td>\n",
       "      <td>сотрудник</td>\n",
       "      <td>0</td>\n",
       "      <td>267628.550329</td>\n",
       "      <td>дополнительное образование</td>\n",
       "    </tr>\n",
       "    <tr>\n",
       "      <th>4</th>\n",
       "      <td>0</td>\n",
       "      <td>340266.072047</td>\n",
       "      <td>53</td>\n",
       "      <td>среднее</td>\n",
       "      <td>1</td>\n",
       "      <td>гражданский брак</td>\n",
       "      <td>1</td>\n",
       "      <td>F</td>\n",
       "      <td>пенсионер</td>\n",
       "      <td>0</td>\n",
       "      <td>158616.077870</td>\n",
       "      <td>сыграть свадьбу</td>\n",
       "    </tr>\n",
       "    <tr>\n",
       "      <th>5</th>\n",
       "      <td>0</td>\n",
       "      <td>-926.185831</td>\n",
       "      <td>27</td>\n",
       "      <td>высшее</td>\n",
       "      <td>0</td>\n",
       "      <td>гражданский брак</td>\n",
       "      <td>1</td>\n",
       "      <td>M</td>\n",
       "      <td>компаньон</td>\n",
       "      <td>0</td>\n",
       "      <td>255763.565419</td>\n",
       "      <td>покупка жилья</td>\n",
       "    </tr>\n",
       "    <tr>\n",
       "      <th>6</th>\n",
       "      <td>0</td>\n",
       "      <td>-2879.202052</td>\n",
       "      <td>43</td>\n",
       "      <td>высшее</td>\n",
       "      <td>0</td>\n",
       "      <td>женат / замужем</td>\n",
       "      <td>0</td>\n",
       "      <td>F</td>\n",
       "      <td>компаньон</td>\n",
       "      <td>0</td>\n",
       "      <td>240525.971920</td>\n",
       "      <td>операции с жильем</td>\n",
       "    </tr>\n",
       "    <tr>\n",
       "      <th>7</th>\n",
       "      <td>0</td>\n",
       "      <td>-152.779569</td>\n",
       "      <td>50</td>\n",
       "      <td>СРЕДНЕЕ</td>\n",
       "      <td>1</td>\n",
       "      <td>женат / замужем</td>\n",
       "      <td>0</td>\n",
       "      <td>M</td>\n",
       "      <td>сотрудник</td>\n",
       "      <td>0</td>\n",
       "      <td>135823.934197</td>\n",
       "      <td>образование</td>\n",
       "    </tr>\n",
       "    <tr>\n",
       "      <th>8</th>\n",
       "      <td>2</td>\n",
       "      <td>-6929.865299</td>\n",
       "      <td>35</td>\n",
       "      <td>ВЫСШЕЕ</td>\n",
       "      <td>0</td>\n",
       "      <td>гражданский брак</td>\n",
       "      <td>1</td>\n",
       "      <td>F</td>\n",
       "      <td>сотрудник</td>\n",
       "      <td>0</td>\n",
       "      <td>95856.832424</td>\n",
       "      <td>на проведение свадьбы</td>\n",
       "    </tr>\n",
       "    <tr>\n",
       "      <th>9</th>\n",
       "      <td>0</td>\n",
       "      <td>-2188.756445</td>\n",
       "      <td>41</td>\n",
       "      <td>среднее</td>\n",
       "      <td>1</td>\n",
       "      <td>женат / замужем</td>\n",
       "      <td>0</td>\n",
       "      <td>M</td>\n",
       "      <td>сотрудник</td>\n",
       "      <td>0</td>\n",
       "      <td>144425.938277</td>\n",
       "      <td>покупка жилья для семьи</td>\n",
       "    </tr>\n",
       "  </tbody>\n",
       "</table>\n",
       "</div>"
      ],
      "text/plain": [
       "   children  days_employed  dob_years education  education_id  \\\n",
       "0         1   -8437.673028         42    высшее             0   \n",
       "1         1   -4024.803754         36   среднее             1   \n",
       "2         0   -5623.422610         33   Среднее             1   \n",
       "3         3   -4124.747207         32   среднее             1   \n",
       "4         0  340266.072047         53   среднее             1   \n",
       "5         0    -926.185831         27    высшее             0   \n",
       "6         0   -2879.202052         43    высшее             0   \n",
       "7         0    -152.779569         50   СРЕДНЕЕ             1   \n",
       "8         2   -6929.865299         35    ВЫСШЕЕ             0   \n",
       "9         0   -2188.756445         41   среднее             1   \n",
       "\n",
       "      family_status  family_status_id gender income_type  debt   total_income  \\\n",
       "0   женат / замужем                 0      F   сотрудник     0  253875.639453   \n",
       "1   женат / замужем                 0      F   сотрудник     0  112080.014102   \n",
       "2   женат / замужем                 0      M   сотрудник     0  145885.952297   \n",
       "3   женат / замужем                 0      M   сотрудник     0  267628.550329   \n",
       "4  гражданский брак                 1      F   пенсионер     0  158616.077870   \n",
       "5  гражданский брак                 1      M   компаньон     0  255763.565419   \n",
       "6   женат / замужем                 0      F   компаньон     0  240525.971920   \n",
       "7   женат / замужем                 0      M   сотрудник     0  135823.934197   \n",
       "8  гражданский брак                 1      F   сотрудник     0   95856.832424   \n",
       "9   женат / замужем                 0      M   сотрудник     0  144425.938277   \n",
       "\n",
       "                      purpose  \n",
       "0               покупка жилья  \n",
       "1     приобретение автомобиля  \n",
       "2               покупка жилья  \n",
       "3  дополнительное образование  \n",
       "4             сыграть свадьбу  \n",
       "5               покупка жилья  \n",
       "6           операции с жильем  \n",
       "7                 образование  \n",
       "8       на проведение свадьбы  \n",
       "9     покупка жилья для семьи  "
      ]
     },
     "execution_count": 2,
     "metadata": {},
     "output_type": "execute_result"
    }
   ],
   "source": [
    "#изучим первые 10 строк\n",
    "data.head(10)"
   ]
  },
  {
   "cell_type": "code",
   "execution_count": 3,
   "id": "a92db1fd",
   "metadata": {
    "deletable": false,
    "id": "a92db1fd",
    "outputId": "15376089-8dad-46c9-b520-c05248d43158"
   },
   "outputs": [
    {
     "name": "stdout",
     "output_type": "stream",
     "text": [
      "<class 'pandas.core.frame.DataFrame'>\n",
      "RangeIndex: 21525 entries, 0 to 21524\n",
      "Data columns (total 12 columns):\n",
      " #   Column            Non-Null Count  Dtype  \n",
      "---  ------            --------------  -----  \n",
      " 0   children          21525 non-null  int64  \n",
      " 1   days_employed     19351 non-null  float64\n",
      " 2   dob_years         21525 non-null  int64  \n",
      " 3   education         21525 non-null  object \n",
      " 4   education_id      21525 non-null  int64  \n",
      " 5   family_status     21525 non-null  object \n",
      " 6   family_status_id  21525 non-null  int64  \n",
      " 7   gender            21525 non-null  object \n",
      " 8   income_type       21525 non-null  object \n",
      " 9   debt              21525 non-null  int64  \n",
      " 10  total_income      19351 non-null  float64\n",
      " 11  purpose           21525 non-null  object \n",
      "dtypes: float64(2), int64(5), object(5)\n",
      "memory usage: 2.0+ MB\n"
     ]
    }
   ],
   "source": [
    "#Получим детальную информацию о колонках DataFrame\n",
    "data.info()"
   ]
  },
  {
   "cell_type": "markdown",
   "id": "0bd41461",
   "metadata": {
    "deletable": false,
    "editable": false,
    "id": "0bd41461"
   },
   "source": [
    "## Предобработка данных"
   ]
  },
  {
   "cell_type": "markdown",
   "id": "1992a408",
   "metadata": {
    "deletable": false,
    "editable": false,
    "id": "1992a408"
   },
   "source": [
    "### Удаление пропусков"
   ]
  },
  {
   "cell_type": "code",
   "execution_count": 4,
   "id": "f15c091d",
   "metadata": {
    "deletable": false,
    "id": "f15c091d",
    "outputId": "81f4d817-781c-465c-ed15-91ce4446810d"
   },
   "outputs": [
    {
     "data": {
      "text/plain": [
       "children               0\n",
       "days_employed       2174\n",
       "dob_years              0\n",
       "education              0\n",
       "education_id           0\n",
       "family_status          0\n",
       "family_status_id       0\n",
       "gender                 0\n",
       "income_type            0\n",
       "debt                   0\n",
       "total_income        2174\n",
       "purpose                0\n",
       "dtype: int64"
      ]
     },
     "execution_count": 4,
     "metadata": {},
     "output_type": "execute_result"
    }
   ],
   "source": [
    "#Определяем, в каких столбцах есть пропуски.\n",
    "data.isna().sum()"
   ]
  },
  {
   "cell_type": "markdown",
   "id": "26352bea",
   "metadata": {
    "deletable": false,
    "editable": false,
    "id": "26352bea"
   },
   "source": [
    "В двух столбцах есть пропущенные значения. Один из них — `days_employed`. Другой столбец с пропущенными значениями — `total_income` — хранит данные о доходах. На сумму дохода сильнее всего влияет тип занятости, поэтому заполнить пропуски в этом столбце нужно медианным значением по каждому типу из столбца `income_type`. Например, у человека с типом занятости `сотрудник` пропуск в столбце `total_income` должен быть заполнен медианным доходом среди всех записей с тем же типом."
   ]
  },
  {
   "cell_type": "code",
   "execution_count": 5,
   "id": "5fd5ea9a",
   "metadata": {
    "deletable": false,
    "id": "5fd5ea9a"
   },
   "outputs": [],
   "source": [
    "for t in data['income_type'].unique():\n",
    "    data.loc[(data['income_type'] == t) & (data['total_income'].isna()), 'total_income'] = \\\n",
    "    data.loc[(data['income_type'] == t), 'total_income'].median()"
   ]
  },
  {
   "cell_type": "markdown",
   "id": "bad612b4",
   "metadata": {
    "deletable": false,
    "editable": false,
    "id": "bad612b4"
   },
   "source": [
    "### Обработка аномальных значений"
   ]
  },
  {
   "cell_type": "markdown",
   "id": "ddfe5fcf",
   "metadata": {
    "deletable": false,
    "editable": false,
    "id": "ddfe5fcf"
   },
   "source": [
    "В столбце `days_employed` отрицательное кол-ство дней трудового стража - это аномалия. Обработаем значения в этом столбце: заменим все отрицательные значения положительными с помощью метода `abs()`.**"
   ]
  },
  {
   "cell_type": "code",
   "execution_count": 6,
   "id": "276e100d",
   "metadata": {
    "deletable": false,
    "id": "276e100d"
   },
   "outputs": [],
   "source": [
    "data['days_employed'] = data['days_employed'].abs()"
   ]
  },
  {
   "cell_type": "markdown",
   "id": "ba7acd38",
   "metadata": {
    "deletable": false,
    "editable": false,
    "id": "ba7acd38"
   },
   "source": [
    "Для каждого типа занятости выведем медианное значение трудового стажа `days_employed` в днях."
   ]
  },
  {
   "cell_type": "code",
   "execution_count": 7,
   "id": "1b2889dc",
   "metadata": {
    "deletable": false,
    "id": "1b2889dc",
    "outputId": "801ef80e-522b-4668-f34e-565af7432bcf"
   },
   "outputs": [
    {
     "data": {
      "text/plain": [
       "income_type\n",
       "безработный        366413.652744\n",
       "в декрете            3296.759962\n",
       "госслужащий          2689.368353\n",
       "компаньон            1547.382223\n",
       "пенсионер          365213.306266\n",
       "предприниматель       520.848083\n",
       "сотрудник            1574.202821\n",
       "студент               578.751554\n",
       "Name: days_employed, dtype: float64"
      ]
     },
     "execution_count": 7,
     "metadata": {},
     "output_type": "execute_result"
    }
   ],
   "source": [
    "data.groupby('income_type')['days_employed'].agg('median')"
   ]
  },
  {
   "cell_type": "markdown",
   "id": "63863826",
   "metadata": {
    "deletable": false,
    "editable": false,
    "id": "63863826"
   },
   "source": [
    "У двух типов (безработные и пенсионеры) получатся аномально большие значения. Исправить такие значения сложно, поэтому оставим их как есть. Тем более этот столбец не понадобится нам для исследования."
   ]
  },
  {
   "cell_type": "markdown",
   "id": "ba153909",
   "metadata": {
    "deletable": false,
    "editable": false,
    "id": "ba153909"
   },
   "source": [
    "Выведем перечень уникальных значений столбца `children`."
   ]
  },
  {
   "cell_type": "code",
   "execution_count": 8,
   "id": "60421554",
   "metadata": {
    "deletable": false,
    "id": "60421554",
    "outputId": "6975b15c-7f95-4697-d16d-a0c79b657b03"
   },
   "outputs": [
    {
     "data": {
      "text/plain": [
       "array([ 1,  0,  3,  2, -1,  4, 20,  5], dtype=int64)"
      ]
     },
     "execution_count": 8,
     "metadata": {},
     "output_type": "execute_result"
    }
   ],
   "source": [
    "data['children'].unique()"
   ]
  },
  {
   "cell_type": "markdown",
   "id": "c8ff1b2b",
   "metadata": {
    "deletable": false,
    "editable": false,
    "id": "c8ff1b2b"
   },
   "source": [
    "В столбце `children` есть два аномальных значения. Удалим строки, в которых встречаются такие аномальные значения из датафрейма `data`."
   ]
  },
  {
   "cell_type": "code",
   "execution_count": 9,
   "id": "12020f5a",
   "metadata": {
    "deletable": false,
    "id": "12020f5a"
   },
   "outputs": [],
   "source": [
    "data = data[(data['children'] != -1) & (data['children'] != 20)]"
   ]
  },
  {
   "cell_type": "markdown",
   "id": "0d801fcc",
   "metadata": {
    "deletable": false,
    "editable": false,
    "id": "0d801fcc"
   },
   "source": [
    "Ещё раз выведем перечень уникальных значений столбца `children`, чтобы убедиться, что артефакты удалены."
   ]
  },
  {
   "cell_type": "code",
   "execution_count": 10,
   "id": "7449fbaf",
   "metadata": {
    "deletable": false,
    "id": "7449fbaf",
    "outputId": "b2097101-d49d-44d9-901b-32a65c9463d1"
   },
   "outputs": [
    {
     "data": {
      "text/plain": [
       "array([1, 0, 3, 2, 4, 5], dtype=int64)"
      ]
     },
     "execution_count": 10,
     "metadata": {},
     "output_type": "execute_result"
    }
   ],
   "source": [
    "data['children'].unique()"
   ]
  },
  {
   "cell_type": "markdown",
   "id": "3fb3fcb9",
   "metadata": {
    "deletable": false,
    "editable": false,
    "id": "3fb3fcb9"
   },
   "source": [
    "### Удаление пропусков (продолжение)"
   ]
  },
  {
   "cell_type": "markdown",
   "id": "ce5009bf",
   "metadata": {
    "deletable": false,
    "editable": false,
    "id": "ce5009bf"
   },
   "source": [
    "Заполним пропуски в столбце `days_employed` медианными значениями по каждому типа занятости `income_type`.**"
   ]
  },
  {
   "cell_type": "code",
   "execution_count": 11,
   "id": "e9a3335a",
   "metadata": {
    "deletable": false,
    "id": "e9a3335a"
   },
   "outputs": [],
   "source": [
    "for t in data['income_type'].unique():\n",
    "    data.loc[(data['income_type'] == t) & (data['days_employed'].isna()), 'days_employed'] = \\\n",
    "    data.loc[(data['income_type'] == t), 'days_employed'].median()"
   ]
  },
  {
   "cell_type": "markdown",
   "id": "e6058d27",
   "metadata": {
    "deletable": false,
    "editable": false,
    "id": "e6058d27"
   },
   "source": [
    "Убедимся, что все пропуски заполнены."
   ]
  },
  {
   "cell_type": "code",
   "execution_count": 12,
   "id": "bfc64e1f",
   "metadata": {
    "deletable": false,
    "id": "bfc64e1f",
    "outputId": "8da1e4e1-358e-4e87-98c9-f261bce0a7b2"
   },
   "outputs": [
    {
     "data": {
      "text/plain": [
       "children            0\n",
       "days_employed       0\n",
       "dob_years           0\n",
       "education           0\n",
       "education_id        0\n",
       "family_status       0\n",
       "family_status_id    0\n",
       "gender              0\n",
       "income_type         0\n",
       "debt                0\n",
       "total_income        0\n",
       "purpose             0\n",
       "dtype: int64"
      ]
     },
     "execution_count": 12,
     "metadata": {},
     "output_type": "execute_result"
    }
   ],
   "source": [
    "data.isna().sum()"
   ]
  },
  {
   "cell_type": "markdown",
   "id": "82190e79",
   "metadata": {
    "deletable": false,
    "editable": false,
    "id": "82190e79"
   },
   "source": [
    "### Изменение типов данных"
   ]
  },
  {
   "cell_type": "markdown",
   "id": "ce6622a4",
   "metadata": {
    "deletable": false,
    "editable": false,
    "id": "ce6622a4"
   },
   "source": [
    "Заменим вещественный тип данных в столбце `total_income` на целочисленный с помощью метода `astype()`.**"
   ]
  },
  {
   "cell_type": "code",
   "execution_count": 13,
   "id": "2e520446",
   "metadata": {
    "deletable": false,
    "id": "2e520446"
   },
   "outputs": [],
   "source": [
    "data['total_income'] = data['total_income'].astype(int)"
   ]
  },
  {
   "cell_type": "markdown",
   "id": "0a2e5203",
   "metadata": {
    "deletable": false,
    "editable": false,
    "id": "0a2e5203"
   },
   "source": [
    "### Обработка дубликатов"
   ]
  },
  {
   "cell_type": "markdown",
   "id": "c20c9d33",
   "metadata": {
    "deletable": false,
    "editable": false,
    "id": "c20c9d33"
   },
   "source": [
    "Обработаем неявные дубликаты в столбце `education`. В этом столбце есть одни и те же значения, но записанные по-разному: с использованием заглавных и строчных букв. Приведем их к нижнему регистру."
   ]
  },
  {
   "cell_type": "code",
   "execution_count": 14,
   "id": "9c551600",
   "metadata": {
    "deletable": false,
    "id": "9c551600"
   },
   "outputs": [],
   "source": [
    "data['education'] = data['education'].str.lower()"
   ]
  },
  {
   "cell_type": "markdown",
   "id": "d3ed3640",
   "metadata": {
    "deletable": false,
    "editable": false,
    "id": "d3ed3640"
   },
   "source": [
    "Выведем на экран количество строк-дубликатов в данных. Если такие строки присутствуют, удалим их.\n",
    "\n",
    "\n",
    "\n",
    "\n"
   ]
  },
  {
   "cell_type": "code",
   "execution_count": 15,
   "id": "ac4193cc",
   "metadata": {
    "deletable": false,
    "id": "ac4193cc",
    "outputId": "9684deba-1934-42d1-99e1-cda61740f822"
   },
   "outputs": [
    {
     "data": {
      "text/plain": [
       "71"
      ]
     },
     "execution_count": 15,
     "metadata": {},
     "output_type": "execute_result"
    }
   ],
   "source": [
    "data.duplicated().sum()"
   ]
  },
  {
   "cell_type": "code",
   "execution_count": 16,
   "id": "4b3fd588",
   "metadata": {
    "deletable": false,
    "id": "4b3fd588"
   },
   "outputs": [],
   "source": [
    "data = data.drop_duplicates()"
   ]
  },
  {
   "cell_type": "markdown",
   "id": "61cb5dfe",
   "metadata": {
    "deletable": false,
    "editable": false,
    "id": "61cb5dfe"
   },
   "source": [
    "### Категоризация данных"
   ]
  },
  {
   "cell_type": "markdown",
   "id": "ed3ac426",
   "metadata": {
    "deletable": false,
    "editable": false,
    "id": "ed3ac426"
   },
   "source": [
    "На основании диапазонов, указанных ниже, создадим в датафрейме `data` столбец `total_income_category` с категориями:**\n",
    "\n",
    "- 0–30000 — `'E'`;\n",
    "- 30001–50000 — `'D'`;\n",
    "- 50001–200000 — `'C'`;\n",
    "- 200001–1000000 — `'B'`;\n",
    "- 1000001 и выше — `'A'`.\n",
    "\n",
    "\n",
    "Например, кредитополучателю с доходом 25000 нужно назначить категорию `'E'`, а клиенту, получающему 235000, — `'B'`."
   ]
  },
  {
   "cell_type": "code",
   "execution_count": 17,
   "id": "f157d8d0",
   "metadata": {
    "deletable": false,
    "id": "f157d8d0"
   },
   "outputs": [],
   "source": [
    "def categorize_income(income):\n",
    "    try:\n",
    "        if 0 <= income <= 30000:\n",
    "            return 'E'\n",
    "        elif 30001 <= income <= 50000:\n",
    "            return 'D'\n",
    "        elif 50001 <= income <= 200000:\n",
    "            return 'C'\n",
    "        elif 200001 <= income <= 1000000:\n",
    "            return 'B'\n",
    "        elif income >= 1000001:\n",
    "            return 'A'\n",
    "    except:\n",
    "        pass"
   ]
  },
  {
   "cell_type": "code",
   "execution_count": 18,
   "id": "f2313f12",
   "metadata": {
    "deletable": false,
    "id": "f2313f12"
   },
   "outputs": [],
   "source": [
    "data['total_income_category'] = data['total_income'].apply(categorize_income)"
   ]
  },
  {
   "cell_type": "markdown",
   "id": "2fca49b5",
   "metadata": {
    "deletable": false,
    "editable": false,
    "id": "2fca49b5"
   },
   "source": [
    "Выведем на экран перечень уникальных целей взятия кредита из столбца `purpose`."
   ]
  },
  {
   "cell_type": "code",
   "execution_count": 19,
   "id": "9313f6d1",
   "metadata": {
    "deletable": false,
    "id": "9313f6d1",
    "outputId": "673c12d9-7d7e-4ae0-9812-c622c89dd244"
   },
   "outputs": [
    {
     "data": {
      "text/plain": [
       "array(['покупка жилья', 'приобретение автомобиля',\n",
       "       'дополнительное образование', 'сыграть свадьбу',\n",
       "       'операции с жильем', 'образование', 'на проведение свадьбы',\n",
       "       'покупка жилья для семьи', 'покупка недвижимости',\n",
       "       'покупка коммерческой недвижимости', 'покупка жилой недвижимости',\n",
       "       'строительство собственной недвижимости', 'недвижимость',\n",
       "       'строительство недвижимости', 'на покупку подержанного автомобиля',\n",
       "       'на покупку своего автомобиля',\n",
       "       'операции с коммерческой недвижимостью',\n",
       "       'строительство жилой недвижимости', 'жилье',\n",
       "       'операции со своей недвижимостью', 'автомобили',\n",
       "       'заняться образованием', 'сделка с подержанным автомобилем',\n",
       "       'получение образования', 'автомобиль', 'свадьба',\n",
       "       'получение дополнительного образования', 'покупка своего жилья',\n",
       "       'операции с недвижимостью', 'получение высшего образования',\n",
       "       'свой автомобиль', 'сделка с автомобилем',\n",
       "       'профильное образование', 'высшее образование',\n",
       "       'покупка жилья для сдачи', 'на покупку автомобиля', 'ремонт жилью',\n",
       "       'заняться высшим образованием'], dtype=object)"
      ]
     },
     "execution_count": 19,
     "metadata": {},
     "output_type": "execute_result"
    }
   ],
   "source": [
    "data['purpose'].unique()"
   ]
  },
  {
   "cell_type": "markdown",
   "id": "fdb5a652",
   "metadata": {
    "deletable": false,
    "editable": false,
    "id": "fdb5a652"
   },
   "source": [
    "Создадим функцию, которая на основании данных из столбца `purpose` сформирует новый столбец `purpose_category`, в который войдут следующие категории:**\n",
    "\n",
    "- `'операции с автомобилем'`,\n",
    "- `'операции с недвижимостью'`,\n",
    "- `'проведение свадьбы'`,\n",
    "- `'получение образования'`.\n",
    "\n",
    "*Например, если в столбце `purpose` находится подстрока `'на покупку автомобиля'`, то в столбце `purpose_category` должна появиться строка `'операции с автомобилем'`.*\n"
   ]
  },
  {
   "cell_type": "code",
   "execution_count": 20,
   "id": "d490fdf3",
   "metadata": {
    "deletable": false,
    "id": "d490fdf3"
   },
   "outputs": [],
   "source": [
    "def categorize_purpose(row):\n",
    "    try:\n",
    "        if 'автом' in row:\n",
    "            return 'операции с автомобилем'\n",
    "        elif 'жил' in row or 'недвиж' in row:\n",
    "            return 'операции с недвижимостью'\n",
    "        elif 'свад' in row:\n",
    "            return 'проведение свадьбы'\n",
    "        elif 'образов' in row:\n",
    "            return 'получение образования'\n",
    "    except:\n",
    "        return 'нет категории'"
   ]
  },
  {
   "cell_type": "code",
   "execution_count": 21,
   "id": "f156c08f",
   "metadata": {
    "deletable": false,
    "id": "f156c08f"
   },
   "outputs": [],
   "source": [
    "data['purpose_category'] = data['purpose'].apply(categorize_purpose)"
   ]
  },
  {
   "cell_type": "markdown",
   "id": "638d1363",
   "metadata": {
    "deletable": false,
    "editable": false,
    "id": "638d1363"
   },
   "source": [
    "### Шаг 3. Исследование данных"
   ]
  },
  {
   "cell_type": "markdown",
   "id": "c81b83e2",
   "metadata": {
    "deletable": false,
    "editable": false,
    "id": "c81b83e2"
   },
   "source": [
    "**1. Посмотрим есть ли зависимость между количеством детей и возвратом кредита в срок**"
   ]
  },
  {
   "cell_type": "code",
   "execution_count": 22,
   "id": "d0083eb3",
   "metadata": {
    "deletable": false,
    "id": "d0083eb3",
    "outputId": "b1d2deb0-84f0-4230-f4d0-c2f530df2c26"
   },
   "outputs": [
    {
     "data": {
      "text/html": [
       "<div>\n",
       "<style scoped>\n",
       "    .dataframe tbody tr th:only-of-type {\n",
       "        vertical-align: middle;\n",
       "    }\n",
       "\n",
       "    .dataframe tbody tr th {\n",
       "        vertical-align: top;\n",
       "    }\n",
       "\n",
       "    .dataframe thead tr th {\n",
       "        text-align: left;\n",
       "    }\n",
       "\n",
       "    .dataframe thead tr:last-of-type th {\n",
       "        text-align: right;\n",
       "    }\n",
       "</style>\n",
       "<table border=\"1\" class=\"dataframe\">\n",
       "  <thead>\n",
       "    <tr>\n",
       "      <th></th>\n",
       "      <th>sum</th>\n",
       "      <th>count</th>\n",
       "      <th>percent</th>\n",
       "    </tr>\n",
       "    <tr>\n",
       "      <th></th>\n",
       "      <th>debt</th>\n",
       "      <th>debt</th>\n",
       "      <th>debt</th>\n",
       "    </tr>\n",
       "    <tr>\n",
       "      <th>children</th>\n",
       "      <th></th>\n",
       "      <th></th>\n",
       "      <th></th>\n",
       "    </tr>\n",
       "  </thead>\n",
       "  <tbody>\n",
       "    <tr>\n",
       "      <th>0</th>\n",
       "      <td>1063</td>\n",
       "      <td>14091</td>\n",
       "      <td>7.543822</td>\n",
       "    </tr>\n",
       "    <tr>\n",
       "      <th>1</th>\n",
       "      <td>444</td>\n",
       "      <td>4808</td>\n",
       "      <td>9.234609</td>\n",
       "    </tr>\n",
       "    <tr>\n",
       "      <th>2</th>\n",
       "      <td>194</td>\n",
       "      <td>2052</td>\n",
       "      <td>9.454191</td>\n",
       "    </tr>\n",
       "    <tr>\n",
       "      <th>3</th>\n",
       "      <td>27</td>\n",
       "      <td>330</td>\n",
       "      <td>8.181818</td>\n",
       "    </tr>\n",
       "    <tr>\n",
       "      <th>4</th>\n",
       "      <td>4</td>\n",
       "      <td>41</td>\n",
       "      <td>9.756098</td>\n",
       "    </tr>\n",
       "    <tr>\n",
       "      <th>5</th>\n",
       "      <td>0</td>\n",
       "      <td>9</td>\n",
       "      <td>0.000000</td>\n",
       "    </tr>\n",
       "  </tbody>\n",
       "</table>\n",
       "</div>"
      ],
      "text/plain": [
       "           sum  count   percent\n",
       "          debt   debt      debt\n",
       "children                       \n",
       "0         1063  14091  7.543822\n",
       "1          444   4808  9.234609\n",
       "2          194   2052  9.454191\n",
       "3           27    330  8.181818\n",
       "4            4     41  9.756098\n",
       "5            0      9  0.000000"
      ]
     },
     "execution_count": 22,
     "metadata": {},
     "output_type": "execute_result"
    }
   ],
   "source": [
    "def percent(data):\n",
    "    return data.sum() / data.count() * 100\n",
    "data_pivot = data.pivot_table(index=['children'], values='debt', aggfunc=['sum','count',percent])\n",
    "data_pivot\n"
   ]
  },
  {
   "cell_type": "markdown",
   "id": "69f91a5b",
   "metadata": {
    "deletable": false,
    "id": "69f91a5b"
   },
   "source": [
    "**Вывод:**"
   ]
  },
  {
   "cell_type": "markdown",
   "id": "c40ff2f9",
   "metadata": {
    "id": "c40ff2f9"
   },
   "source": [
    "По таблице видно, что у семей с 5 детьми вероятность неуплаты кредита в срок равна 0%, но и выборка слишком мала, потому скажем, что наиболее надежными заёмщиками являются семьи без детей, в то время, как семьи с 4 и 2 детьми являются наиболее ненадёжными."
   ]
  },
  {
   "cell_type": "markdown",
   "id": "c0f528af",
   "metadata": {
    "deletable": false,
    "editable": false,
    "id": "c0f528af"
   },
   "source": [
    "**2. Посмотрим, есть ли зависимость между семейным положением и возвратом кредита в срок**"
   ]
  },
  {
   "cell_type": "code",
   "execution_count": 23,
   "id": "67783bdb",
   "metadata": {
    "deletable": false,
    "id": "67783bdb",
    "outputId": "d6f671b8-f602-4736-c828-7d2664da2c8a"
   },
   "outputs": [
    {
     "data": {
      "text/html": [
       "<div>\n",
       "<style scoped>\n",
       "    .dataframe tbody tr th:only-of-type {\n",
       "        vertical-align: middle;\n",
       "    }\n",
       "\n",
       "    .dataframe tbody tr th {\n",
       "        vertical-align: top;\n",
       "    }\n",
       "\n",
       "    .dataframe thead tr th {\n",
       "        text-align: left;\n",
       "    }\n",
       "\n",
       "    .dataframe thead tr:last-of-type th {\n",
       "        text-align: right;\n",
       "    }\n",
       "</style>\n",
       "<table border=\"1\" class=\"dataframe\">\n",
       "  <thead>\n",
       "    <tr>\n",
       "      <th></th>\n",
       "      <th>sum</th>\n",
       "      <th>count</th>\n",
       "      <th>percent</th>\n",
       "    </tr>\n",
       "    <tr>\n",
       "      <th></th>\n",
       "      <th>debt</th>\n",
       "      <th>debt</th>\n",
       "      <th>debt</th>\n",
       "    </tr>\n",
       "    <tr>\n",
       "      <th>family_status</th>\n",
       "      <th></th>\n",
       "      <th></th>\n",
       "      <th></th>\n",
       "    </tr>\n",
       "  </thead>\n",
       "  <tbody>\n",
       "    <tr>\n",
       "      <th>Не женат / не замужем</th>\n",
       "      <td>273</td>\n",
       "      <td>2796</td>\n",
       "      <td>9.763948</td>\n",
       "    </tr>\n",
       "    <tr>\n",
       "      <th>в разводе</th>\n",
       "      <td>84</td>\n",
       "      <td>1189</td>\n",
       "      <td>7.064760</td>\n",
       "    </tr>\n",
       "    <tr>\n",
       "      <th>вдовец / вдова</th>\n",
       "      <td>63</td>\n",
       "      <td>951</td>\n",
       "      <td>6.624606</td>\n",
       "    </tr>\n",
       "    <tr>\n",
       "      <th>гражданский брак</th>\n",
       "      <td>385</td>\n",
       "      <td>4134</td>\n",
       "      <td>9.313014</td>\n",
       "    </tr>\n",
       "    <tr>\n",
       "      <th>женат / замужем</th>\n",
       "      <td>927</td>\n",
       "      <td>12261</td>\n",
       "      <td>7.560558</td>\n",
       "    </tr>\n",
       "  </tbody>\n",
       "</table>\n",
       "</div>"
      ],
      "text/plain": [
       "                       sum  count   percent\n",
       "                      debt   debt      debt\n",
       "family_status                              \n",
       "Не женат / не замужем  273   2796  9.763948\n",
       "в разводе               84   1189  7.064760\n",
       "вдовец / вдова          63    951  6.624606\n",
       "гражданский брак       385   4134  9.313014\n",
       "женат / замужем        927  12261  7.560558"
      ]
     },
     "execution_count": 23,
     "metadata": {},
     "output_type": "execute_result"
    }
   ],
   "source": [
    "def percent(data):\n",
    "    return data.sum() / data.count() * 100\n",
    "data_pivot1 = data.pivot_table(index=['family_status'], values='debt', aggfunc=['sum','count',percent])\n",
    "data_pivot1"
   ]
  },
  {
   "cell_type": "markdown",
   "id": "aab2a857",
   "metadata": {
    "deletable": false,
    "id": "aab2a857"
   },
   "source": [
    "**Вывод:**"
   ]
  },
  {
   "cell_type": "markdown",
   "id": "588ff633",
   "metadata": {
    "id": "588ff633"
   },
   "source": [
    "Самыми надежными заёмщиками являются вдовцы, самыми ненадежными одинокие люди. Так как здесь разница в процентах существенна, можно сказать, что да, семейное положение влияет на возврат кредита в срок."
   ]
  },
  {
   "cell_type": "markdown",
   "id": "8d3a0d0c",
   "metadata": {
    "deletable": false,
    "editable": false,
    "id": "8d3a0d0c"
   },
   "source": [
    "**3. Посмотрим, есть ли зависимость между уровнем дохода и возвратом кредита в срок**"
   ]
  },
  {
   "cell_type": "code",
   "execution_count": 24,
   "id": "64dc40fd",
   "metadata": {
    "deletable": false,
    "id": "64dc40fd",
    "outputId": "3a61184b-480a-4075-b5eb-a33d4865e0d3",
    "scrolled": true
   },
   "outputs": [
    {
     "data": {
      "text/html": [
       "<div>\n",
       "<style scoped>\n",
       "    .dataframe tbody tr th:only-of-type {\n",
       "        vertical-align: middle;\n",
       "    }\n",
       "\n",
       "    .dataframe tbody tr th {\n",
       "        vertical-align: top;\n",
       "    }\n",
       "\n",
       "    .dataframe thead tr th {\n",
       "        text-align: left;\n",
       "    }\n",
       "\n",
       "    .dataframe thead tr:last-of-type th {\n",
       "        text-align: right;\n",
       "    }\n",
       "</style>\n",
       "<table border=\"1\" class=\"dataframe\">\n",
       "  <thead>\n",
       "    <tr>\n",
       "      <th></th>\n",
       "      <th>sum</th>\n",
       "      <th>count</th>\n",
       "      <th>percent</th>\n",
       "    </tr>\n",
       "    <tr>\n",
       "      <th></th>\n",
       "      <th>debt</th>\n",
       "      <th>debt</th>\n",
       "      <th>debt</th>\n",
       "    </tr>\n",
       "    <tr>\n",
       "      <th>total_income_category</th>\n",
       "      <th></th>\n",
       "      <th></th>\n",
       "      <th></th>\n",
       "    </tr>\n",
       "  </thead>\n",
       "  <tbody>\n",
       "    <tr>\n",
       "      <th>A</th>\n",
       "      <td>2</td>\n",
       "      <td>25</td>\n",
       "      <td>8.000000</td>\n",
       "    </tr>\n",
       "    <tr>\n",
       "      <th>B</th>\n",
       "      <td>354</td>\n",
       "      <td>5014</td>\n",
       "      <td>7.060231</td>\n",
       "    </tr>\n",
       "    <tr>\n",
       "      <th>C</th>\n",
       "      <td>1353</td>\n",
       "      <td>15921</td>\n",
       "      <td>8.498210</td>\n",
       "    </tr>\n",
       "    <tr>\n",
       "      <th>D</th>\n",
       "      <td>21</td>\n",
       "      <td>349</td>\n",
       "      <td>6.017192</td>\n",
       "    </tr>\n",
       "    <tr>\n",
       "      <th>E</th>\n",
       "      <td>2</td>\n",
       "      <td>22</td>\n",
       "      <td>9.090909</td>\n",
       "    </tr>\n",
       "  </tbody>\n",
       "</table>\n",
       "</div>"
      ],
      "text/plain": [
       "                        sum  count   percent\n",
       "                       debt   debt      debt\n",
       "total_income_category                       \n",
       "A                         2     25  8.000000\n",
       "B                       354   5014  7.060231\n",
       "C                      1353  15921  8.498210\n",
       "D                        21    349  6.017192\n",
       "E                         2     22  9.090909"
      ]
     },
     "execution_count": 24,
     "metadata": {},
     "output_type": "execute_result"
    }
   ],
   "source": [
    "def percent(data):\n",
    "    return data.sum() / data.count() * 100\n",
    "data_pivot2 = data.pivot_table(index=['total_income_category'], values='debt', aggfunc=['sum','count',percent])\n",
    "data_pivot2"
   ]
  },
  {
   "cell_type": "markdown",
   "id": "72850713",
   "metadata": {
    "deletable": false,
    "id": "72850713"
   },
   "source": [
    "**Вывод:**"
   ]
  },
  {
   "cell_type": "markdown",
   "id": "1e791495",
   "metadata": {
    "id": "1e791495"
   },
   "source": [
    " Самый большой процент неуплаты кредитов в срок у людей с доходом 50001–200000 - 8.49%\n",
    "Самый низкий процент неуплаты кредитов в срок у людей с доходом 200001–1000000 - 7.06%\n",
    "Брать в статистику другие группы уровней дохода мы не можем, так как слишком маленькая выборка, которая не будет являться достаточной для составления выводов."
   ]
  },
  {
   "cell_type": "markdown",
   "id": "42ba4692",
   "metadata": {
    "deletable": false,
    "editable": false,
    "id": "42ba4692"
   },
   "source": [
    "**4. Посмотрим, как разные цели кредита влияют на его возврат в срок**"
   ]
  },
  {
   "cell_type": "code",
   "execution_count": 25,
   "id": "c93e689f",
   "metadata": {
    "deletable": false,
    "id": "c93e689f",
    "outputId": "854d4757-97bd-45ab-b84b-36c41cacb1d6"
   },
   "outputs": [
    {
     "data": {
      "text/html": [
       "<div>\n",
       "<style scoped>\n",
       "    .dataframe tbody tr th:only-of-type {\n",
       "        vertical-align: middle;\n",
       "    }\n",
       "\n",
       "    .dataframe tbody tr th {\n",
       "        vertical-align: top;\n",
       "    }\n",
       "\n",
       "    .dataframe thead tr th {\n",
       "        text-align: left;\n",
       "    }\n",
       "\n",
       "    .dataframe thead tr:last-of-type th {\n",
       "        text-align: right;\n",
       "    }\n",
       "</style>\n",
       "<table border=\"1\" class=\"dataframe\">\n",
       "  <thead>\n",
       "    <tr>\n",
       "      <th></th>\n",
       "      <th>sum</th>\n",
       "      <th>count</th>\n",
       "      <th>percent</th>\n",
       "    </tr>\n",
       "    <tr>\n",
       "      <th></th>\n",
       "      <th>debt</th>\n",
       "      <th>debt</th>\n",
       "      <th>debt</th>\n",
       "    </tr>\n",
       "    <tr>\n",
       "      <th>purpose_category</th>\n",
       "      <th></th>\n",
       "      <th></th>\n",
       "      <th></th>\n",
       "    </tr>\n",
       "  </thead>\n",
       "  <tbody>\n",
       "    <tr>\n",
       "      <th>операции с автомобилем</th>\n",
       "      <td>400</td>\n",
       "      <td>4279</td>\n",
       "      <td>9.347978</td>\n",
       "    </tr>\n",
       "    <tr>\n",
       "      <th>операции с недвижимостью</th>\n",
       "      <td>780</td>\n",
       "      <td>10751</td>\n",
       "      <td>7.255139</td>\n",
       "    </tr>\n",
       "    <tr>\n",
       "      <th>получение образования</th>\n",
       "      <td>369</td>\n",
       "      <td>3988</td>\n",
       "      <td>9.252758</td>\n",
       "    </tr>\n",
       "    <tr>\n",
       "      <th>проведение свадьбы</th>\n",
       "      <td>183</td>\n",
       "      <td>2313</td>\n",
       "      <td>7.911803</td>\n",
       "    </tr>\n",
       "  </tbody>\n",
       "</table>\n",
       "</div>"
      ],
      "text/plain": [
       "                          sum  count   percent\n",
       "                         debt   debt      debt\n",
       "purpose_category                              \n",
       "операции с автомобилем    400   4279  9.347978\n",
       "операции с недвижимостью  780  10751  7.255139\n",
       "получение образования     369   3988  9.252758\n",
       "проведение свадьбы        183   2313  7.911803"
      ]
     },
     "execution_count": 25,
     "metadata": {},
     "output_type": "execute_result"
    }
   ],
   "source": [
    "def percent(data):\n",
    "    return data.sum() / data.count() * 100\n",
    "data_pivot3 = data.pivot_table(index=['purpose_category'], values='debt', aggfunc=['sum','count',percent])\n",
    "data_pivot3"
   ]
  },
  {
   "cell_type": "markdown",
   "id": "da067c6a",
   "metadata": {
    "deletable": false,
    "id": "da067c6a"
   },
   "source": [
    "**Вывод:**"
   ]
  },
  {
   "cell_type": "markdown",
   "id": "25fd2bca",
   "metadata": {
    "id": "25fd2bca"
   },
   "source": [
    "Чаще всего в срок возвращают кредиты взятые на недвижимость и проведение свадьбы, просрачивают чаще кредиты на автомобили и получение образования."
   ]
  },
  {
   "cell_type": "markdown",
   "id": "23eafee9",
   "metadata": {
    "deletable": false,
    "editable": false,
    "id": "23eafee9"
   },
   "source": [
    "**Возможные причины появления пропусков в исходных данных.**"
   ]
  },
  {
   "cell_type": "markdown",
   "id": "642662b0",
   "metadata": {
    "id": "642662b0"
   },
   "source": [
    "Скорее всего это был человеческий фактор, так как данные пропущены лишь в 2 столбцах с указанием общего трудового стажа и ежемесячного дохода. Возможно, у людей не было официального трудоустройства, они не предоставили справки с работы и потому эти данные не были внесены в таблицы."
   ]
  },
  {
   "cell_type": "markdown",
   "id": "4863bb36",
   "metadata": {
    "deletable": false,
    "editable": false,
    "id": "4863bb36"
   },
   "source": [
    "### Шаг 4: общий вывод."
   ]
  },
  {
   "cell_type": "markdown",
   "id": "fdbdafec",
   "metadata": {
    "id": "fdbdafec"
   },
   "source": [
    "\n",
    "Наиболее надежными заёмщиками для банка являются люди:\n",
    "- без детей, так как с ростом количества детей, вероятность неуплаты кредиты в срок так же возрастает.\n",
    "- вдовцы или же женатые, то есть клиенты, побывавшие в браке более ответственны к оплате кредитов в срок, чем свободные клиенты.\n",
    "- с доходом 200001–1000000, соответсвенно чем ниже доход, тем выше вероятность того, что клиент не будет возвращать долг во время.\n",
    "- берущие кредит на недвижимость или проведение свадьбы, кредиты на автомобили и получение образования чаще не возвращают в срок."
   ]
  }
 ],
 "metadata": {
  "ExecuteTimeLog": [
   {
    "duration": 42,
    "start_time": "2022-11-22T22:30:16.242Z"
   },
   {
    "duration": 483,
    "start_time": "2022-11-22T22:30:21.599Z"
   },
   {
    "duration": 20,
    "start_time": "2022-11-22T22:30:22.084Z"
   },
   {
    "duration": 24,
    "start_time": "2022-11-22T22:30:22.106Z"
   },
   {
    "duration": 10,
    "start_time": "2022-11-22T22:30:22.131Z"
   },
   {
    "duration": 34,
    "start_time": "2022-11-22T22:30:22.143Z"
   },
   {
    "duration": 3,
    "start_time": "2022-11-22T22:30:22.179Z"
   },
   {
    "duration": 10,
    "start_time": "2022-11-22T22:30:22.184Z"
   },
   {
    "duration": 27,
    "start_time": "2022-11-22T22:30:22.196Z"
   },
   {
    "duration": 9,
    "start_time": "2022-11-22T22:30:22.224Z"
   },
   {
    "duration": 4,
    "start_time": "2022-11-22T22:30:22.235Z"
   },
   {
    "duration": 45,
    "start_time": "2022-11-22T22:30:22.241Z"
   },
   {
    "duration": 34,
    "start_time": "2022-11-22T22:30:22.288Z"
   },
   {
    "duration": 4,
    "start_time": "2022-11-22T22:30:22.323Z"
   },
   {
    "duration": 17,
    "start_time": "2022-11-22T22:30:22.328Z"
   },
   {
    "duration": 22,
    "start_time": "2022-11-22T22:30:22.346Z"
   },
   {
    "duration": 19,
    "start_time": "2022-11-22T22:30:22.370Z"
   },
   {
    "duration": 4,
    "start_time": "2022-11-22T22:30:22.390Z"
   },
   {
    "duration": 9,
    "start_time": "2022-11-22T22:30:22.421Z"
   },
   {
    "duration": 10,
    "start_time": "2022-11-22T22:30:22.431Z"
   },
   {
    "duration": 7,
    "start_time": "2022-11-22T22:30:22.443Z"
   },
   {
    "duration": 15,
    "start_time": "2022-11-22T22:30:22.452Z"
   },
   {
    "duration": 9,
    "start_time": "2022-11-22T22:30:22.469Z"
   },
   {
    "duration": 3,
    "start_time": "2022-11-22T22:30:25.165Z"
   },
   {
    "duration": 8,
    "start_time": "2022-11-22T22:30:32.735Z"
   },
   {
    "duration": 6,
    "start_time": "2022-11-22T22:30:59.432Z"
   },
   {
    "duration": 8,
    "start_time": "2022-11-22T22:31:11.085Z"
   },
   {
    "duration": 7,
    "start_time": "2022-11-22T22:31:17.012Z"
   },
   {
    "duration": 6,
    "start_time": "2022-11-22T22:31:29.121Z"
   },
   {
    "duration": 28,
    "start_time": "2022-11-22T22:32:31.920Z"
   },
   {
    "duration": 13,
    "start_time": "2022-11-22T22:32:56.780Z"
   },
   {
    "duration": 581,
    "start_time": "2022-11-22T22:33:41.419Z"
   },
   {
    "duration": 570,
    "start_time": "2022-11-22T22:33:51.968Z"
   },
   {
    "duration": 528,
    "start_time": "2022-11-22T22:33:58.420Z"
   },
   {
    "duration": 551,
    "start_time": "2022-11-22T22:34:09.232Z"
   },
   {
    "duration": 15,
    "start_time": "2022-11-22T22:34:20.735Z"
   },
   {
    "duration": 28,
    "start_time": "2022-11-22T22:34:30.501Z"
   },
   {
    "duration": 16,
    "start_time": "2022-11-22T22:34:39.302Z"
   },
   {
    "duration": 17,
    "start_time": "2022-11-22T22:35:35.014Z"
   },
   {
    "duration": 3,
    "start_time": "2022-11-22T22:35:50.374Z"
   },
   {
    "duration": 13,
    "start_time": "2022-11-22T22:35:57.783Z"
   },
   {
    "duration": 17,
    "start_time": "2022-11-22T22:36:14.228Z"
   },
   {
    "duration": 19,
    "start_time": "2022-11-22T22:43:07.440Z"
   },
   {
    "duration": 14,
    "start_time": "2022-11-22T22:43:12.741Z"
   },
   {
    "duration": 12,
    "start_time": "2022-11-22T22:44:10.468Z"
   },
   {
    "duration": 14,
    "start_time": "2022-11-22T22:44:13.360Z"
   },
   {
    "duration": 18,
    "start_time": "2022-11-22T22:44:21.471Z"
   },
   {
    "duration": 27,
    "start_time": "2022-11-22T22:46:53.930Z"
   },
   {
    "duration": 27,
    "start_time": "2022-11-22T22:47:02.641Z"
   },
   {
    "duration": 39,
    "start_time": "2022-11-22T22:47:21.871Z"
   },
   {
    "duration": 42,
    "start_time": "2022-11-22T22:47:29.511Z"
   },
   {
    "duration": 51,
    "start_time": "2022-11-22T22:48:07.351Z"
   },
   {
    "duration": 41,
    "start_time": "2022-11-22T22:48:12.031Z"
   },
   {
    "duration": 50,
    "start_time": "2022-11-22T22:48:18.780Z"
   },
   {
    "duration": 70,
    "start_time": "2022-11-22T22:48:26.631Z"
   },
   {
    "duration": 14,
    "start_time": "2022-11-22T22:48:26.703Z"
   },
   {
    "duration": 26,
    "start_time": "2022-11-22T22:48:26.718Z"
   },
   {
    "duration": 9,
    "start_time": "2022-11-22T22:48:26.746Z"
   },
   {
    "duration": 31,
    "start_time": "2022-11-22T22:48:26.756Z"
   },
   {
    "duration": 3,
    "start_time": "2022-11-22T22:48:26.789Z"
   },
   {
    "duration": 9,
    "start_time": "2022-11-22T22:48:26.794Z"
   },
   {
    "duration": 17,
    "start_time": "2022-11-22T22:48:26.805Z"
   },
   {
    "duration": 8,
    "start_time": "2022-11-22T22:48:26.823Z"
   },
   {
    "duration": 6,
    "start_time": "2022-11-22T22:48:26.833Z"
   },
   {
    "duration": 34,
    "start_time": "2022-11-22T22:48:26.841Z"
   },
   {
    "duration": 13,
    "start_time": "2022-11-22T22:48:26.877Z"
   },
   {
    "duration": 3,
    "start_time": "2022-11-22T22:48:26.892Z"
   },
   {
    "duration": 38,
    "start_time": "2022-11-22T22:48:26.897Z"
   },
   {
    "duration": 26,
    "start_time": "2022-11-22T22:48:26.936Z"
   },
   {
    "duration": 16,
    "start_time": "2022-11-22T22:48:26.963Z"
   },
   {
    "duration": 4,
    "start_time": "2022-11-22T22:48:26.980Z"
   },
   {
    "duration": 38,
    "start_time": "2022-11-22T22:48:26.985Z"
   },
   {
    "duration": 8,
    "start_time": "2022-11-22T22:48:27.025Z"
   },
   {
    "duration": 6,
    "start_time": "2022-11-22T22:48:27.034Z"
   },
   {
    "duration": 13,
    "start_time": "2022-11-22T22:48:27.042Z"
   },
   {
    "duration": 44,
    "start_time": "2022-11-22T22:48:29.751Z"
   },
   {
    "duration": 28,
    "start_time": "2022-11-22T22:48:37.168Z"
   },
   {
    "duration": 5,
    "start_time": "2022-11-22T22:50:18.588Z"
   },
   {
    "duration": 8,
    "start_time": "2022-11-22T22:50:30.161Z"
   },
   {
    "duration": 8,
    "start_time": "2022-11-22T22:50:43.096Z"
   },
   {
    "duration": 9,
    "start_time": "2022-11-22T22:50:46.597Z"
   },
   {
    "duration": 30,
    "start_time": "2022-11-22T22:57:10.082Z"
   },
   {
    "duration": 32,
    "start_time": "2022-11-22T22:57:18.322Z"
   },
   {
    "duration": 51,
    "start_time": "2022-11-22T23:05:49.385Z"
   },
   {
    "duration": 25,
    "start_time": "2022-11-22T23:07:52.682Z"
   },
   {
    "duration": 29,
    "start_time": "2022-11-22T23:08:02.300Z"
   },
   {
    "duration": 28,
    "start_time": "2022-11-22T23:09:06.960Z"
   },
   {
    "duration": 34,
    "start_time": "2022-11-22T23:12:54.712Z"
   },
   {
    "duration": 492,
    "start_time": "2023-08-13T16:08:21.594Z"
   },
   {
    "duration": 33,
    "start_time": "2023-08-13T16:08:22.089Z"
   },
   {
    "duration": 20,
    "start_time": "2023-08-13T16:08:22.124Z"
   },
   {
    "duration": 17,
    "start_time": "2023-08-13T16:08:22.146Z"
   },
   {
    "duration": 34,
    "start_time": "2023-08-13T16:08:22.164Z"
   },
   {
    "duration": 4,
    "start_time": "2023-08-13T16:08:22.200Z"
   },
   {
    "duration": 10,
    "start_time": "2023-08-13T16:08:22.205Z"
   },
   {
    "duration": 5,
    "start_time": "2023-08-13T16:08:22.217Z"
   },
   {
    "duration": 35,
    "start_time": "2023-08-13T16:08:22.223Z"
   },
   {
    "duration": 5,
    "start_time": "2023-08-13T16:08:22.260Z"
   },
   {
    "duration": 35,
    "start_time": "2023-08-13T16:08:22.266Z"
   },
   {
    "duration": 10,
    "start_time": "2023-08-13T16:08:22.303Z"
   },
   {
    "duration": 8,
    "start_time": "2023-08-13T16:08:22.314Z"
   },
   {
    "duration": 35,
    "start_time": "2023-08-13T16:08:22.324Z"
   },
   {
    "duration": 22,
    "start_time": "2023-08-13T16:08:22.361Z"
   },
   {
    "duration": 18,
    "start_time": "2023-08-13T16:08:22.384Z"
   },
   {
    "duration": 4,
    "start_time": "2023-08-13T16:08:22.404Z"
   },
   {
    "duration": 13,
    "start_time": "2023-08-13T16:08:22.409Z"
   },
   {
    "duration": 33,
    "start_time": "2023-08-13T16:08:22.424Z"
   },
   {
    "duration": 4,
    "start_time": "2023-08-13T16:08:22.459Z"
   },
   {
    "duration": 13,
    "start_time": "2023-08-13T16:08:22.464Z"
   },
   {
    "duration": 33,
    "start_time": "2023-08-13T16:08:22.480Z"
   },
   {
    "duration": 52,
    "start_time": "2023-08-13T16:08:22.515Z"
   },
   {
    "duration": 31,
    "start_time": "2023-08-13T16:08:22.569Z"
   },
   {
    "duration": 31,
    "start_time": "2023-08-13T16:08:22.602Z"
   }
  ],
  "colab": {
   "provenance": []
  },
  "kernelspec": {
   "display_name": "Python 3 (ipykernel)",
   "language": "python",
   "name": "python3"
  },
  "language_info": {
   "codemirror_mode": {
    "name": "ipython",
    "version": 3
   },
   "file_extension": ".py",
   "mimetype": "text/x-python",
   "name": "python",
   "nbconvert_exporter": "python",
   "pygments_lexer": "ipython3",
   "version": "3.9.13"
  },
  "toc": {
   "base_numbering": 1,
   "nav_menu": {},
   "number_sections": true,
   "sideBar": true,
   "skip_h1_title": true,
   "title_cell": "Table of Contents",
   "title_sidebar": "Contents",
   "toc_cell": false,
   "toc_position": {},
   "toc_section_display": true,
   "toc_window_display": false
  }
 },
 "nbformat": 4,
 "nbformat_minor": 5
}
