{
 "cells": [
  {
   "cell_type": "markdown",
   "id": "26200889",
   "metadata": {},
   "source": [
    "# Исследование гипотез для увеличения выручки интернет-магазина\n",
    "Вы — аналитик крупного интернет-магазина. Вместе с отделом маркетинга вы подготовили список гипотез для увеличения выручки.\n",
    "Приоритизируйте гипотезы, запустите A/B-тест и проанализируйте результаты. \n",
    "\n",
    "### Цель исследования\n",
    "\n",
    "Запустить A/B-тест и по его результатам принять решение:\n",
    "Остановить тест, зафиксировать победу одной из групп.\n",
    "Остановить тест, зафиксировать отсутствие различий между группами.\n",
    "Продолжить тест.\n",
    "\n",
    "\n",
    "### Ход исследования\n",
    "\n",
    "1 часть.\n",
    "- Получить данные из датафреймов hypothesis.csv, orders.csv и visitors.csv, изучить их.\n",
    "- При необходимости обработать данные, заполнить пропуски, если такие имеются и это возможно, изменить типы данных, устранить дубликаты, по возможности найти причины и избавиться от аномальных значений.\n",
    "- Провести приоритизацию гипотез.\n",
    "\n",
    "2 часть.\n",
    "- Построить график кумулятивной выручки по группам.\n",
    "- Построить график кумулятивного среднего чека по группам.\n",
    "- Построить график относительного изменения кумулятивного среднего чека группы B к группе A. \n",
    "- Построит график кумулятивного среднего количества заказов на посетителя по группам. \n",
    "- Построить график относительного изменения кумулятивного среднего количества заказов на посетителя группы B к группе A. \n",
    "- Построить точечный график количества заказов по пользователям. \n",
    "- Посчитать 95-й и 99-й перцентили количества заказов на пользователя. Выбрать границу для определения аномальных пользователей.\n",
    "- Построить точечный график стоимостей заказов. \n",
    "- Посчитать 95-й и 99-й перцентили стоимости заказов. Выбрать границу для определения аномальных заказов.\n",
    "- Посчитать статистическую значимость различий в среднем количестве заказов на посетителя между группами по «сырым» данным. \n",
    "- Посчитать статистическую значимость различий в среднем чеке заказа между группами по «сырым» данным. \n",
    "- Посчитать статистическую значимость различий в среднем количестве заказов на посетителя между группами по «очищенным» данным. \n",
    "- Посчитать статистическую значимость различий в среднем чеке заказа между группами по «очищенным» данным.\n",
    "- Подвести итоги A/B-теста."
   ]
  },
  {
   "cell_type": "markdown",
   "id": "384d0707",
   "metadata": {},
   "source": [
    "### Описание данных\n",
    "Данные для первой части\n",
    "\n",
    "**Файл /datasets/hypothesis.csv**\n",
    "- Hypothesis — краткое описание гипотезы;\n",
    "- Reach — охват пользователей по 10-балльной шкале;\n",
    "- Impact — влияние на пользователей по 10-балльной шкале;\n",
    "- Confidence — уверенность в гипотезе по 10-балльной шкале;\n",
    "- Efforts — затраты ресурсов на проверку гипотезы по 10-балльной шкале. Чем больше значение Efforts, тем дороже проверка гипотезы.\n",
    "\n",
    "Данные для второй части\n",
    "\n",
    "**Файл /datasets/orders.csv**\n",
    "- transactionId — идентификатор заказа;\n",
    "- visitorId — идентификатор пользователя, совершившего заказ;\n",
    "- date — дата, когда был совершён заказ;\n",
    "- revenue — выручка заказа;\n",
    "- group — группа A/B-теста, в которую попал заказ.\n",
    "\n",
    "**Файл /datasets/visitors.csv**\n",
    "- date — дата;\n",
    "- group — группа A/B-теста;\n",
    "- visitors — количество пользователей в указанную дату в указанной группе A/B-теста"
   ]
  },
  {
   "cell_type": "markdown",
   "id": "1ebde018",
   "metadata": {},
   "source": [
    "### Шаг 1. Открытие файла с данными, изучение общей информации, подготовка данных для дальнейшего исследования"
   ]
  },
  {
   "cell_type": "code",
   "execution_count": 1,
   "id": "d60ebcda",
   "metadata": {},
   "outputs": [],
   "source": [
    "# Импортируем необходимые библиотеки\n",
    "import pandas as pd\n",
    "import matplotlib.pyplot as plt\n",
    "import seaborn as sns\n",
    "import numpy as np\n",
    "import missingno as msno\n",
    "import scipy.stats as stats\n",
    "from scipy import stats as st\n",
    "import datetime as dt\n",
    "import warnings\n",
    "warnings.filterwarnings(\"ignore\")\n",
    "pd.options.display.float_format = '{:,.2f}'.format"
   ]
  },
  {
   "cell_type": "code",
   "execution_count": 2,
   "id": "8d7d5f8e",
   "metadata": {},
   "outputs": [],
   "source": [
    "# Загружаем данные\n",
    "try:\n",
    "    hypothesis, orders, visitors = (\n",
    "        pd.read_csv('/datasets/hypothesis.csv'),  # гипотезы\n",
    "        pd.read_csv('/datasets/orders.csv'),  # заказы\n",
    "        pd.read_csv('/datasets/visitors.csv'),  # посетители\n",
    "    )\n",
    "except:\n",
    "    hypothesis, orders, visitors = (\n",
    "        pd.read_csv('C://work/hypothesis.csv'),  # гипотезы\n",
    "        pd.read_csv('C://work/orders.csv'),  # заказы\n",
    "        pd.read_csv('C://work/visitors.csv'),  # посетители\n",
    "    )"
   ]
  },
  {
   "cell_type": "code",
   "execution_count": 3,
   "id": "10fd17af",
   "metadata": {},
   "outputs": [
    {
     "name": "stdout",
     "output_type": "stream",
     "text": [
      "<class 'pandas.core.frame.DataFrame'>\n",
      "RangeIndex: 9 entries, 0 to 8\n",
      "Data columns (total 5 columns):\n",
      " #   Column      Non-Null Count  Dtype \n",
      "---  ------      --------------  ----- \n",
      " 0   Hypothesis  9 non-null      object\n",
      " 1   Reach       9 non-null      int64 \n",
      " 2   Impact      9 non-null      int64 \n",
      " 3   Confidence  9 non-null      int64 \n",
      " 4   Efforts     9 non-null      int64 \n",
      "dtypes: int64(4), object(1)\n",
      "memory usage: 488.0+ bytes\n"
     ]
    },
    {
     "data": {
      "text/html": [
       "<div>\n",
       "<style scoped>\n",
       "    .dataframe tbody tr th:only-of-type {\n",
       "        vertical-align: middle;\n",
       "    }\n",
       "\n",
       "    .dataframe tbody tr th {\n",
       "        vertical-align: top;\n",
       "    }\n",
       "\n",
       "    .dataframe thead th {\n",
       "        text-align: right;\n",
       "    }\n",
       "</style>\n",
       "<table border=\"1\" class=\"dataframe\">\n",
       "  <thead>\n",
       "    <tr style=\"text-align: right;\">\n",
       "      <th></th>\n",
       "      <th>Hypothesis</th>\n",
       "      <th>Reach</th>\n",
       "      <th>Impact</th>\n",
       "      <th>Confidence</th>\n",
       "      <th>Efforts</th>\n",
       "    </tr>\n",
       "  </thead>\n",
       "  <tbody>\n",
       "    <tr>\n",
       "      <th>0</th>\n",
       "      <td>Добавить два новых канала привлечения трафика, что позволит привлекать на 30% больше пользователей</td>\n",
       "      <td>3</td>\n",
       "      <td>10</td>\n",
       "      <td>8</td>\n",
       "      <td>6</td>\n",
       "    </tr>\n",
       "    <tr>\n",
       "      <th>1</th>\n",
       "      <td>Запустить собственную службу доставки, что сократит срок доставки заказов</td>\n",
       "      <td>2</td>\n",
       "      <td>5</td>\n",
       "      <td>4</td>\n",
       "      <td>10</td>\n",
       "    </tr>\n",
       "    <tr>\n",
       "      <th>2</th>\n",
       "      <td>Добавить блоки рекомендаций товаров на сайт интернет магазина, чтобы повысить конверсию и средний чек заказа</td>\n",
       "      <td>8</td>\n",
       "      <td>3</td>\n",
       "      <td>7</td>\n",
       "      <td>3</td>\n",
       "    </tr>\n",
       "    <tr>\n",
       "      <th>3</th>\n",
       "      <td>Изменить структура категорий, что увеличит конверсию, т.к. пользователи быстрее найдут нужный товар</td>\n",
       "      <td>8</td>\n",
       "      <td>3</td>\n",
       "      <td>3</td>\n",
       "      <td>8</td>\n",
       "    </tr>\n",
       "    <tr>\n",
       "      <th>4</th>\n",
       "      <td>Изменить цвет фона главной страницы, чтобы увеличить вовлеченность пользователей</td>\n",
       "      <td>3</td>\n",
       "      <td>1</td>\n",
       "      <td>1</td>\n",
       "      <td>1</td>\n",
       "    </tr>\n",
       "    <tr>\n",
       "      <th>5</th>\n",
       "      <td>Добавить страницу отзывов клиентов о магазине, что позволит увеличить количество заказов</td>\n",
       "      <td>3</td>\n",
       "      <td>2</td>\n",
       "      <td>2</td>\n",
       "      <td>3</td>\n",
       "    </tr>\n",
       "    <tr>\n",
       "      <th>6</th>\n",
       "      <td>Показать на главной странице баннеры с актуальными акциями и распродажами, чтобы увеличить конверсию</td>\n",
       "      <td>5</td>\n",
       "      <td>3</td>\n",
       "      <td>8</td>\n",
       "      <td>3</td>\n",
       "    </tr>\n",
       "    <tr>\n",
       "      <th>7</th>\n",
       "      <td>Добавить форму подписки на все основные страницы, чтобы собрать базу клиентов для email-рассылок</td>\n",
       "      <td>10</td>\n",
       "      <td>7</td>\n",
       "      <td>8</td>\n",
       "      <td>5</td>\n",
       "    </tr>\n",
       "    <tr>\n",
       "      <th>8</th>\n",
       "      <td>Запустить акцию, дающую скидку на товар в день рождения</td>\n",
       "      <td>1</td>\n",
       "      <td>9</td>\n",
       "      <td>9</td>\n",
       "      <td>5</td>\n",
       "    </tr>\n",
       "  </tbody>\n",
       "</table>\n",
       "</div>"
      ],
      "text/plain": [
       "                                                                                                     Hypothesis  \\\n",
       "0            Добавить два новых канала привлечения трафика, что позволит привлекать на 30% больше пользователей   \n",
       "1                                     Запустить собственную службу доставки, что сократит срок доставки заказов   \n",
       "2  Добавить блоки рекомендаций товаров на сайт интернет магазина, чтобы повысить конверсию и средний чек заказа   \n",
       "3           Изменить структура категорий, что увеличит конверсию, т.к. пользователи быстрее найдут нужный товар   \n",
       "4                              Изменить цвет фона главной страницы, чтобы увеличить вовлеченность пользователей   \n",
       "5                      Добавить страницу отзывов клиентов о магазине, что позволит увеличить количество заказов   \n",
       "6          Показать на главной странице баннеры с актуальными акциями и распродажами, чтобы увеличить конверсию   \n",
       "7              Добавить форму подписки на все основные страницы, чтобы собрать базу клиентов для email-рассылок   \n",
       "8                                                       Запустить акцию, дающую скидку на товар в день рождения   \n",
       "\n",
       "   Reach  Impact  Confidence  Efforts  \n",
       "0      3      10           8        6  \n",
       "1      2       5           4       10  \n",
       "2      8       3           7        3  \n",
       "3      8       3           3        8  \n",
       "4      3       1           1        1  \n",
       "5      3       2           2        3  \n",
       "6      5       3           8        3  \n",
       "7     10       7           8        5  \n",
       "8      1       9           9        5  "
      ]
     },
     "execution_count": 3,
     "metadata": {},
     "output_type": "execute_result"
    }
   ],
   "source": [
    "#изучим информацию и посмотрим файл hypothesis.csv\n",
    "pd.set_option(\"max_colwidth\", 200)\n",
    "hypothesis.info()\n",
    "hypothesis.head(10)"
   ]
  },
  {
   "cell_type": "code",
   "execution_count": 4,
   "id": "e467cb0c",
   "metadata": {},
   "outputs": [],
   "source": [
    "# Изменяем регистр с помощью метода str.lower()\n",
    "hypothesis.columns = hypothesis.columns.str.lower()"
   ]
  },
  {
   "cell_type": "code",
   "execution_count": 5,
   "id": "eff569e0",
   "metadata": {},
   "outputs": [
    {
     "data": {
      "text/plain": [
       "0"
      ]
     },
     "execution_count": 5,
     "metadata": {},
     "output_type": "execute_result"
    }
   ],
   "source": [
    "#посмотрим пропуски\n",
    "hypothesis.duplicated().sum()"
   ]
  },
  {
   "cell_type": "code",
   "execution_count": 6,
   "id": "808f87cc",
   "metadata": {},
   "outputs": [
    {
     "data": {
      "text/plain": [
       "hypothesis    0\n",
       "reach         0\n",
       "impact        0\n",
       "confidence    0\n",
       "efforts       0\n",
       "dtype: int64"
      ]
     },
     "execution_count": 6,
     "metadata": {},
     "output_type": "execute_result"
    }
   ],
   "source": [
    "# Подсчитываем количество пропусков в столбцах\n",
    "hypothesis.isnull().sum()"
   ]
  },
  {
   "cell_type": "code",
   "execution_count": 7,
   "id": "b749e8ee",
   "metadata": {
    "scrolled": true
   },
   "outputs": [
    {
     "name": "stdout",
     "output_type": "stream",
     "text": [
      "<class 'pandas.core.frame.DataFrame'>\n",
      "RangeIndex: 1197 entries, 0 to 1196\n",
      "Data columns (total 5 columns):\n",
      " #   Column         Non-Null Count  Dtype \n",
      "---  ------         --------------  ----- \n",
      " 0   transactionId  1197 non-null   int64 \n",
      " 1   visitorId      1197 non-null   int64 \n",
      " 2   date           1197 non-null   object\n",
      " 3   revenue        1197 non-null   int64 \n",
      " 4   group          1197 non-null   object\n",
      "dtypes: int64(3), object(2)\n",
      "memory usage: 46.9+ KB\n"
     ]
    },
    {
     "data": {
      "text/html": [
       "<div>\n",
       "<style scoped>\n",
       "    .dataframe tbody tr th:only-of-type {\n",
       "        vertical-align: middle;\n",
       "    }\n",
       "\n",
       "    .dataframe tbody tr th {\n",
       "        vertical-align: top;\n",
       "    }\n",
       "\n",
       "    .dataframe thead th {\n",
       "        text-align: right;\n",
       "    }\n",
       "</style>\n",
       "<table border=\"1\" class=\"dataframe\">\n",
       "  <thead>\n",
       "    <tr style=\"text-align: right;\">\n",
       "      <th></th>\n",
       "      <th>transactionId</th>\n",
       "      <th>visitorId</th>\n",
       "      <th>date</th>\n",
       "      <th>revenue</th>\n",
       "      <th>group</th>\n",
       "    </tr>\n",
       "  </thead>\n",
       "  <tbody>\n",
       "    <tr>\n",
       "      <th>0</th>\n",
       "      <td>3667963787</td>\n",
       "      <td>3312258926</td>\n",
       "      <td>2019-08-15</td>\n",
       "      <td>1650</td>\n",
       "      <td>B</td>\n",
       "    </tr>\n",
       "    <tr>\n",
       "      <th>1</th>\n",
       "      <td>2804400009</td>\n",
       "      <td>3642806036</td>\n",
       "      <td>2019-08-15</td>\n",
       "      <td>730</td>\n",
       "      <td>B</td>\n",
       "    </tr>\n",
       "    <tr>\n",
       "      <th>2</th>\n",
       "      <td>2961555356</td>\n",
       "      <td>4069496402</td>\n",
       "      <td>2019-08-15</td>\n",
       "      <td>400</td>\n",
       "      <td>A</td>\n",
       "    </tr>\n",
       "    <tr>\n",
       "      <th>3</th>\n",
       "      <td>3797467345</td>\n",
       "      <td>1196621759</td>\n",
       "      <td>2019-08-15</td>\n",
       "      <td>9759</td>\n",
       "      <td>B</td>\n",
       "    </tr>\n",
       "    <tr>\n",
       "      <th>4</th>\n",
       "      <td>2282983706</td>\n",
       "      <td>2322279887</td>\n",
       "      <td>2019-08-15</td>\n",
       "      <td>2308</td>\n",
       "      <td>B</td>\n",
       "    </tr>\n",
       "  </tbody>\n",
       "</table>\n",
       "</div>"
      ],
      "text/plain": [
       "   transactionId   visitorId        date  revenue group\n",
       "0     3667963787  3312258926  2019-08-15     1650     B\n",
       "1     2804400009  3642806036  2019-08-15      730     B\n",
       "2     2961555356  4069496402  2019-08-15      400     A\n",
       "3     3797467345  1196621759  2019-08-15     9759     B\n",
       "4     2282983706  2322279887  2019-08-15     2308     B"
      ]
     },
     "execution_count": 7,
     "metadata": {},
     "output_type": "execute_result"
    }
   ],
   "source": [
    "#изучим информацию и первые 5 строк файла orders.csv\n",
    "orders.info()\n",
    "orders.head()"
   ]
  },
  {
   "cell_type": "code",
   "execution_count": 8,
   "id": "e8e626b2",
   "metadata": {},
   "outputs": [],
   "source": [
    "# Изменяем регистр с помощью метода str.lower()\n",
    "orders.columns = orders.columns.str.lower()"
   ]
  },
  {
   "cell_type": "code",
   "execution_count": 9,
   "id": "81c6751c",
   "metadata": {},
   "outputs": [],
   "source": [
    "#изменим тип данных столбца date\n",
    "orders['date'] = pd.to_datetime(orders['date'])"
   ]
  },
  {
   "cell_type": "code",
   "execution_count": 10,
   "id": "737b423f",
   "metadata": {},
   "outputs": [
    {
     "data": {
      "text/plain": [
       "0"
      ]
     },
     "execution_count": 10,
     "metadata": {},
     "output_type": "execute_result"
    }
   ],
   "source": [
    "#посмотрим пропуски\n",
    "orders.duplicated().sum()"
   ]
  },
  {
   "cell_type": "code",
   "execution_count": 11,
   "id": "1586e6fa",
   "metadata": {},
   "outputs": [
    {
     "data": {
      "text/plain": [
       "transactionid    0\n",
       "visitorid        0\n",
       "date             0\n",
       "revenue          0\n",
       "group            0\n",
       "dtype: int64"
      ]
     },
     "execution_count": 11,
     "metadata": {},
     "output_type": "execute_result"
    }
   ],
   "source": [
    "# Подсчитываем количество пропусков в столбцах\n",
    "orders.isnull().sum()"
   ]
  },
  {
   "cell_type": "code",
   "execution_count": 12,
   "id": "59372660",
   "metadata": {},
   "outputs": [
    {
     "name": "stdout",
     "output_type": "stream",
     "text": [
      "<class 'pandas.core.frame.DataFrame'>\n",
      "RangeIndex: 62 entries, 0 to 61\n",
      "Data columns (total 3 columns):\n",
      " #   Column    Non-Null Count  Dtype \n",
      "---  ------    --------------  ----- \n",
      " 0   date      62 non-null     object\n",
      " 1   group     62 non-null     object\n",
      " 2   visitors  62 non-null     int64 \n",
      "dtypes: int64(1), object(2)\n",
      "memory usage: 1.6+ KB\n"
     ]
    },
    {
     "data": {
      "text/html": [
       "<div>\n",
       "<style scoped>\n",
       "    .dataframe tbody tr th:only-of-type {\n",
       "        vertical-align: middle;\n",
       "    }\n",
       "\n",
       "    .dataframe tbody tr th {\n",
       "        vertical-align: top;\n",
       "    }\n",
       "\n",
       "    .dataframe thead th {\n",
       "        text-align: right;\n",
       "    }\n",
       "</style>\n",
       "<table border=\"1\" class=\"dataframe\">\n",
       "  <thead>\n",
       "    <tr style=\"text-align: right;\">\n",
       "      <th></th>\n",
       "      <th>date</th>\n",
       "      <th>group</th>\n",
       "      <th>visitors</th>\n",
       "    </tr>\n",
       "  </thead>\n",
       "  <tbody>\n",
       "    <tr>\n",
       "      <th>0</th>\n",
       "      <td>2019-08-01</td>\n",
       "      <td>A</td>\n",
       "      <td>719</td>\n",
       "    </tr>\n",
       "    <tr>\n",
       "      <th>1</th>\n",
       "      <td>2019-08-02</td>\n",
       "      <td>A</td>\n",
       "      <td>619</td>\n",
       "    </tr>\n",
       "    <tr>\n",
       "      <th>2</th>\n",
       "      <td>2019-08-03</td>\n",
       "      <td>A</td>\n",
       "      <td>507</td>\n",
       "    </tr>\n",
       "    <tr>\n",
       "      <th>3</th>\n",
       "      <td>2019-08-04</td>\n",
       "      <td>A</td>\n",
       "      <td>717</td>\n",
       "    </tr>\n",
       "    <tr>\n",
       "      <th>4</th>\n",
       "      <td>2019-08-05</td>\n",
       "      <td>A</td>\n",
       "      <td>756</td>\n",
       "    </tr>\n",
       "  </tbody>\n",
       "</table>\n",
       "</div>"
      ],
      "text/plain": [
       "         date group  visitors\n",
       "0  2019-08-01     A       719\n",
       "1  2019-08-02     A       619\n",
       "2  2019-08-03     A       507\n",
       "3  2019-08-04     A       717\n",
       "4  2019-08-05     A       756"
      ]
     },
     "execution_count": 12,
     "metadata": {},
     "output_type": "execute_result"
    }
   ],
   "source": [
    "#изучим информацию и первые 5 строк файла visitors.csv\n",
    "visitors.info()\n",
    "visitors.head()"
   ]
  },
  {
   "cell_type": "code",
   "execution_count": 13,
   "id": "96ab0fa0",
   "metadata": {},
   "outputs": [],
   "source": [
    "#изменим тип данных столбца date\n",
    "visitors['date'] = pd.to_datetime(visitors['date'])"
   ]
  },
  {
   "cell_type": "code",
   "execution_count": 14,
   "id": "cbd6e40b",
   "metadata": {},
   "outputs": [
    {
     "data": {
      "text/plain": [
       "0"
      ]
     },
     "execution_count": 14,
     "metadata": {},
     "output_type": "execute_result"
    }
   ],
   "source": [
    "#посмотрим пропуски\n",
    "visitors.duplicated().sum()"
   ]
  },
  {
   "cell_type": "code",
   "execution_count": 15,
   "id": "60b1521c",
   "metadata": {},
   "outputs": [
    {
     "data": {
      "text/plain": [
       "date        0\n",
       "group       0\n",
       "visitors    0\n",
       "dtype: int64"
      ]
     },
     "execution_count": 15,
     "metadata": {},
     "output_type": "execute_result"
    }
   ],
   "source": [
    "# Подсчитываем количество пропусков в столбцах\n",
    "visitors.isnull().sum()"
   ]
  },
  {
   "cell_type": "code",
   "execution_count": 16,
   "id": "66884b9a",
   "metadata": {},
   "outputs": [
    {
     "name": "stdout",
     "output_type": "stream",
     "text": [
      "Дата начала тестирования: 2019-08-01 00:00:00\n",
      "Дата окончания тестирования: 2019-08-31 00:00:00\n"
     ]
    }
   ],
   "source": [
    "print('Дата начала тестирования:', orders['date'].min())\n",
    "print('Дата окончания тестирования:', orders['date'].max())"
   ]
  },
  {
   "cell_type": "markdown",
   "id": "ef6d64e4",
   "metadata": {},
   "source": [
    "<font color='#006957'><b>ВЫВОД</b></font>\n",
    "\n",
    "В ходе предобработки данных:\n",
    "- заменили названия столбцов в датасете hypothesis, orders (привели к нижнему регистру)\n",
    "- изменили тип данных в колонках, содержаших информацию о датах\n",
    "- пропуски не обнаружены\n",
    "- дубликаты не обнаружены"
   ]
  },
  {
   "cell_type": "markdown",
   "id": "0d4eede8",
   "metadata": {},
   "source": [
    "Перед тем как начать A/B-тест проверим:"
   ]
  },
  {
   "cell_type": "markdown",
   "id": "ad8ff86e",
   "metadata": {},
   "source": [
    "сколько у нас групп в А/В тесте:"
   ]
  },
  {
   "cell_type": "code",
   "execution_count": 17,
   "id": "adacd44f",
   "metadata": {},
   "outputs": [
    {
     "name": "stdout",
     "output_type": "stream",
     "text": [
      "Количество групп =  2\n"
     ]
    }
   ],
   "source": [
    "print(\"Количество групп = \", len(set(orders['group'])))"
   ]
  },
  {
   "cell_type": "markdown",
   "id": "f32ad32f",
   "metadata": {},
   "source": [
    "Проводим парный A/B тест."
   ]
  },
  {
   "cell_type": "markdown",
   "id": "275f418d",
   "metadata": {},
   "source": [
    "Количество пользователей в различных группах различается не более, чем на 1%;"
   ]
  },
  {
   "cell_type": "code",
   "execution_count": 18,
   "id": "90f42ee4",
   "metadata": {},
   "outputs": [
    {
     "name": "stdout",
     "output_type": "stream",
     "text": [
      "Количество участников группы А =  503\n",
      "Количество участников группы B =  586\n",
      "Разница между количеством участников в % =  14.163822525597269\n"
     ]
    }
   ],
   "source": [
    "# посмотрим, сколько участников в каждой группе\n",
    "group_a = orders.query('group == \"A\"')\n",
    "group_b = orders.query('group == \"B\"') \n",
    "print(\"Количество участников группы А = \", len(set(group_a['visitorid'])))\n",
    "print(\"Количество участников группы B = \", len(set(group_b['visitorid'])))\n",
    "print(\"Разница между количеством участников в % = \", ((len(set(group_b['visitorid'])))-len(set(group_a['visitorid'])))/len(set(group_b['visitorid']))*100)"
   ]
  },
  {
   "cell_type": "markdown",
   "id": "00a0f2a8",
   "metadata": {},
   "source": [
    "Разница между количеством участников 14,16%, что больше 1%. Различие более одного процента в продажах, это допустимо, ведь мы это и проверяем, подействовали ли наши изменения на продажи."
   ]
  },
  {
   "cell_type": "code",
   "execution_count": 19,
   "id": "0b565891",
   "metadata": {},
   "outputs": [
    {
     "name": "stdout",
     "output_type": "stream",
     "text": [
      "Количество участников в группах а и b одновременно =  58\n"
     ]
    }
   ],
   "source": [
    "# посмотрим, сколько пользователей попало в обе группы\n",
    "group_a_b=list(np.intersect1d(group_a['visitorid'], group_b['visitorid']))\n",
    "print(\"Количество участников в группах а и b одновременно = \", len(group_a_b))"
   ]
  },
  {
   "cell_type": "markdown",
   "id": "3d63b885",
   "metadata": {},
   "source": [
    "Удаление может сказаться не совсем корректно, ведь мы не можем выявить данных пользователей в данных visitors, поэтому мы можем принять решение, оставить данных пользователей в обоих группах."
   ]
  },
  {
   "cell_type": "markdown",
   "id": "0e4f8192",
   "metadata": {},
   "source": [
    "### Шаг 2. Приоритизация гипотез"
   ]
  },
  {
   "cell_type": "markdown",
   "id": "08b617c3",
   "metadata": {},
   "source": [
    "**Задача**\n",
    "- Примените фреймворк ICE для приоритизации гипотез. Отсортируйте их по убыванию приоритета.\n",
    "- Примените фреймворк RICE для приоритизации гипотез. Отсортируйте их по убыванию приоритета.\n",
    "- Укажите, как изменилась приоритизация гипотез при применении RICE вместо ICE. Объясните, почему так произошло."
   ]
  },
  {
   "cell_type": "markdown",
   "id": "5084d807",
   "metadata": {},
   "source": [
    "Проверка гипотез чаще всего стоит дорого, а ресурсов не хватает. Придётся выбрать, что будем тестировать, а чему скажем «нет». Чтобы максимизировать ожидаемое улучшение ключевых метрик бизнеса, сформулированные гипотезы приоритизируем его методом ICE и его модификацией RICE."
   ]
  },
  {
   "cell_type": "markdown",
   "id": "bc5bf8d6",
   "metadata": {},
   "source": [
    "ICE (от англ. impact, confidence, effort / ease «влияние, уверенность, усилия / простота») — один из самых популярных способов приоритизации задач, считается как:\n",
    "\n",
    "`ICE = impact * confidence * efforts `"
   ]
  },
  {
   "cell_type": "code",
   "execution_count": 20,
   "id": "25cd8809",
   "metadata": {},
   "outputs": [
    {
     "data": {
      "text/html": [
       "<div>\n",
       "<style scoped>\n",
       "    .dataframe tbody tr th:only-of-type {\n",
       "        vertical-align: middle;\n",
       "    }\n",
       "\n",
       "    .dataframe tbody tr th {\n",
       "        vertical-align: top;\n",
       "    }\n",
       "\n",
       "    .dataframe thead th {\n",
       "        text-align: right;\n",
       "    }\n",
       "</style>\n",
       "<table border=\"1\" class=\"dataframe\">\n",
       "  <thead>\n",
       "    <tr style=\"text-align: right;\">\n",
       "      <th></th>\n",
       "      <th>hypothesis</th>\n",
       "      <th>ICE</th>\n",
       "    </tr>\n",
       "  </thead>\n",
       "  <tbody>\n",
       "    <tr>\n",
       "      <th>8</th>\n",
       "      <td>Запустить акцию, дающую скидку на товар в день рождения</td>\n",
       "      <td>16.20</td>\n",
       "    </tr>\n",
       "    <tr>\n",
       "      <th>0</th>\n",
       "      <td>Добавить два новых канала привлечения трафика, что позволит привлекать на 30% больше пользователей</td>\n",
       "      <td>13.33</td>\n",
       "    </tr>\n",
       "    <tr>\n",
       "      <th>7</th>\n",
       "      <td>Добавить форму подписки на все основные страницы, чтобы собрать базу клиентов для email-рассылок</td>\n",
       "      <td>11.20</td>\n",
       "    </tr>\n",
       "    <tr>\n",
       "      <th>6</th>\n",
       "      <td>Показать на главной странице баннеры с актуальными акциями и распродажами, чтобы увеличить конверсию</td>\n",
       "      <td>8.00</td>\n",
       "    </tr>\n",
       "    <tr>\n",
       "      <th>2</th>\n",
       "      <td>Добавить блоки рекомендаций товаров на сайт интернет магазина, чтобы повысить конверсию и средний чек заказа</td>\n",
       "      <td>7.00</td>\n",
       "    </tr>\n",
       "    <tr>\n",
       "      <th>1</th>\n",
       "      <td>Запустить собственную службу доставки, что сократит срок доставки заказов</td>\n",
       "      <td>2.00</td>\n",
       "    </tr>\n",
       "    <tr>\n",
       "      <th>5</th>\n",
       "      <td>Добавить страницу отзывов клиентов о магазине, что позволит увеличить количество заказов</td>\n",
       "      <td>1.33</td>\n",
       "    </tr>\n",
       "    <tr>\n",
       "      <th>3</th>\n",
       "      <td>Изменить структура категорий, что увеличит конверсию, т.к. пользователи быстрее найдут нужный товар</td>\n",
       "      <td>1.12</td>\n",
       "    </tr>\n",
       "    <tr>\n",
       "      <th>4</th>\n",
       "      <td>Изменить цвет фона главной страницы, чтобы увеличить вовлеченность пользователей</td>\n",
       "      <td>1.00</td>\n",
       "    </tr>\n",
       "  </tbody>\n",
       "</table>\n",
       "</div>"
      ],
      "text/plain": [
       "                                                                                                     hypothesis  \\\n",
       "8                                                       Запустить акцию, дающую скидку на товар в день рождения   \n",
       "0            Добавить два новых канала привлечения трафика, что позволит привлекать на 30% больше пользователей   \n",
       "7              Добавить форму подписки на все основные страницы, чтобы собрать базу клиентов для email-рассылок   \n",
       "6          Показать на главной странице баннеры с актуальными акциями и распродажами, чтобы увеличить конверсию   \n",
       "2  Добавить блоки рекомендаций товаров на сайт интернет магазина, чтобы повысить конверсию и средний чек заказа   \n",
       "1                                     Запустить собственную службу доставки, что сократит срок доставки заказов   \n",
       "5                      Добавить страницу отзывов клиентов о магазине, что позволит увеличить количество заказов   \n",
       "3           Изменить структура категорий, что увеличит конверсию, т.к. пользователи быстрее найдут нужный товар   \n",
       "4                              Изменить цвет фона главной страницы, чтобы увеличить вовлеченность пользователей   \n",
       "\n",
       "    ICE  \n",
       "8 16.20  \n",
       "0 13.33  \n",
       "7 11.20  \n",
       "6  8.00  \n",
       "2  7.00  \n",
       "1  2.00  \n",
       "5  1.33  \n",
       "3  1.12  \n",
       "4  1.00  "
      ]
     },
     "execution_count": 20,
     "metadata": {},
     "output_type": "execute_result"
    }
   ],
   "source": [
    "#Применим фреймворк ICE для приоритизации гипотез. Отсортируем их по убыванию приоритета.\n",
    "hypothesis['ICE'] = hypothesis['impact'] * hypothesis['confidence'] /hypothesis['efforts']\n",
    "hypothesis[['hypothesis', 'ICE']].sort_values(by='ICE', ascending=False)"
   ]
  },
  {
   "cell_type": "markdown",
   "id": "99b33700",
   "metadata": {},
   "source": [
    "Наиболее перспективные гипотезы по ICE: 8, 0, 7. "
   ]
  },
  {
   "cell_type": "markdown",
   "id": "163cc50f",
   "metadata": {},
   "source": [
    "RICE (от англ. impact, confidence, effort / ease «влияние, уверенность, усилия / простота») — один из самых популярных способов приоритизации задач, считается как:\n",
    "\n",
    "`RICE = reach * impact * confidence / efforts `"
   ]
  },
  {
   "cell_type": "code",
   "execution_count": 21,
   "id": "387b94c9",
   "metadata": {},
   "outputs": [
    {
     "data": {
      "text/html": [
       "<div>\n",
       "<style scoped>\n",
       "    .dataframe tbody tr th:only-of-type {\n",
       "        vertical-align: middle;\n",
       "    }\n",
       "\n",
       "    .dataframe tbody tr th {\n",
       "        vertical-align: top;\n",
       "    }\n",
       "\n",
       "    .dataframe thead th {\n",
       "        text-align: right;\n",
       "    }\n",
       "</style>\n",
       "<table border=\"1\" class=\"dataframe\">\n",
       "  <thead>\n",
       "    <tr style=\"text-align: right;\">\n",
       "      <th></th>\n",
       "      <th>hypothesis</th>\n",
       "      <th>RICE</th>\n",
       "    </tr>\n",
       "  </thead>\n",
       "  <tbody>\n",
       "    <tr>\n",
       "      <th>7</th>\n",
       "      <td>Добавить форму подписки на все основные страницы, чтобы собрать базу клиентов для email-рассылок</td>\n",
       "      <td>112.00</td>\n",
       "    </tr>\n",
       "    <tr>\n",
       "      <th>2</th>\n",
       "      <td>Добавить блоки рекомендаций товаров на сайт интернет магазина, чтобы повысить конверсию и средний чек заказа</td>\n",
       "      <td>56.00</td>\n",
       "    </tr>\n",
       "    <tr>\n",
       "      <th>0</th>\n",
       "      <td>Добавить два новых канала привлечения трафика, что позволит привлекать на 30% больше пользователей</td>\n",
       "      <td>40.00</td>\n",
       "    </tr>\n",
       "    <tr>\n",
       "      <th>6</th>\n",
       "      <td>Показать на главной странице баннеры с актуальными акциями и распродажами, чтобы увеличить конверсию</td>\n",
       "      <td>40.00</td>\n",
       "    </tr>\n",
       "    <tr>\n",
       "      <th>8</th>\n",
       "      <td>Запустить акцию, дающую скидку на товар в день рождения</td>\n",
       "      <td>16.20</td>\n",
       "    </tr>\n",
       "    <tr>\n",
       "      <th>3</th>\n",
       "      <td>Изменить структура категорий, что увеличит конверсию, т.к. пользователи быстрее найдут нужный товар</td>\n",
       "      <td>9.00</td>\n",
       "    </tr>\n",
       "    <tr>\n",
       "      <th>1</th>\n",
       "      <td>Запустить собственную службу доставки, что сократит срок доставки заказов</td>\n",
       "      <td>4.00</td>\n",
       "    </tr>\n",
       "    <tr>\n",
       "      <th>5</th>\n",
       "      <td>Добавить страницу отзывов клиентов о магазине, что позволит увеличить количество заказов</td>\n",
       "      <td>4.00</td>\n",
       "    </tr>\n",
       "    <tr>\n",
       "      <th>4</th>\n",
       "      <td>Изменить цвет фона главной страницы, чтобы увеличить вовлеченность пользователей</td>\n",
       "      <td>3.00</td>\n",
       "    </tr>\n",
       "  </tbody>\n",
       "</table>\n",
       "</div>"
      ],
      "text/plain": [
       "                                                                                                     hypothesis  \\\n",
       "7              Добавить форму подписки на все основные страницы, чтобы собрать базу клиентов для email-рассылок   \n",
       "2  Добавить блоки рекомендаций товаров на сайт интернет магазина, чтобы повысить конверсию и средний чек заказа   \n",
       "0            Добавить два новых канала привлечения трафика, что позволит привлекать на 30% больше пользователей   \n",
       "6          Показать на главной странице баннеры с актуальными акциями и распродажами, чтобы увеличить конверсию   \n",
       "8                                                       Запустить акцию, дающую скидку на товар в день рождения   \n",
       "3           Изменить структура категорий, что увеличит конверсию, т.к. пользователи быстрее найдут нужный товар   \n",
       "1                                     Запустить собственную службу доставки, что сократит срок доставки заказов   \n",
       "5                      Добавить страницу отзывов клиентов о магазине, что позволит увеличить количество заказов   \n",
       "4                              Изменить цвет фона главной страницы, чтобы увеличить вовлеченность пользователей   \n",
       "\n",
       "    RICE  \n",
       "7 112.00  \n",
       "2  56.00  \n",
       "0  40.00  \n",
       "6  40.00  \n",
       "8  16.20  \n",
       "3   9.00  \n",
       "1   4.00  \n",
       "5   4.00  \n",
       "4   3.00  "
      ]
     },
     "execution_count": 21,
     "metadata": {},
     "output_type": "execute_result"
    }
   ],
   "source": [
    "#Применим фреймворк RICE для приоритизации гипотез. Отсортируем их по убыванию приоритета.\n",
    "hypothesis['RICE'] = hypothesis['reach']*hypothesis['impact'] * hypothesis['confidence'] /hypothesis['efforts']\n",
    "hypothesis[['hypothesis', 'RICE']].sort_values(by='RICE', ascending=False)"
   ]
  },
  {
   "cell_type": "markdown",
   "id": "078f77fc",
   "metadata": {},
   "source": [
    "Наиболее перспективные гипотезы по RICE: 7, 2, 0. Так получилось, потому что параметр Reach у гипотез 7,2 равен 10,8 соответсвенно. А 8 гипотеза даже не попала в топ 3, так как оценка количества пользователей, которых затронет изменения от этой гипотезы равна 1."
   ]
  },
  {
   "cell_type": "markdown",
   "id": "0bfb058e",
   "metadata": {},
   "source": [
    "<font color='#006957'><b>ВЫВОД</b></font>\n",
    "\n",
    "Результаты несколько разнятся. Это связано с тем, что RICE учитывает оценку количества пользователей, которых затронут изменения и чем их больше, тем приоритет гипотезы выше. Для ICE этот критерий не учитывается.\n",
    "\n",
    "Стоит отметить, что в обоих случаях можно выделить приоритетными гипотезы под номерами 7, 0, 6. Несмотря на то, что их приоритет разнится при оценке разными фреймворками, в обоих случаях они вверху нашего \"рейтинга\". Гипотезы же 4, 5, 3, 1 в обоих случаях имеют низкий приоритет.\n"
   ]
  },
  {
   "cell_type": "markdown",
   "id": "86c02305",
   "metadata": {},
   "source": [
    "### Шаг 3. Анализ A/B-теста"
   ]
  },
  {
   "cell_type": "markdown",
   "id": "ba75420a",
   "metadata": {},
   "source": [
    "1. Постройте график кумулятивной выручки по группам. Сделайте выводы и предположения."
   ]
  },
  {
   "cell_type": "markdown",
   "id": "e4ba6414",
   "metadata": {},
   "source": [
    "Чтобы построить графики, нужно собрать кумулятивные данные. Объявим датафрейм cumulativeData со столбцами: \n",
    "- date — дата;\n",
    "- group — группа A/B-теста (A или B);\n",
    "- orders — кумулятивное количество заказов на указанную дату в указанной группе;\n",
    "- buyers — кумулятивное количество пользователей, совершивших хотя бы один заказ, на указанную дату в указанной группе;\n",
    "- revenue — кумулятивная выручка на указанную дату в указанной группе (средний чек);\n",
    "- visitors — кумулятивное количество посетителей интернет-магазина на указанную дату в определённой группе."
   ]
  },
  {
   "cell_type": "code",
   "execution_count": 22,
   "id": "03c769f8",
   "metadata": {},
   "outputs": [],
   "source": [
    "# создаем массив уникальных пар значений дат и групп теста\n",
    "datesGroups = orders[['date','group']].drop_duplicates() "
   ]
  },
  {
   "cell_type": "markdown",
   "id": "69ba55ed",
   "metadata": {},
   "source": [
    "Соберём агрегированные кумулятивные по дням данные о заказах в несколько действий. \n",
    "Получим строки таблицы orders, дата которых меньше или равна дате элемента из datesGroups, а группа теста равна группе из datesGroups.\n",
    "\n",
    "Агрегируем значения. Вычислим максимальную дату. Для группы тоже рассчитаем максимум, и хотя она будет определённой, сделаем это, чтобы столбец 'group' не пропал из итогового вывода. Найдём число уникальных ID заказов и пользователей. Подсчитаем сумму средних чеков.\n",
    "\n",
    "Применим методы к каждой строке датафрейма: apply(axis=1) и отсортируем результаты по столбцам 'date' и 'group'.\n",
    "\n",
    "Результат запишем в датафрейм ordersAgregated:"
   ]
  },
  {
   "cell_type": "code",
   "execution_count": 23,
   "id": "0a8d0fad",
   "metadata": {},
   "outputs": [],
   "source": [
    "# получаем агрегированные кумулятивные по дням данные о заказах \n",
    "ordersAggregated = datesGroups.apply(lambda x: orders[np.logical_and(orders['date'] <= x['date'], orders['group'] == x['group'])]\\\n",
    ".agg({'date' : 'max', 'group' : 'max', 'transactionid' : 'nunique', 'visitorid' : 'nunique', 'revenue' : 'sum'}), axis=1).sort_values(by=['date','group'])"
   ]
  },
  {
   "cell_type": "markdown",
   "id": "1e295265",
   "metadata": {},
   "source": [
    "Аналогично получим агрегированные кумулятивные по дням данные о посетителях интернет-магазина: "
   ]
  },
  {
   "cell_type": "code",
   "execution_count": 24,
   "id": "dac3e34e",
   "metadata": {},
   "outputs": [],
   "source": [
    "# получаем агрегированные кумулятивные по дням данные о посетителях интернет-магазина \n",
    "visitorsAggregated = datesGroups.apply(lambda x: visitors[np.logical_and(visitors['date'] <= x['date'], visitors['group'] == x['group'])].agg({'date' : 'max', 'group' : 'max', 'visitors' : 'sum'}), axis=1).sort_values(by=['date','group'])"
   ]
  },
  {
   "cell_type": "markdown",
   "id": "ab3bd65f",
   "metadata": {},
   "source": [
    "Объединим обе таблицы в одну с понятными названиями столбцов: "
   ]
  },
  {
   "cell_type": "code",
   "execution_count": 25,
   "id": "811143da",
   "metadata": {},
   "outputs": [
    {
     "name": "stdout",
     "output_type": "stream",
     "text": [
      "        date group  orders  buyers  revenue  visitors\n",
      "0 2019-08-01     A      24      20   148579       719\n",
      "1 2019-08-01     B      21      20   101217       713\n",
      "2 2019-08-02     A      44      38   242401      1338\n",
      "3 2019-08-02     B      45      43   266748      1294\n",
      "4 2019-08-03     A      68      62   354874      1845\n"
     ]
    }
   ],
   "source": [
    "# объединяем кумулятивные данные в одной таблице и присваиваем ее столбцам понятные названия\n",
    "cumulativeData = ordersAggregated.merge(visitorsAggregated, left_on=['date', 'group'], right_on=['date', 'group'])\n",
    "cumulativeData.columns = ['date', 'group', 'orders', 'buyers', 'revenue', 'visitors']\n",
    "\n",
    "print(cumulativeData.head(5))"
   ]
  },
  {
   "cell_type": "markdown",
   "id": "63bf5151",
   "metadata": {},
   "source": [
    "Таким образом в ordersAggregated и visitorsAggregated у нас находятся такие данные, как будто мы ежедневно считали результаты тестирования до выбранного дня включительно и сохраняли их в строках таблиц."
   ]
  },
  {
   "cell_type": "markdown",
   "id": "0bfc726c",
   "metadata": {},
   "source": [
    "Построим графики кумулятивной выручки по дням и группам A/B-тестирования: "
   ]
  },
  {
   "cell_type": "code",
   "execution_count": 26,
   "id": "eed0f0cb",
   "metadata": {},
   "outputs": [
    {
     "data": {
      "image/png": "[encoded data removed]",
      "text/plain": [
       "<Figure size 640x480 with 1 Axes>"
      ]
     },
     "metadata": {},
     "output_type": "display_data"
    }
   ],
   "source": [
    "# датафрейм с кумулятивным количеством заказов и кумулятивной выручкой по дням в группе А\n",
    "cumulativeRevenueA = cumulativeData[cumulativeData['group']=='A'][['date','revenue', 'orders']]\n",
    "\n",
    "# датафрейм с кумулятивным количеством заказов и кумулятивной выручкой по дням в группе B\n",
    "cumulativeRevenueB = cumulativeData[cumulativeData['group']=='B'][['date','revenue', 'orders']]\n",
    "\n",
    "# Строим график выручки группы А\n",
    "plt.plot(cumulativeRevenueA['date'], cumulativeRevenueA['revenue'], label='A')\n",
    "\n",
    "# Строим график выручки группы B\n",
    "plt.plot(cumulativeRevenueB['date'], cumulativeRevenueB['revenue'], label='B')\n",
    "\n",
    "plt.legend() \n",
    "plt.xticks(rotation=45)\n",
    "plt.grid(True)\n",
    "plt.xlabel('Дата')\n",
    "plt.ylabel('Выручка')\n",
    "plt.title('График кумулятивной выручки по группам')\n",
    "plt.show()"
   ]
  },
  {
   "cell_type": "markdown",
   "id": "70f6306c",
   "metadata": {},
   "source": [
    "**Вывод**\n",
    "\n",
    "Выручка почти равномерно увеличивается в первой половине теста. После 18 августа, выручка группы B резко возрастает и остается выше до конца теста. Это может сигнализировать о всплеске числа заказов, либо о появлении очень дорогих заказов в выборке. Однозначно утверждать, что группа B лучше на данном шаге нельзя."
   ]
  },
  {
   "cell_type": "markdown",
   "id": "c786b97e",
   "metadata": {},
   "source": [
    "2. Постройте график кумулятивного среднего чека по группам. Сделайте выводы и предположения."
   ]
  },
  {
   "cell_type": "code",
   "execution_count": 27,
   "id": "fec98b24",
   "metadata": {},
   "outputs": [
    {
     "data": {
      "image/png": "[encoded data removed]",
      "text/plain": [
       "<Figure size 640x480 with 1 Axes>"
      ]
     },
     "metadata": {},
     "output_type": "display_data"
    }
   ],
   "source": [
    "plt.plot(cumulativeRevenueA['date'], cumulativeRevenueA['revenue']/cumulativeRevenueA['orders'], label='A')\n",
    "plt.plot(cumulativeRevenueB['date'], cumulativeRevenueB['revenue']/cumulativeRevenueB['orders'], label='B')\n",
    "plt.legend()\n",
    "plt.grid(True)\n",
    "plt.xticks(rotation=45)\n",
    "plt.ylabel('Кумулятивный средний чек')\n",
    "plt.xlabel('Дата')\n",
    "plt.title('График кумулятивного среднего чека по группам')\n",
    "plt.show()"
   ]
  },
  {
   "cell_type": "markdown",
   "id": "dc249a0b",
   "metadata": {},
   "source": [
    "**Вывод**\n",
    "\n",
    "График кумулятивного среднего чека в первой половине месяца неравномерный для обеих групп. \n",
    "Опять видим, что после 18 августа в группе В резкий всплеск на графике, что может говорить о том,  что там были совершены крупные заказы, затем произошло равномерное снижение среднего чека, но при этом он остался выше, чем у группы А.\n"
   ]
  },
  {
   "cell_type": "markdown",
   "id": "1c426b9a",
   "metadata": {},
   "source": [
    "3. Постройте график относительного изменения кумулятивного среднего чека группы B к группе A. Сделайте выводы и предположения."
   ]
  },
  {
   "cell_type": "markdown",
   "id": "c0b7e600",
   "metadata": {},
   "source": [
    "Построим график относительного различия для среднего чека. Добавим горизонтальную ось методом axhline()"
   ]
  },
  {
   "cell_type": "code",
   "execution_count": 28,
   "id": "ce6c96db",
   "metadata": {},
   "outputs": [
    {
     "data": {
      "image/png": "[encoded data removed]",
      "text/plain": [
       "<Figure size 640x480 with 1 Axes>"
      ]
     },
     "metadata": {},
     "output_type": "display_data"
    }
   ],
   "source": [
    "# собираем данные в одном датафрейме\n",
    "mergedCumulativeRevenue = cumulativeRevenueA.merge(cumulativeRevenueB, left_on='date', right_on='date', how='left', suffixes=['A', 'B'])\n",
    "\n",
    "# cтроим отношение средних чеков\n",
    "plt.plot(mergedCumulativeRevenue['date'], (mergedCumulativeRevenue['revenueB']/mergedCumulativeRevenue['ordersB'])/(mergedCumulativeRevenue['revenueA']/mergedCumulativeRevenue['ordersA'])-1)\n",
    "\n",
    "# добавляем ось X\n",
    "plt.axhline(y=0, color='black', linestyle='--')\n",
    "plt.grid(True)\n",
    "plt.xticks(rotation=45)\n",
    "plt.title('График относительного изменения кумулятивного среднего чека группы B к группе A')\n",
    "plt.xlabel('Дата')\n",
    "plt.ylabel('Относительное изменение кумулятивного cреднего чека', fontsize = 8)\n",
    "plt.show()"
   ]
  },
  {
   "cell_type": "markdown",
   "id": "4978d97d",
   "metadata": {},
   "source": [
    "**Вывод**\n",
    "\n",
    "График относительного изменения кумулятивного среднего чека группы B к группе A так же показывает, что, за исключением лишь нескольких дней, средний чек группы В был выше среднего чека группы А и преимущество сохраняется до конца теста. В нескольких точках график различия между сегментами резко «скачет». Где-то уж точно спрятались крупные заказы и выбросы! \n",
    "Найдём их позже."
   ]
  },
  {
   "cell_type": "markdown",
   "id": "f76a341f",
   "metadata": {},
   "source": [
    "4. Постройте график кумулятивного среднего количества заказов на посетителя по группам. Сделайте выводы и предположения.\n"
   ]
  },
  {
   "cell_type": "code",
   "execution_count": 29,
   "id": "9d81bcc6",
   "metadata": {},
   "outputs": [
    {
     "data": {
      "image/png": "[encoded data removed]",
      "text/plain": [
       "<Figure size 640x480 with 1 Axes>"
      ]
     },
     "metadata": {},
     "output_type": "display_data"
    }
   ],
   "source": [
    "# считаем кумулятивную конверсию\n",
    "cumulativeData['conversion'] = cumulativeData['orders']/cumulativeData['visitors']\n",
    "\n",
    "# отделяем данные по группе A\n",
    "cumulativeDataA = cumulativeData[cumulativeData['group']=='A']\n",
    "\n",
    "# отделяем данные по группе B\n",
    "cumulativeDataB = cumulativeData[cumulativeData['group']=='B']\n",
    "\n",
    "# строим графики\n",
    "plt.plot(cumulativeDataA['date'], cumulativeDataA['conversion'], label='A')\n",
    "plt.plot(cumulativeDataB['date'], cumulativeDataB['conversion'], label='B')\n",
    "plt.legend()\n",
    "\n",
    "# задаем масштаб осей\n",
    "plt.axis([orders['date'].min(), orders['date'].max(), 0.028, 0.038])\n",
    "plt.xticks(rotation=45)\n",
    "plt.grid(True)\n",
    "plt.title('График кумулятивного среднего количества заказов на посетителя по группам')\n",
    "plt.xlabel('Дата')\n",
    "plt.ylabel('Кумулятивное среднее количества заказов на посетителя', fontsize=8)\n",
    "plt.show()"
   ]
  },
  {
   "cell_type": "markdown",
   "id": "0ac01a79",
   "metadata": {},
   "source": [
    "**Вывод**\n",
    "\n",
    "Получился почти симметричный график. Cреднее количество покупок на посетителя в группе В вырвалось вперёд и зафиксировалось почти в самом начале теста, а среднее количество покупок на посетителя группы А упало и также зафиксировалось."
   ]
  },
  {
   "cell_type": "markdown",
   "id": "bfc2249e",
   "metadata": {},
   "source": [
    "5. Постройте график относительного изменения кумулятивного среднего количества заказов на посетителя группы B к группе A. Сделайте выводы и предположения.\n"
   ]
  },
  {
   "cell_type": "code",
   "execution_count": 30,
   "id": "b5906ebe",
   "metadata": {},
   "outputs": [
    {
     "data": {
      "image/png": "[encoded data removed]",
      "text/plain": [
       "<Figure size 640x480 with 1 Axes>"
      ]
     },
     "metadata": {},
     "output_type": "display_data"
    }
   ],
   "source": [
    "mergedCumulativeConversions = cumulativeDataA[['date','conversion']].merge(cumulativeDataB[['date','conversion']], left_on='date', right_on='date', how='left', suffixes=['A', 'B'])\n",
    "\n",
    "plt.plot(mergedCumulativeConversions['date'], \n",
    "         mergedCumulativeConversions['conversionB']/mergedCumulativeConversions['conversionA']-1, \n",
    "         label=\"Относительный прирост конверсии группы B относительно группы A\")\n",
    "plt.axhline(y=0, color='black', linestyle='--')\n",
    "plt.axhline(y=-0.1, color='grey', linestyle='--')\n",
    "plt.axis([orders['date'].min(), orders['date'].max(), -0.15, 0.25])\n",
    "plt.xticks(rotation=45)\n",
    "plt.title('График относительного изменения кумулятивного среднего количества заказов на посетителя группы B к группе A')\n",
    "plt.xlabel('Дата')\n",
    "plt.ylabel('Относительное изменение', fontsize=6)\n",
    "plt.grid(True)\n",
    "plt.show()"
   ]
  },
  {
   "cell_type": "markdown",
   "id": "69f0ce95",
   "metadata": {},
   "source": [
    "**Вывод** \n",
    "\n",
    "В начале теста группа B незначительно проигрывала группе A, но с 5-6 августа отношение кумулятивного среднего количества заказов на посетителя группы B к группе A изменилось в большую сторону. \n",
    "\n",
    "В целом отношение кумулятивного среднего количества заказов на посетителя группы B к группе A ещё не установилось, и сейчас делать какие-либо выводы по тесту нельзя. Впрочем, сперва стоит проанализировать аномалии, возможно, они изменят картину. "
   ]
  },
  {
   "cell_type": "markdown",
   "id": "d6bf8e58",
   "metadata": {},
   "source": [
    "6. Постройте точечный график количества заказов по пользователям. Сделайте выводы и предположения."
   ]
  },
  {
   "cell_type": "markdown",
   "id": "d9449df7",
   "metadata": {},
   "source": [
    "Для начала посмотрим топ-количества заказов в табличном виде:"
   ]
  },
  {
   "cell_type": "code",
   "execution_count": 31,
   "id": "d24a6b37",
   "metadata": {},
   "outputs": [
    {
     "data": {
      "text/html": [
       "<div>\n",
       "<style scoped>\n",
       "    .dataframe tbody tr th:only-of-type {\n",
       "        vertical-align: middle;\n",
       "    }\n",
       "\n",
       "    .dataframe tbody tr th {\n",
       "        vertical-align: top;\n",
       "    }\n",
       "\n",
       "    .dataframe thead th {\n",
       "        text-align: right;\n",
       "    }\n",
       "</style>\n",
       "<table border=\"1\" class=\"dataframe\">\n",
       "  <thead>\n",
       "    <tr style=\"text-align: right;\">\n",
       "      <th></th>\n",
       "      <th>visitorid</th>\n",
       "      <th>orders</th>\n",
       "    </tr>\n",
       "  </thead>\n",
       "  <tbody>\n",
       "    <tr>\n",
       "      <th>1023</th>\n",
       "      <td>4256040402</td>\n",
       "      <td>11</td>\n",
       "    </tr>\n",
       "    <tr>\n",
       "      <th>591</th>\n",
       "      <td>2458001652</td>\n",
       "      <td>11</td>\n",
       "    </tr>\n",
       "    <tr>\n",
       "      <th>569</th>\n",
       "      <td>2378935119</td>\n",
       "      <td>9</td>\n",
       "    </tr>\n",
       "    <tr>\n",
       "      <th>487</th>\n",
       "      <td>2038680547</td>\n",
       "      <td>8</td>\n",
       "    </tr>\n",
       "    <tr>\n",
       "      <th>44</th>\n",
       "      <td>199603092</td>\n",
       "      <td>5</td>\n",
       "    </tr>\n",
       "    <tr>\n",
       "      <th>744</th>\n",
       "      <td>3062433592</td>\n",
       "      <td>5</td>\n",
       "    </tr>\n",
       "    <tr>\n",
       "      <th>55</th>\n",
       "      <td>237748145</td>\n",
       "      <td>5</td>\n",
       "    </tr>\n",
       "    <tr>\n",
       "      <th>917</th>\n",
       "      <td>3803269165</td>\n",
       "      <td>5</td>\n",
       "    </tr>\n",
       "    <tr>\n",
       "      <th>299</th>\n",
       "      <td>1230306981</td>\n",
       "      <td>5</td>\n",
       "    </tr>\n",
       "    <tr>\n",
       "      <th>897</th>\n",
       "      <td>3717692402</td>\n",
       "      <td>5</td>\n",
       "    </tr>\n",
       "  </tbody>\n",
       "</table>\n",
       "</div>"
      ],
      "text/plain": [
       "       visitorid  orders\n",
       "1023  4256040402      11\n",
       "591   2458001652      11\n",
       "569   2378935119       9\n",
       "487   2038680547       8\n",
       "44     199603092       5\n",
       "744   3062433592       5\n",
       "55     237748145       5\n",
       "917   3803269165       5\n",
       "299   1230306981       5\n",
       "897   3717692402       5"
      ]
     },
     "execution_count": 31,
     "metadata": {},
     "output_type": "execute_result"
    }
   ],
   "source": [
    "ordersByUsers = (orders.groupby('visitorid', as_index=False).agg({'transactionid': pd.Series.nunique}))\n",
    "ordersByUsers.columns = ['visitorid', 'orders']\n",
    "\n",
    "ordersByUsers.sort_values(by='orders', ascending=False).head(10)"
   ]
  },
  {
   "cell_type": "markdown",
   "id": "b216dbdb",
   "metadata": {},
   "source": [
    "Построим точечную диаграмму количества заказов по пользователям:"
   ]
  },
  {
   "cell_type": "code",
   "execution_count": 32,
   "id": "2a260319",
   "metadata": {},
   "outputs": [
    {
     "data": {
      "image/png": "[encoded data removed]",
      "text/plain": [
       "<Figure size 640x480 with 1 Axes>"
      ]
     },
     "metadata": {},
     "output_type": "display_data"
    }
   ],
   "source": [
    "# серия из чисел от 0 до количества наблюдений в ordersByUsers\n",
    "x_values = pd.Series(range(0, len(ordersByUsers)))\n",
    "plt.scatter(x_values, ordersByUsers['orders']);\n",
    "plt.grid()\n",
    "plt.title('Точечный график количества заказов по пользователям')\n",
    "plt.ylabel('Количество заказов')\n",
    "plt.xlabel('Пользователи');"
   ]
  },
  {
   "cell_type": "markdown",
   "id": "b45079fe",
   "metadata": {},
   "source": [
    "**Вывод**\n",
    "\n",
    "Много пользователей с 1-2 заказами, есть пользователи, сделавшие 3-5 заказов. Но есть и те, кто сделал 8-11 заказов, точная доля таких пользователей не ясна — непонятно, считать их аномалиями или нет. Для этого необходимо посчитать выборочные перцентили количества заказов на одного пользователя."
   ]
  },
  {
   "cell_type": "markdown",
   "id": "3256adcd",
   "metadata": {},
   "source": [
    "7. Посчитайте 95-й и 99-й перцентили количества заказов на пользователя. Выберите границу для определения аномальных пользователей.\n"
   ]
  },
  {
   "cell_type": "code",
   "execution_count": 33,
   "id": "d22e52b8",
   "metadata": {},
   "outputs": [
    {
     "name": "stdout",
     "output_type": "stream",
     "text": [
      "[2. 4.]\n"
     ]
    }
   ],
   "source": [
    "print(np.percentile(ordersByUsers['orders'], [95, 99]))"
   ]
  },
  {
   "cell_type": "markdown",
   "id": "600401a6",
   "metadata": {},
   "source": [
    "**Вывод**\n",
    "\n",
    "Не более 5% пользователей оформляли больше чем 2 заказа. И не более 1% пользователей заказывали больше 4 раз. \n",
    "Разумно выбрать 2 заказа на одного пользователя за верхнюю границу числа заказов, и отсеять аномальных пользователей по ней. "
   ]
  },
  {
   "cell_type": "markdown",
   "id": "1f2b2ffc",
   "metadata": {},
   "source": [
    "8. Постройте точечный график стоимостей заказов. Сделайте выводы и предположения.\n"
   ]
  },
  {
   "cell_type": "markdown",
   "id": "c1d8cbcb",
   "metadata": {},
   "source": [
    "Для начала посмотрим топ-стоимости заказов в табличном виде:"
   ]
  },
  {
   "cell_type": "code",
   "execution_count": 34,
   "id": "33264970",
   "metadata": {},
   "outputs": [
    {
     "data": {
      "text/html": [
       "<div>\n",
       "<style scoped>\n",
       "    .dataframe tbody tr th:only-of-type {\n",
       "        vertical-align: middle;\n",
       "    }\n",
       "\n",
       "    .dataframe tbody tr th {\n",
       "        vertical-align: top;\n",
       "    }\n",
       "\n",
       "    .dataframe thead th {\n",
       "        text-align: right;\n",
       "    }\n",
       "</style>\n",
       "<table border=\"1\" class=\"dataframe\">\n",
       "  <thead>\n",
       "    <tr style=\"text-align: right;\">\n",
       "      <th></th>\n",
       "      <th>transactionid</th>\n",
       "      <th>visitorid</th>\n",
       "      <th>date</th>\n",
       "      <th>revenue</th>\n",
       "      <th>group</th>\n",
       "    </tr>\n",
       "  </thead>\n",
       "  <tbody>\n",
       "    <tr>\n",
       "      <th>425</th>\n",
       "      <td>590470918</td>\n",
       "      <td>1920142716</td>\n",
       "      <td>2019-08-19</td>\n",
       "      <td>1294500</td>\n",
       "      <td>B</td>\n",
       "    </tr>\n",
       "    <tr>\n",
       "      <th>1196</th>\n",
       "      <td>3936777065</td>\n",
       "      <td>2108080724</td>\n",
       "      <td>2019-08-15</td>\n",
       "      <td>202740</td>\n",
       "      <td>B</td>\n",
       "    </tr>\n",
       "    <tr>\n",
       "      <th>858</th>\n",
       "      <td>192721366</td>\n",
       "      <td>1316129916</td>\n",
       "      <td>2019-08-27</td>\n",
       "      <td>93940</td>\n",
       "      <td>A</td>\n",
       "    </tr>\n",
       "    <tr>\n",
       "      <th>1136</th>\n",
       "      <td>666610489</td>\n",
       "      <td>1307669133</td>\n",
       "      <td>2019-08-13</td>\n",
       "      <td>92550</td>\n",
       "      <td>A</td>\n",
       "    </tr>\n",
       "    <tr>\n",
       "      <th>744</th>\n",
       "      <td>3668308183</td>\n",
       "      <td>888512513</td>\n",
       "      <td>2019-08-27</td>\n",
       "      <td>86620</td>\n",
       "      <td>B</td>\n",
       "    </tr>\n",
       "    <tr>\n",
       "      <th>682</th>\n",
       "      <td>1216533772</td>\n",
       "      <td>4266935830</td>\n",
       "      <td>2019-08-29</td>\n",
       "      <td>78990</td>\n",
       "      <td>B</td>\n",
       "    </tr>\n",
       "    <tr>\n",
       "      <th>662</th>\n",
       "      <td>1811671147</td>\n",
       "      <td>4266935830</td>\n",
       "      <td>2019-08-29</td>\n",
       "      <td>78990</td>\n",
       "      <td>A</td>\n",
       "    </tr>\n",
       "    <tr>\n",
       "      <th>743</th>\n",
       "      <td>3603576309</td>\n",
       "      <td>4133034833</td>\n",
       "      <td>2019-08-09</td>\n",
       "      <td>67990</td>\n",
       "      <td>A</td>\n",
       "    </tr>\n",
       "    <tr>\n",
       "      <th>1103</th>\n",
       "      <td>1348774318</td>\n",
       "      <td>1164614297</td>\n",
       "      <td>2019-08-12</td>\n",
       "      <td>66350</td>\n",
       "      <td>A</td>\n",
       "    </tr>\n",
       "    <tr>\n",
       "      <th>1099</th>\n",
       "      <td>316924019</td>\n",
       "      <td>148427295</td>\n",
       "      <td>2019-08-12</td>\n",
       "      <td>65710</td>\n",
       "      <td>A</td>\n",
       "    </tr>\n",
       "  </tbody>\n",
       "</table>\n",
       "</div>"
      ],
      "text/plain": [
       "      transactionid   visitorid       date  revenue group\n",
       "425       590470918  1920142716 2019-08-19  1294500     B\n",
       "1196     3936777065  2108080724 2019-08-15   202740     B\n",
       "858       192721366  1316129916 2019-08-27    93940     A\n",
       "1136      666610489  1307669133 2019-08-13    92550     A\n",
       "744      3668308183   888512513 2019-08-27    86620     B\n",
       "682      1216533772  4266935830 2019-08-29    78990     B\n",
       "662      1811671147  4266935830 2019-08-29    78990     A\n",
       "743      3603576309  4133034833 2019-08-09    67990     A\n",
       "1103     1348774318  1164614297 2019-08-12    66350     A\n",
       "1099      316924019   148427295 2019-08-12    65710     A"
      ]
     },
     "execution_count": 34,
     "metadata": {},
     "output_type": "execute_result"
    }
   ],
   "source": [
    "orders.sort_values(by='revenue', ascending=False).head(10)"
   ]
  },
  {
   "cell_type": "markdown",
   "id": "a0f12d5f",
   "metadata": {},
   "source": [
    "Уже сейчас видим пользователя, сделавшего заказ на более чем 1 млн. рублей из группы В, который скорее всего и стал причиной аномального всплеска."
   ]
  },
  {
   "cell_type": "markdown",
   "id": "cb6e598f",
   "metadata": {},
   "source": [
    "Построим точечную диаграмму стоимости заказа:"
   ]
  },
  {
   "cell_type": "code",
   "execution_count": 35,
   "id": "415411e5",
   "metadata": {},
   "outputs": [
    {
     "data": {
      "image/png": "[encoded data removed]",
      "text/plain": [
       "<Figure size 640x480 with 1 Axes>"
      ]
     },
     "metadata": {},
     "output_type": "display_data"
    }
   ],
   "source": [
    "x_values = pd.Series(range(0, len(orders['revenue'])))\n",
    "plt.scatter(x_values, orders['revenue']);\n",
    "plt.grid()\n",
    "plt.title('Точечный график стоимостей заказов')\n",
    "plt.ylabel('Стоимость заказа в млн.')\n",
    "plt.xlabel('Пользователи');\n"
   ]
  },
  {
   "cell_type": "markdown",
   "id": "520ed1b0",
   "metadata": {},
   "source": [
    "**Вывод**\n",
    "\n",
    "На графике выделяются 2 заказа, один стоимостью больше 1,2 млн и второй размером больше 200 тысяч.Все остальные заказы ниже 100 тысяч. Для того, чтобы точно определить стоимость заказа, которую следует считать аномальной посчитаем выборочные перцентели."
   ]
  },
  {
   "cell_type": "markdown",
   "id": "e4459747",
   "metadata": {},
   "source": [
    "9. Посчитайте 95-й и 99-й перцентили стоимости заказов. Выберите границу для определения аномальных заказов.\n"
   ]
  },
  {
   "cell_type": "code",
   "execution_count": 36,
   "id": "9336f43e",
   "metadata": {},
   "outputs": [
    {
     "name": "stdout",
     "output_type": "stream",
     "text": [
      "[28000.  58233.2]\n"
     ]
    }
   ],
   "source": [
    "print(np.percentile(orders['revenue'], [95, 99]))"
   ]
  },
  {
   "cell_type": "markdown",
   "id": "5721bb7a",
   "metadata": {},
   "source": [
    "**Вывод**\n",
    "\n",
    "Не более 5% пользователей оформляли заказы стоимостью выше 28 тысяч. И не более 1% пользователей совершали заказ крупнее 58 тысяч. \n",
    "Разумно выбрать границей для аномальных заказов 28 тысяч."
   ]
  },
  {
   "cell_type": "markdown",
   "id": "82afca7d",
   "metadata": {},
   "source": [
    "10. Посчитайте статистическую значимость различий в среднем количестве заказов на посетителя между группами по «сырым» данным. Сделайте выводы и предположения.\n"
   ]
  },
  {
   "cell_type": "markdown",
   "id": "92234a30",
   "metadata": {},
   "source": [
    "Начнём с подготовки данных:"
   ]
  },
  {
   "cell_type": "code",
   "execution_count": 37,
   "id": "c14f6b86",
   "metadata": {},
   "outputs": [
    {
     "name": "stdout",
     "output_type": "stream",
     "text": [
      "        date  ordersPerDateA  revenuePerDateA  ordersPerDateB  \\\n",
      "0 2019-08-01              24           148579              21   \n",
      "1 2019-08-02              20            93822              24   \n",
      "2 2019-08-03              24           112473              16   \n",
      "3 2019-08-04              16            70825              17   \n",
      "4 2019-08-05              25           124218              23   \n",
      "\n",
      "   revenuePerDateB  ordersCummulativeA  revenueCummulativeA  \\\n",
      "0           101217                  24               148579   \n",
      "1           165531                  44               242401   \n",
      "2           114248                  68               354874   \n",
      "3           108571                  84               425699   \n",
      "4            92428                 109               549917   \n",
      "\n",
      "   ordersCummulativeB  revenueCummulativeB  visitorsPerDateA  \\\n",
      "0                  21               101217               719   \n",
      "1                  45               266748               619   \n",
      "2                  61               380996               507   \n",
      "3                  78               489567               717   \n",
      "4                 101               581995               756   \n",
      "\n",
      "   visitorsPerDateB  visitorsCummulativeA  visitorsCummulativeB  \n",
      "0               713                   719                   713  \n",
      "1               581                  1338                  1294  \n",
      "2               509                  1845                  1803  \n",
      "3               770                  2562                  2573  \n",
      "4               707                  3318                  3280  \n"
     ]
    }
   ],
   "source": [
    "visitorsADaily = visitors[visitors['group'] == 'A'][['date', 'visitors']]\n",
    "visitorsADaily.columns = ['date', 'visitorsPerDateA']\n",
    "\n",
    "visitorsACummulative = visitorsADaily.apply(\n",
    "    lambda x: visitorsADaily[visitorsADaily['date'] <= x['date']].agg(\n",
    "        {'date': 'max', 'visitorsPerDateA': 'sum'}\n",
    "    ),\n",
    "    axis=1,\n",
    ")\n",
    "visitorsACummulative.columns = ['date', 'visitorsCummulativeA']\n",
    "\n",
    "visitorsBDaily = visitors[visitors['group'] == 'B'][['date', 'visitors']]\n",
    "visitorsBDaily.columns = ['date', 'visitorsPerDateB']\n",
    "\n",
    "visitorsBCummulative = visitorsBDaily.apply(\n",
    "    lambda x: visitorsBDaily[visitorsBDaily['date'] <= x['date']].agg(\n",
    "        {'date': 'max', 'visitorsPerDateB': 'sum'}\n",
    "    ),\n",
    "    axis=1,\n",
    ")\n",
    "visitorsBCummulative.columns = ['date', 'visitorsCummulativeB']\n",
    "\n",
    "ordersADaily = (\n",
    "    orders[orders['group'] == 'A'][['date', 'transactionid', 'visitorid', 'revenue']]\n",
    "    .groupby('date', as_index=False)\n",
    "    .agg({'transactionid': pd.Series.nunique, 'revenue': 'sum'})\n",
    ")\n",
    "ordersADaily.columns = ['date', 'ordersPerDateA', 'revenuePerDateA']\n",
    "\n",
    "ordersACummulative = ordersADaily.apply(\n",
    "    lambda x: ordersADaily[ordersADaily['date'] <= x['date']].agg(\n",
    "        {'date': 'max', 'ordersPerDateA': 'sum', 'revenuePerDateA': 'sum'}\n",
    "    ),\n",
    "    axis=1,\n",
    ").sort_values(by=['date'])\n",
    "ordersACummulative.columns = [\n",
    "    'date',\n",
    "    'ordersCummulativeA',\n",
    "    'revenueCummulativeA',\n",
    "]\n",
    "\n",
    "ordersBDaily = (\n",
    "    orders[orders['group'] == 'B'][['date', 'transactionid', 'visitorid', 'revenue']]\n",
    "    .groupby('date', as_index=False)\n",
    "    .agg({'transactionid': pd.Series.nunique, 'revenue': 'sum'})\n",
    ")\n",
    "ordersBDaily.columns = ['date', 'ordersPerDateB', 'revenuePerDateB']\n",
    "\n",
    "ordersBCummulative = ordersBDaily.apply(\n",
    "    lambda x: ordersBDaily[ordersBDaily['date'] <= x['date']].agg(\n",
    "        {'date': 'max', 'ordersPerDateB': 'sum', 'revenuePerDateB': 'sum'}\n",
    "    ),\n",
    "    axis=1,\n",
    ").sort_values(by=['date'])\n",
    "ordersBCummulative.columns = [\n",
    "    'date',\n",
    "    'ordersCummulativeB',\n",
    "    'revenueCummulativeB',\n",
    "]\n",
    "\n",
    "data = (\n",
    "    ordersADaily.merge(\n",
    "        ordersBDaily, left_on='date', right_on='date', how='left'\n",
    "    )\n",
    "    .merge(ordersACummulative, left_on='date', right_on='date', how='left')\n",
    "    .merge(ordersBCummulative, left_on='date', right_on='date', how='left')\n",
    "    .merge(visitorsADaily, left_on='date', right_on='date', how='left')\n",
    "    .merge(visitorsBDaily, left_on='date', right_on='date', how='left')\n",
    "    .merge(visitorsACummulative, left_on='date', right_on='date', how='left')\n",
    "    .merge(visitorsBCummulative, left_on='date', right_on='date', how='left')\n",
    ")\n",
    "print(data.head(5)) "
   ]
  },
  {
   "cell_type": "markdown",
   "id": "4da2e4ff",
   "metadata": {},
   "source": [
    "Столбцы:\n",
    "- date — дата;\n",
    "- ordersPerDateA — количество заказов в выбранную дату в группе A;\n",
    "- revenuePerDateA — суммарная выручка в выбранную дату в группе A;\n",
    "- ordersPerDateB — количество заказов в выбранную дату в группе B;\n",
    "- revenuePerDateB — суммарная выручка в выбранную дату в группе B;\n",
    "- ordersCummulativeA — суммарное число заказов до выбранной даты включительно в группе A;\n",
    "- revenueCummulativeA — суммарная выручка до выбранной даты включительно в группе A;\n",
    "- ordersCummulativeB — суммарное количество заказов до выбранной даты включительно в группе B;\n",
    "- revenueCummulativeB — суммарная выручка до выбранной даты включительно в группе B;\n",
    "- visitorsPerDateA — количество пользователей в выбранную дату в группе A;\n",
    "- visitorsPerDateB — количество пользователей в выбранную дату в группе B;\n",
    "- visitorsCummulativeA — количество пользователей до выбранной даты включительно в группе A;\n",
    "- visitorsCummulativeB — количество пользователей до выбранной даты включительно в группе B."
   ]
  },
  {
   "cell_type": "markdown",
   "id": "d54f1d0c",
   "metadata": {},
   "source": [
    "Посчитаем статистическую значимость различия в среднем количестве заказов между группами.\n",
    "\n",
    "Создадим переменные ordersByUsersA и ordersByUsersB со столбцами ['userId', 'orders']. В них для пользователей, которые заказывали хотя бы 1 раз, укажем число совершённых заказов. "
   ]
  },
  {
   "cell_type": "code",
   "execution_count": 38,
   "id": "5f513d2b",
   "metadata": {},
   "outputs": [],
   "source": [
    "ordersByUsersA = (\n",
    "    orders[orders['group'] == 'A']\n",
    "    .groupby('visitorid', as_index=False)\n",
    "    .agg({'transactionid': pd.Series.nunique})\n",
    ")\n",
    "ordersByUsersA.columns = ['userId', 'orders']\n",
    "\n",
    "ordersByUsersB = (\n",
    "    orders[orders['group'] == 'B']\n",
    "    .groupby('visitorid', as_index=False)\n",
    "    .agg({'transactionid': pd.Series.nunique})\n",
    ")\n",
    "ordersByUsersB.columns = ['userId', 'orders'] "
   ]
  },
  {
   "cell_type": "markdown",
   "id": "84284fd4",
   "metadata": {},
   "source": [
    "Сформулируем гипотезы. \n",
    "\n",
    "*Нулевая:* различий в среднем количестве заказов на посетителя между группами нет. \n",
    "\n",
    "*Альтернативная:* различия в среднем количестве заказов на посетителя между группами есть."
   ]
  },
  {
   "cell_type": "markdown",
   "id": "df5a7db5",
   "metadata": {},
   "source": [
    "Объявим переменные sampleA и sampleB, в которых пользователям из разных групп будет соответствовать количество заказов. Тем, кто ничего не заказал, будут соответствовать нули. Это нужно, чтобы подготовить выборки к проверке критерием Манна-Уитни.\n",
    "\n",
    "Применим критерий и отформатируем p-value, округлив его до трёх знаков после запятой.\n",
    "\n",
    "Выведем относительный прирост среднего числа заказов группы B: среднее число заказов группы B / среднее число заказов группы A - 1.  Округлим до трёх знаков после запятой."
   ]
  },
  {
   "cell_type": "code",
   "execution_count": 39,
   "id": "f1a566b4",
   "metadata": {},
   "outputs": [
    {
     "name": "stdout",
     "output_type": "stream",
     "text": [
      "p-value = 0.017\n",
      "относительная разница между сравниваемыми величинами = 0.138\n"
     ]
    }
   ],
   "source": [
    "sampleA = pd.concat(\n",
    "    [\n",
    "        ordersByUsersA['orders'],\n",
    "        pd.Series(\n",
    "            0,\n",
    "            index=np.arange(\n",
    "                data['visitorsPerDateA'].sum() - len(ordersByUsersA['orders'])\n",
    "            ),\n",
    "            name='orders',\n",
    "        ),\n",
    "    ],\n",
    "    axis=0,\n",
    ")\n",
    "\n",
    "sampleB = pd.concat(\n",
    "    [\n",
    "        ordersByUsersB['orders'],\n",
    "        pd.Series(\n",
    "            0,\n",
    "            index=np.arange(\n",
    "                data['visitorsPerDateB'].sum() - len(ordersByUsersB['orders'])\n",
    "            ),\n",
    "            name='orders',\n",
    "        ),\n",
    "    ],\n",
    "    axis=0,\n",
    ")\n",
    "\n",
    "print(\"p-value = {0:.3f}\".format(stats.mannwhitneyu(sampleA, sampleB)[1]))\n",
    "\n",
    "print(\"относительная разница между сравниваемыми величинами = {0:.3f}\".format(sampleB.mean() / sampleA.mean() - 1))\n"
   ]
  },
  {
   "cell_type": "markdown",
   "id": "f977bac2",
   "metadata": {},
   "source": [
    "**Вывод:** \n",
    "\n",
    "Первое число — p-value = 0.017 меньше 0.05. Значит, нулевую гипотезу о том, что статистически значимых различий в среднем числе заказов на посетителя между группами нет, отвергаем. Различия в среднем между группами есть.\n",
    "\n",
    "Относительный выиигрыш группы B равен 13.8% — второе число в выводе.\n"
   ]
  },
  {
   "cell_type": "markdown",
   "id": "6ef7edba",
   "metadata": {},
   "source": [
    "11. Посчитайте статистическую значимость различий в среднем чеке заказа между группами по «сырым» данным. Сделайте выводы и предположения.\n"
   ]
  },
  {
   "cell_type": "markdown",
   "id": "dc87d1a0",
   "metadata": {},
   "source": [
    "Теперь проверим статистическую значимость различий в среднем чеке между сегментами. \n",
    "\n",
    "*Нулевая гипотеза:* различий в среднем чеке между группами нет. \n",
    "\n",
    "*Альтернативная гипотеза:* различия в среднем чеке между группами есть.\n",
    "\n",
    "Чтобы рассчитать статистическую значимость различий в среднем чеке, передадим критерию mannwhitneyu() данные о выручке с заказов. \n",
    "\n",
    "А ещё найдём относительные различия в среднем чеке между группами:"
   ]
  },
  {
   "cell_type": "code",
   "execution_count": 40,
   "id": "73a6ecba",
   "metadata": {},
   "outputs": [
    {
     "name": "stdout",
     "output_type": "stream",
     "text": [
      "p-value = 0.729\n",
      "относительная разница между сравниваемыми величинами = 0.259\n"
     ]
    }
   ],
   "source": [
    "print('p-value = {0:.3f}'.format(stats.mannwhitneyu(orders[orders['group']=='A']['revenue'], orders[orders['group']=='B']['revenue'])[1]))\n",
    "print('относительная разница между сравниваемыми величинами = {0:.3f}'.format(orders[orders['group']=='B']['revenue'].mean()/orders[orders['group']=='A']['revenue'].mean()-1))"
   ]
  },
  {
   "cell_type": "markdown",
   "id": "4e467f2b",
   "metadata": {},
   "source": [
    "**Вывод:**\n",
    "\n",
    "P-value значительно больше 0.05. Значит, причин отвергать нулевую гипотезу и считать, что в среднем чеке есть различия, нет. \n",
    "\n",
    "Средний чек группы B значительно выше среднего чека группы A, почти на 26%.\n"
   ]
  },
  {
   "cell_type": "markdown",
   "id": "45e4ead2",
   "metadata": {},
   "source": [
    "12. Посчитайте статистическую значимость различий в среднем количестве заказов на посетителя между группами по «очищенным» данным. Сделайте выводы и предположения.\n"
   ]
  },
  {
   "cell_type": "markdown",
   "id": "2a3a2927",
   "metadata": {},
   "source": [
    "Из 7 и 9 пункта мы знаем, что 95-й и 99-й перцентили средних чеков равны 28000 и 58233.2. А 95-й и 99-й перцентили количества заказов на одного пользователя равны 2 и 4 заказа на пользователя."
   ]
  },
  {
   "cell_type": "markdown",
   "id": "5f0048c8",
   "metadata": {},
   "source": [
    "Примем за аномальных пользователей тех, кто совершил больше 2 заказов или совершил заказ дороже 28 000 рублей. Так мы уберём 5% пользователей с наибольшим числом заказов и от 1% до 5% пользователей с дорогими заказами. Сделаем срезы пользователей с числом заказов больше 2 — usersWithManyOrders и пользователей, совершивших заказы дороже 28 000 — usersWithExpensiveOrders. Объединим их в таблице abnormalUsers. "
   ]
  },
  {
   "cell_type": "code",
   "execution_count": 41,
   "id": "4263f5c4",
   "metadata": {},
   "outputs": [
    {
     "name": "stdout",
     "output_type": "stream",
     "text": [
      "1099    148427295\n",
      "18      199603092\n",
      "928     204675465\n",
      "23      237748145\n",
      "37      249864742\n",
      "dtype: int64\n",
      "74\n"
     ]
    }
   ],
   "source": [
    "usersWithManyOrders = pd.concat(\n",
    "    [\n",
    "        ordersByUsersA[ordersByUsersA['orders'] > np.percentile(ordersByUsers['orders'], 95)]['userId'],\n",
    "        ordersByUsersB[ordersByUsersB['orders'] > np.percentile(ordersByUsers['orders'], 95)]['userId'],\n",
    "    ],\n",
    "    axis=0,\n",
    ")\n",
    "usersWithExpensiveOrders = orders[orders['revenue'] > np.percentile(orders['revenue'], 95)]['visitorid']\n",
    "abnormalUsers = (\n",
    "    pd.concat([usersWithManyOrders, usersWithExpensiveOrders], axis=0)\n",
    "    .drop_duplicates()\n",
    "    .sort_values()\n",
    ")\n",
    "print(abnormalUsers.head(5))\n",
    "print(abnormalUsers.shape[0])"
   ]
  },
  {
   "cell_type": "markdown",
   "id": "1a928b99",
   "metadata": {},
   "source": [
    "Всего 74 аномальных пользователей. \n",
    "\n",
    "Посмотрим относительные потери:\n"
   ]
  },
  {
   "cell_type": "code",
   "execution_count": 42,
   "id": "d7eecb5b",
   "metadata": {},
   "outputs": [
    {
     "name": "stdout",
     "output_type": "stream",
     "text": [
      "Относительные потери: 7.18 %\n"
     ]
    }
   ],
   "source": [
    "print('Относительные потери: {0:.2f} %'.format(abnormalUsers.shape[0]/len(set(orders['visitorid']))*100))"
   ]
  },
  {
   "cell_type": "markdown",
   "id": "d010cf65",
   "metadata": {},
   "source": [
    "\n",
    "\n",
    "Узнаем, как их действия повлияли на результаты теста. Посчитаем статистическую значимость различий в среднем количестве заказов между группами теста по очищенным данным. Сначала подготовим выборки количества заказов по пользователям по группам теста:"
   ]
  },
  {
   "cell_type": "code",
   "execution_count": 43,
   "id": "7cb3e1da",
   "metadata": {},
   "outputs": [],
   "source": [
    "sampleAFiltered = pd.concat(\n",
    "    [\n",
    "        ordersByUsersA[\n",
    "            np.logical_not(ordersByUsersA['userId'].isin(abnormalUsers))\n",
    "        ]['orders'],\n",
    "        pd.Series(\n",
    "            0,\n",
    "            index=np.arange(\n",
    "                data['visitorsPerDateA'].sum() - len(ordersByUsersA['orders'])\n",
    "            ),\n",
    "            name='orders',\n",
    "        ),\n",
    "    ],\n",
    "    axis=0,\n",
    ")\n",
    "\n",
    "sampleBFiltered = pd.concat(\n",
    "    [\n",
    "        ordersByUsersB[\n",
    "            np.logical_not(ordersByUsersB['userId'].isin(abnormalUsers))\n",
    "        ]['orders'],\n",
    "        pd.Series(\n",
    "            0,\n",
    "            index=np.arange(\n",
    "                data['visitorsPerDateB'].sum() - len(ordersByUsersB['orders'])\n",
    "            ),\n",
    "            name='orders',\n",
    "        ),\n",
    "    ],\n",
    "    axis=0,\n",
    ")"
   ]
  },
  {
   "cell_type": "markdown",
   "id": "e6cf4567",
   "metadata": {},
   "source": [
    "Применим статистический критерий Манна-Уитни к полученным выборкам:"
   ]
  },
  {
   "cell_type": "code",
   "execution_count": 44,
   "id": "a19ce086",
   "metadata": {},
   "outputs": [
    {
     "name": "stdout",
     "output_type": "stream",
     "text": [
      "p-value = 0.013\n",
      "относительная разница между сравниваемыми величинами = 0.173\n"
     ]
    }
   ],
   "source": [
    "print('p-value = {0:.3f}'.format(stats.mannwhitneyu(sampleAFiltered, sampleBFiltered)[1]))\n",
    "print('относительная разница между сравниваемыми величинами = {0:.3f}'.format(sampleBFiltered.mean()/sampleAFiltered.mean()-1))"
   ]
  },
  {
   "cell_type": "markdown",
   "id": "be98f071",
   "metadata": {},
   "source": [
    "**Вывод:**\n",
    "\n",
    "Результаты по среднему количеству заказов практически не изменились. Напомним, что до исключения значения были: 0.017,\n",
    "0.138.\n",
    "\n",
    "Различия в среднем между группами есть. Причем выигрыш группы B увеличился на 4%.\n",
    "\n",
    "\n"
   ]
  },
  {
   "cell_type": "markdown",
   "id": "adcdbb15",
   "metadata": {},
   "source": [
    "13. Посчитайте статистическую значимость различий в среднем чеке заказа между группами по «очищенным» данным. Сделайте выводы и предположения."
   ]
  },
  {
   "cell_type": "markdown",
   "id": "a32f8281",
   "metadata": {},
   "source": [
    "Посмотрим по среднему чеку:"
   ]
  },
  {
   "cell_type": "code",
   "execution_count": 45,
   "id": "9ad55e79",
   "metadata": {},
   "outputs": [
    {
     "name": "stdout",
     "output_type": "stream",
     "text": [
      "p-value = 0.738\n",
      "относительная разница между сравниваемыми величинами = -0.02\n"
     ]
    }
   ],
   "source": [
    "print(\n",
    "    'p-value = {0:.3f}'.format(\n",
    "        stats.mannwhitneyu(\n",
    "            orders[\n",
    "                np.logical_and(\n",
    "                    orders['group'] == 'A',\n",
    "                    np.logical_not(orders['visitorid'].isin(abnormalUsers)),\n",
    "                )\n",
    "            ]['revenue'],\n",
    "            orders[\n",
    "                np.logical_and(\n",
    "                    orders['group'] == 'B',\n",
    "                    np.logical_not(orders['visitorid'].isin(abnormalUsers)),\n",
    "                )\n",
    "            ]['revenue'],\n",
    "        )[1]\n",
    "    )\n",
    ")\n",
    "print(\n",
    "    \"относительная разница между сравниваемыми величинами = {0:.2f}\".format(\n",
    "        orders[\n",
    "            np.logical_and(\n",
    "                orders['group'] == 'B',\n",
    "                np.logical_not(orders['visitorid'].isin(abnormalUsers)),\n",
    "            )\n",
    "        ]['revenue'].mean()\n",
    "        / orders[\n",
    "            np.logical_and(\n",
    "                orders['group'] == 'A',\n",
    "                np.logical_not(orders['visitorid'].isin(abnormalUsers)),\n",
    "            )\n",
    "        ]['revenue'].mean()\n",
    "        - 1\n",
    "    )\n",
    ")"
   ]
  },
  {
   "cell_type": "markdown",
   "id": "655edc91",
   "metadata": {},
   "source": [
    "**Вывод:**\n",
    "\n",
    "P-value увеличился.\n",
    "\n",
    "Разница между сегментами сократилась с 26% в пользу B до 0.02% в пользу группы А.\n",
    "Мы увидели, как сильно аномалии могут влиять на результаты A/B-теста, так как на неочищенных данных средний чек группы В был значительно выше, чем у А.\n"
   ]
  },
  {
   "cell_type": "markdown",
   "id": "b149b15d",
   "metadata": {},
   "source": [
    "14. Примите решение по результатам теста и объясните его. Варианты решений:\n",
    "    1. Остановить тест, зафиксировать победу одной из групп.\n",
    "    2. Остановить тест, зафиксировать отсутствие различий между группами.\n",
    "    3. Продолжить тест."
   ]
  },
  {
   "cell_type": "markdown",
   "id": "a2bd6b24",
   "metadata": {},
   "source": [
    "<font color='#006957'><b>ВЫВОД</b></font>\n",
    "\n",
    "Имеющиеся факты:\n",
    "- Различия в среднем кличестве заказов между группами есть, как по \"сырым\", так и по \"очищенным\" данным. В группе В их на 16,8% больше;\n",
    "- Средний чек группы В по «сырым» данным выше, чем у группы А, после фильтрации аномалий разница практически нет;\n",
    "- График различия среднего количества заказов между группами сообщает, что результаты группы B лучше группы A, в конце исследования приблизительно на 13-14% ,при этом есть тенденция к еще небольшому улучшению;\n",
    "- График различия среднего чека говорит о преимуществе группы B, но скорее всего это произошло из-за выброса, так как к концу исследования метрика начинает снижаться.\n",
    "\n",
    "Исходя из обнаруженных фактов, тест следует остановить, признать его успешным и констатировать успех и победу группы B : группа B значительно лучше (эффективнее) группы A по среднему количеству заказов на посетителя, хотя по среднему чеку группы примерно равны"
   ]
  }
 ],
 "metadata": {
  "kernelspec": {
   "display_name": "Python 3 (ipykernel)",
   "language": "python",
   "name": "python3"
  },
  "language_info": {
   "codemirror_mode": {
    "name": "ipython",
    "version": 3
   },
   "file_extension": ".py",
   "mimetype": "text/x-python",
   "name": "python",
   "nbconvert_exporter": "python",
   "pygments_lexer": "ipython3",
   "version": "3.9.13"
  },
  "toc": {
   "base_numbering": 1,
   "nav_menu": {},
   "number_sections": true,
   "sideBar": true,
   "skip_h1_title": true,
   "title_cell": "Table of Contents",
   "title_sidebar": "Contents",
   "toc_cell": false,
   "toc_position": {
    "height": "calc(100% - 180px)",
    "left": "10px",
    "top": "150px",
    "width": "243.062px"
   },
   "toc_section_display": true,
   "toc_window_display": true
  }
 },
 "nbformat": 4,
 "nbformat_minor": 5
}
