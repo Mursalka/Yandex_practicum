{
 "cells": [
  {
   "cell_type": "markdown",
   "id": "9105ed4d",
   "metadata": {},
   "source": [
    "<h1>Анализ программы лояльности</h1>"
   ]
  },
  {
   "cell_type": "markdown",
   "id": "fe8f28d7",
   "metadata": {},
   "source": [
    "<h3>Описание проекта</h3>\n",
    "\n",
    "Проект заключается в анализе программы лояльности магазина строительных материалов «Строили, строили и наконец построили». В рамках проекта необходимо провести исследовательский анализ данных, проанализировать программу лояльности и сформулировать и проверить статистические гипотезы.\n",
    "\n",
    "В качестве исходных данных предоставлен датасет, содержащий информацию о покупках в магазине строительных материалов. Все покупатели могут получить доступ в магазин с использованием персональных карт. За 200 рублей в месяц они могут стать участниками программы лояльности, которая включает скидки, специальные предложения и подарки.\n"
   ]
  },
  {
   "cell_type": "markdown",
   "id": "8cae2009",
   "metadata": {},
   "source": [
    "<h3>Цель исследования</h3>\n",
    "\n",
    "Провести анализ программы лояльности магазина строительных материалов \"Строили, строили и наконец построили\" с целью выявления эффективности данной программы. Результаты проекта помогут менеджеру проекта принять решение о дальнейшей реализации программы лояльности и выборе стратегии для увеличения лояльности клиентов.\n",
    "\n",
    "Исследование будет основано на датасетах retail_dataset.csv и product_codes.csv в период за 1 декабря 2016 - 28 февраля 2017"
   ]
  },
  {
   "cell_type": "markdown",
   "id": "e8f7f7bb",
   "metadata": {},
   "source": [
    "<h3>Ход исследования</h3>\n",
    "\n",
    "- Подготовка данных:\n",
    "    - Импорт необходимых библиотек.\n",
    "    - Загрузка данных из файла.\n",
    "    - Проверка наличия пропущенных значений и обработка их, если они есть.\n",
    "    - Проверка наличия дубликатов и обработка их, если они есть.\n",
    "    - Приведение типов данных к необходимым форматам.\n",
    "    - Анализ выбросов и обработка их, если они есть.\n",
    "- Исследовательский анализ данных:\n",
    "    - Изучение общей информации о данных.\n",
    "    - Построение графиков для визуализации распределения данных.\n",
    "    - Задание функций для расчёта и анализа LTV, ROI, удержания и конверсии.\n",
    "    - Поиск корреляций между переменными, такими как суммарная выручка, количество товаров, цена товаров, дата покупки и участие в программе лояльности.\n",
    "    - Рассчёт следующих метрик:\n",
    "        - Количество покупок в месяц\n",
    "        - Среднее количество товаров в чеке\n",
    "        - Доля покупателей, участвующих в программе лояльности\n",
    "        - Средний чек (суммарная выручка / количество покупок)\n",
    "        \n",
    "*Основной метрикой, по которой мы будем судить об эффективности программы лояльности, будет средний чек участников программы по сравнению с обычными покупателями. Второстепенными метриками будут количество покупок в месяц и среднее количество товаров в чеке. Дополнительные метрики могут включать долю участников программы лояльности, суммарную выручку и т.д.*\n",
    "- Статистический анализ:\n",
    "    - Формулирование и проверка статистических гипотез.\n",
    "    - Проверка гипотезы: средний чек участников программы лояльности выше, чем у остальных покупателей.\n",
    "    - Формулирование собственной статистической гипотезы.\n",
    "    - Проверка гипотезы: клиенты, которые участвуют в программе лояльности и делают покупки в магазине чаще, имеют больший размер среднего чека, чем участники программы, которые делают покупки реже.\n",
    "    - Нулевая гипотеза: средний размер чека участников программы лояльности не зависит от частоты их покупок в магазине.\n",
    "    - Альтернативная гипотеза: средний размер чека участников программы лояльности зависит от частоты их покупок в магазине.\n",
    "    - Проверка гипотезы с помощью статистического теста.\n",
    "- Выводы:\n",
    "    - Сводка результатов анализа.\n",
    "    - Рекомендации для улучшения программы лояльности и привлечения новых клиентов.\n",
    "    - Общие выводы о результатах исследования."
   ]
  },
  {
   "cell_type": "markdown",
   "id": "d4affad9",
   "metadata": {},
   "source": [
    "<h3>Оглавление</h3>\n",
    "\n",
    "1. [Описание данных](#id1)\n",
    "2. [Открытие данных](#id2)\n",
    "3. [Предобработка данных](#id3)\n",
    "    * [Обработка дубликатов](#id4)\n",
    "    * [Обработка пропущенных значений](#id5)\n",
    "    * [Обработка аномалий](#id6)\n",
    "4. [Анализ данных](#id7)\n",
    "    * [Изучение общей информации о данных](#id8)\n",
    "    * [Средний чек](#id9)\n",
    "    * [Количество товаров](#id10)\n",
    "    * [Количество уникальных товаров](#id11)\n",
    "    * [Расчёт LTV](#id12)\n",
    "5. [Статистический анализ](#id13)\n",
    "    * [Средний чек](#id14)\n",
    "    * [Количество товаров в чеке](#id15)\n",
    "6. [Выводы](#id16)"
   ]
  },
  {
   "cell_type": "markdown",
   "id": "0e224928",
   "metadata": {},
   "source": [
    "<h3><a id=\"id1\">Описание данных</a> </h3>"
   ]
  },
  {
   "cell_type": "markdown",
   "id": "a76d1d4a",
   "metadata": {},
   "source": [
    "Датасет содержит данные о покупках в магазине строительных материалов «Строили, строили и наконец построили». Все покупатели могут получить доступ в магазин с использованием персональных карт. За 200 рублей в месяц они могут стать участниками программы лояльности. В программу включены скидки, специальные предложения, подарки.\n",
    "\n",
    "Файл retail_dataset.csv:\n",
    "\n",
    "- `purchaseId` — id чека;\n",
    "- `item_ID` — id товара;\n",
    "- `purchasedate` — дата покупки;\n",
    "- `Quantity` — количество товара;\n",
    "- `CustomerID` — id покупателя;\n",
    "- `ShopID` — id магазина;\n",
    "- `loyalty_program` — участвует ли покупатель в программе лояльности;\n",
    "\n",
    "Файл product_codes.csv:\n",
    "\n",
    "- `productID` — id товара;\n",
    "- `price_per_one` — стоимость одной единицы товара;"
   ]
  },
  {
   "cell_type": "markdown",
   "id": "960d6c5d",
   "metadata": {},
   "source": [
    "<h3><a id=\"id2\">Открытие данных</a> </h3>\n"
   ]
  },
  {
   "cell_type": "code",
   "execution_count": 1,
   "id": "de66d586",
   "metadata": {},
   "outputs": [],
   "source": [
    "# Импортируем необходимые библиотеки\n",
    "import pandas as pd\n",
    "import numpy as np\n",
    "import matplotlib.pyplot as plt\n",
    "from datetime import datetime, timedelta\n",
    "import plotly.express as px\n",
    "import plotly.graph_objects as go\n",
    "import seaborn as sns\n",
    "import scipy.stats as stats\n",
    "from scipy import stats as st\n",
    "pd.options.display.float_format = '{:,.2f}'.format\n"
   ]
  },
  {
   "cell_type": "code",
   "execution_count": 2,
   "id": "52502292",
   "metadata": {},
   "outputs": [],
   "source": [
    " # Загружаем данные\n",
    "try:\n",
    "    retail, product = (\n",
    "        pd.read_csv('/datasets/retail_dataset.csv'),  # покупки\n",
    "        pd.read_csv('/datasets/product_codes.csv'),  # товары\n",
    "    )\n",
    "except:\n",
    "    retail, product = (\n",
    "        pd.read_csv('C://work/retail_dataset.csv'),  # покупки\n",
    "        pd.read_csv('C://work/product_codes.csv'),  # товары\n",
    "    )"
   ]
  },
  {
   "cell_type": "code",
   "execution_count": 3,
   "id": "966d65c4",
   "metadata": {},
   "outputs": [
    {
     "data": {
      "text/html": [
       "<div>\n",
       "<style scoped>\n",
       "    .dataframe tbody tr th:only-of-type {\n",
       "        vertical-align: middle;\n",
       "    }\n",
       "\n",
       "    .dataframe tbody tr th {\n",
       "        vertical-align: top;\n",
       "    }\n",
       "\n",
       "    .dataframe thead th {\n",
       "        text-align: right;\n",
       "    }\n",
       "</style>\n",
       "<table border=\"1\" class=\"dataframe\">\n",
       "  <thead>\n",
       "    <tr style=\"text-align: right;\">\n",
       "      <th></th>\n",
       "      <th>purchaseid</th>\n",
       "      <th>item_ID</th>\n",
       "      <th>Quantity</th>\n",
       "      <th>purchasedate</th>\n",
       "      <th>CustomerID</th>\n",
       "      <th>ShopID</th>\n",
       "      <th>loyalty_program</th>\n",
       "    </tr>\n",
       "  </thead>\n",
       "  <tbody>\n",
       "    <tr>\n",
       "      <th>0</th>\n",
       "      <td>538280</td>\n",
       "      <td>21873</td>\n",
       "      <td>11</td>\n",
       "      <td>2016-12-10 12:50:00</td>\n",
       "      <td>18,427.00</td>\n",
       "      <td>Shop 0</td>\n",
       "      <td>0.00</td>\n",
       "    </tr>\n",
       "    <tr>\n",
       "      <th>1</th>\n",
       "      <td>538862</td>\n",
       "      <td>22195</td>\n",
       "      <td>0</td>\n",
       "      <td>2016-12-14 14:11:00</td>\n",
       "      <td>22,389.00</td>\n",
       "      <td>Shop 0</td>\n",
       "      <td>1.00</td>\n",
       "    </tr>\n",
       "    <tr>\n",
       "      <th>2</th>\n",
       "      <td>538855</td>\n",
       "      <td>21239</td>\n",
       "      <td>7</td>\n",
       "      <td>2016-12-14 13:50:00</td>\n",
       "      <td>22,182.00</td>\n",
       "      <td>Shop 0</td>\n",
       "      <td>1.00</td>\n",
       "    </tr>\n",
       "    <tr>\n",
       "      <th>3</th>\n",
       "      <td>543543</td>\n",
       "      <td>22271</td>\n",
       "      <td>0</td>\n",
       "      <td>2017-02-09 15:33:00</td>\n",
       "      <td>23,522.00</td>\n",
       "      <td>Shop 0</td>\n",
       "      <td>1.00</td>\n",
       "    </tr>\n",
       "    <tr>\n",
       "      <th>4</th>\n",
       "      <td>543812</td>\n",
       "      <td>79321</td>\n",
       "      <td>0</td>\n",
       "      <td>2017-02-13 14:40:00</td>\n",
       "      <td>23,151.00</td>\n",
       "      <td>Shop 0</td>\n",
       "      <td>1.00</td>\n",
       "    </tr>\n",
       "  </tbody>\n",
       "</table>\n",
       "</div>"
      ],
      "text/plain": [
       "  purchaseid item_ID  Quantity         purchasedate  CustomerID  ShopID  \\\n",
       "0     538280   21873        11  2016-12-10 12:50:00   18,427.00  Shop 0   \n",
       "1     538862   22195         0  2016-12-14 14:11:00   22,389.00  Shop 0   \n",
       "2     538855   21239         7  2016-12-14 13:50:00   22,182.00  Shop 0   \n",
       "3     543543   22271         0  2017-02-09 15:33:00   23,522.00  Shop 0   \n",
       "4     543812   79321         0  2017-02-13 14:40:00   23,151.00  Shop 0   \n",
       "\n",
       "   loyalty_program  \n",
       "0             0.00  \n",
       "1             1.00  \n",
       "2             1.00  \n",
       "3             1.00  \n",
       "4             1.00  "
      ]
     },
     "execution_count": 3,
     "metadata": {},
     "output_type": "execute_result"
    }
   ],
   "source": [
    "#изучим первые 5 строк\n",
    "retail.head()"
   ]
  },
  {
   "cell_type": "markdown",
   "id": "16442315",
   "metadata": {},
   "source": [
    "Названия столбцов необходимо привести к нижнему регистру и \"змеиному стилю\""
   ]
  },
  {
   "cell_type": "code",
   "execution_count": 4,
   "id": "be0964be",
   "metadata": {},
   "outputs": [
    {
     "name": "stdout",
     "output_type": "stream",
     "text": [
      "<class 'pandas.core.frame.DataFrame'>\n",
      "RangeIndex: 105335 entries, 0 to 105334\n",
      "Data columns (total 7 columns):\n",
      " #   Column           Non-Null Count   Dtype  \n",
      "---  ------           --------------   -----  \n",
      " 0   purchaseid       105335 non-null  object \n",
      " 1   item_ID          105335 non-null  object \n",
      " 2   Quantity         105335 non-null  int64  \n",
      " 3   purchasedate     105335 non-null  object \n",
      " 4   CustomerID       69125 non-null   float64\n",
      " 5   ShopID           105335 non-null  object \n",
      " 6   loyalty_program  105335 non-null  float64\n",
      "dtypes: float64(2), int64(1), object(4)\n",
      "memory usage: 5.6+ MB\n"
     ]
    }
   ],
   "source": [
    "#Получим детальную информацию о колонках DataFrame\n",
    "retail.info()"
   ]
  },
  {
   "cell_type": "markdown",
   "id": "11f5c6ee",
   "metadata": {},
   "source": [
    "Всего 105335 записей. У \n",
    "- purchase_date (object -> datetime),  \n",
    "- customer_id (float -> int), \n",
    "- loyalty_program (float64 -> int)\n",
    "\n",
    "некорректный тип данных. "
   ]
  },
  {
   "cell_type": "code",
   "execution_count": 5,
   "id": "a957c3b5",
   "metadata": {},
   "outputs": [
    {
     "data": {
      "text/html": [
       "<div>\n",
       "<style scoped>\n",
       "    .dataframe tbody tr th:only-of-type {\n",
       "        vertical-align: middle;\n",
       "    }\n",
       "\n",
       "    .dataframe tbody tr th {\n",
       "        vertical-align: top;\n",
       "    }\n",
       "\n",
       "    .dataframe thead th {\n",
       "        text-align: right;\n",
       "    }\n",
       "</style>\n",
       "<table border=\"1\" class=\"dataframe\">\n",
       "  <thead>\n",
       "    <tr style=\"text-align: right;\">\n",
       "      <th></th>\n",
       "      <th>productID</th>\n",
       "      <th>price_per_one</th>\n",
       "    </tr>\n",
       "  </thead>\n",
       "  <tbody>\n",
       "    <tr>\n",
       "      <th>0</th>\n",
       "      <td>85123A</td>\n",
       "      <td>2.55</td>\n",
       "    </tr>\n",
       "    <tr>\n",
       "      <th>1</th>\n",
       "      <td>71053</td>\n",
       "      <td>3.39</td>\n",
       "    </tr>\n",
       "    <tr>\n",
       "      <th>2</th>\n",
       "      <td>84406B</td>\n",
       "      <td>2.75</td>\n",
       "    </tr>\n",
       "    <tr>\n",
       "      <th>3</th>\n",
       "      <td>84029G</td>\n",
       "      <td>3.39</td>\n",
       "    </tr>\n",
       "    <tr>\n",
       "      <th>4</th>\n",
       "      <td>84029E</td>\n",
       "      <td>3.39</td>\n",
       "    </tr>\n",
       "  </tbody>\n",
       "</table>\n",
       "</div>"
      ],
      "text/plain": [
       "  productID  price_per_one\n",
       "0    85123A           2.55\n",
       "1     71053           3.39\n",
       "2    84406B           2.75\n",
       "3    84029G           3.39\n",
       "4    84029E           3.39"
      ]
     },
     "execution_count": 5,
     "metadata": {},
     "output_type": "execute_result"
    }
   ],
   "source": [
    "#изучим первые 5 строк\n",
    "product.head()"
   ]
  },
  {
   "cell_type": "markdown",
   "id": "e6a9194e",
   "metadata": {},
   "source": [
    "Надо исправить название первого столбца на product_id"
   ]
  },
  {
   "cell_type": "code",
   "execution_count": 6,
   "id": "964933a3",
   "metadata": {},
   "outputs": [
    {
     "name": "stdout",
     "output_type": "stream",
     "text": [
      "<class 'pandas.core.frame.DataFrame'>\n",
      "RangeIndex: 9969 entries, 0 to 9968\n",
      "Data columns (total 2 columns):\n",
      " #   Column         Non-Null Count  Dtype  \n",
      "---  ------         --------------  -----  \n",
      " 0   productID      9969 non-null   object \n",
      " 1   price_per_one  9969 non-null   float64\n",
      "dtypes: float64(1), object(1)\n",
      "memory usage: 155.9+ KB\n"
     ]
    }
   ],
   "source": [
    "#Получим детальную информацию о колонках DataFrame\n",
    "product.info()"
   ]
  },
  {
   "cell_type": "markdown",
   "id": "2f206880",
   "metadata": {},
   "source": [
    "С типами данных всё хорошо"
   ]
  },
  {
   "cell_type": "markdown",
   "id": "924c2eb6",
   "metadata": {},
   "source": [
    "<font color='#006957'><b>ВЫВОД</b></font>\n",
    "\n",
    "В ходе изучения файла retail_dataset.csv:\n",
    "- изучили общую информацию\n",
    "- имеются данные о 105335 покупках\n",
    "- неудобные названия колонок\n",
    "- У   \n",
    "    - purchase_date (object -> datetime),  \n",
    "    - customer_id (float -> int), \n",
    "    - shop_id (object -> int), \n",
    "    - loyalty_program (float64 -> bool)\n",
    "\n",
    "    некорректный тип данных. \n",
    "    \n",
    "В ходе изучения файла product_codes.csv:\n",
    "- изучили общую информацию\n",
    "- имеются данные о 9969 товарах\n",
    "- у столбца productID неудобное название"
   ]
  },
  {
   "cell_type": "markdown",
   "id": "45cd8e15",
   "metadata": {},
   "source": [
    "<h3><a id=\"id3\">Предобработка данных</a> </h3>"
   ]
  },
  {
   "cell_type": "markdown",
   "id": "735339cd",
   "metadata": {},
   "source": [
    "<h4><a id=\"id4\">Переименование столбцов</a> </h4>"
   ]
  },
  {
   "cell_type": "code",
   "execution_count": 7,
   "id": "8f861dec",
   "metadata": {},
   "outputs": [],
   "source": [
    "# Меняем названия колонок retail\n",
    "retail.columns = ['purchase_id','item_id', 'quantity', 'purchase_date', 'customer_id', 'shop_id', 'loyalty_program']\n",
    "# Меняем названия колонок product\n",
    "product.rename(columns = {'productID':'product_id'}, inplace = True )"
   ]
  },
  {
   "cell_type": "markdown",
   "id": "1da917a9",
   "metadata": {},
   "source": [
    "<h4><a id=\"id5\">Обработка дубликатов</a> </h4>"
   ]
  },
  {
   "cell_type": "code",
   "execution_count": 8,
   "id": "0ffe4406",
   "metadata": {},
   "outputs": [
    {
     "data": {
      "text/plain": [
       "1033"
      ]
     },
     "execution_count": 8,
     "metadata": {},
     "output_type": "execute_result"
    }
   ],
   "source": [
    "# Подсчитываем количество явных дубликатов в столбцах\n",
    "retail.duplicated().sum()"
   ]
  },
  {
   "cell_type": "code",
   "execution_count": 9,
   "id": "9b3b1cb2",
   "metadata": {},
   "outputs": [
    {
     "data": {
      "text/plain": [
       "0"
      ]
     },
     "execution_count": 9,
     "metadata": {},
     "output_type": "execute_result"
    }
   ],
   "source": [
    "# Удаляем явные дубликаты в столбцах \n",
    "retail.drop_duplicates()\n",
    "# Подсчитываем количество явных дубликатов в столбцах\n",
    "product.duplicated().sum()"
   ]
  },
  {
   "cell_type": "markdown",
   "id": "c5d623ac",
   "metadata": {},
   "source": [
    "Поищем неявные дубликаты в таблице product"
   ]
  },
  {
   "cell_type": "code",
   "execution_count": 10,
   "id": "e2bc26bb",
   "metadata": {},
   "outputs": [
    {
     "data": {
      "text/html": [
       "<div>\n",
       "<style scoped>\n",
       "    .dataframe tbody tr th:only-of-type {\n",
       "        vertical-align: middle;\n",
       "    }\n",
       "\n",
       "    .dataframe tbody tr th {\n",
       "        vertical-align: top;\n",
       "    }\n",
       "\n",
       "    .dataframe thead th {\n",
       "        text-align: right;\n",
       "    }\n",
       "</style>\n",
       "<table border=\"1\" class=\"dataframe\">\n",
       "  <thead>\n",
       "    <tr style=\"text-align: right;\">\n",
       "      <th></th>\n",
       "      <th>product_id</th>\n",
       "      <th>price_per_one</th>\n",
       "    </tr>\n",
       "  </thead>\n",
       "  <tbody>\n",
       "    <tr>\n",
       "      <th>31</th>\n",
       "      <td>10002</td>\n",
       "      <td>0.85</td>\n",
       "    </tr>\n",
       "    <tr>\n",
       "      <th>8122</th>\n",
       "      <td>10002</td>\n",
       "      <td>1.63</td>\n",
       "    </tr>\n",
       "    <tr>\n",
       "      <th>2459</th>\n",
       "      <td>10002</td>\n",
       "      <td>1.66</td>\n",
       "    </tr>\n",
       "    <tr>\n",
       "      <th>9886</th>\n",
       "      <td>10080</td>\n",
       "      <td>0.85</td>\n",
       "    </tr>\n",
       "    <tr>\n",
       "      <th>2432</th>\n",
       "      <td>10120</td>\n",
       "      <td>0.21</td>\n",
       "    </tr>\n",
       "  </tbody>\n",
       "</table>\n",
       "</div>"
      ],
      "text/plain": [
       "     product_id  price_per_one\n",
       "31        10002           0.85\n",
       "8122      10002           1.63\n",
       "2459      10002           1.66\n",
       "9886      10080           0.85\n",
       "2432      10120           0.21"
      ]
     },
     "execution_count": 10,
     "metadata": {},
     "output_type": "execute_result"
    }
   ],
   "source": [
    "#отсортируем датафрейм product\n",
    "product.sort_values('product_id', inplace = True)\n",
    "product.head()"
   ]
  },
  {
   "cell_type": "code",
   "execution_count": 11,
   "id": "438fa405",
   "metadata": {},
   "outputs": [
    {
     "data": {
      "text/html": [
       "<div>\n",
       "<style scoped>\n",
       "    .dataframe tbody tr th:only-of-type {\n",
       "        vertical-align: middle;\n",
       "    }\n",
       "\n",
       "    .dataframe tbody tr th {\n",
       "        vertical-align: top;\n",
       "    }\n",
       "\n",
       "    .dataframe thead th {\n",
       "        text-align: right;\n",
       "    }\n",
       "</style>\n",
       "<table border=\"1\" class=\"dataframe\">\n",
       "  <thead>\n",
       "    <tr style=\"text-align: right;\">\n",
       "      <th></th>\n",
       "      <th>product_id</th>\n",
       "      <th>price_per_one</th>\n",
       "    </tr>\n",
       "  </thead>\n",
       "  <tbody>\n",
       "    <tr>\n",
       "      <th>8122</th>\n",
       "      <td>10002</td>\n",
       "      <td>1.63</td>\n",
       "    </tr>\n",
       "    <tr>\n",
       "      <th>2459</th>\n",
       "      <td>10002</td>\n",
       "      <td>1.66</td>\n",
       "    </tr>\n",
       "    <tr>\n",
       "      <th>3542</th>\n",
       "      <td>10125</td>\n",
       "      <td>1.66</td>\n",
       "    </tr>\n",
       "    <tr>\n",
       "      <th>6052</th>\n",
       "      <td>10125</td>\n",
       "      <td>0.81</td>\n",
       "    </tr>\n",
       "    <tr>\n",
       "      <th>545</th>\n",
       "      <td>10125</td>\n",
       "      <td>0.85</td>\n",
       "    </tr>\n",
       "    <tr>\n",
       "      <th>...</th>\n",
       "      <td>...</td>\n",
       "      <td>...</td>\n",
       "    </tr>\n",
       "    <tr>\n",
       "      <th>9714</th>\n",
       "      <td>S</td>\n",
       "      <td>5.44</td>\n",
       "    </tr>\n",
       "    <tr>\n",
       "      <th>9715</th>\n",
       "      <td>S</td>\n",
       "      <td>7.00</td>\n",
       "    </tr>\n",
       "    <tr>\n",
       "      <th>9723</th>\n",
       "      <td>S</td>\n",
       "      <td>55.00</td>\n",
       "    </tr>\n",
       "    <tr>\n",
       "      <th>6834</th>\n",
       "      <td>gift_0001_20</td>\n",
       "      <td>16.67</td>\n",
       "    </tr>\n",
       "    <tr>\n",
       "      <th>6178</th>\n",
       "      <td>gift_0001_30</td>\n",
       "      <td>25.53</td>\n",
       "    </tr>\n",
       "  </tbody>\n",
       "</table>\n",
       "<p>6810 rows × 2 columns</p>\n",
       "</div>"
      ],
      "text/plain": [
       "        product_id  price_per_one\n",
       "8122         10002           1.63\n",
       "2459         10002           1.66\n",
       "3542         10125           1.66\n",
       "6052         10125           0.81\n",
       "545          10125           0.85\n",
       "...            ...            ...\n",
       "9714             S           5.44\n",
       "9715             S           7.00\n",
       "9723             S          55.00\n",
       "6834  gift_0001_20          16.67\n",
       "6178  gift_0001_30          25.53\n",
       "\n",
       "[6810 rows x 2 columns]"
      ]
     },
     "execution_count": 11,
     "metadata": {},
     "output_type": "execute_result"
    }
   ],
   "source": [
    "product[product.duplicated(['product_id'])]"
   ]
  },
  {
   "cell_type": "markdown",
   "id": "2257ae57",
   "metadata": {},
   "source": [
    "У большинства товаров несколько цен - надо оставить одну. Оставим среднюю стоимость"
   ]
  },
  {
   "cell_type": "code",
   "execution_count": 12,
   "id": "34e6fc7e",
   "metadata": {},
   "outputs": [
    {
     "data": {
      "text/html": [
       "<div>\n",
       "<style scoped>\n",
       "    .dataframe tbody tr th:only-of-type {\n",
       "        vertical-align: middle;\n",
       "    }\n",
       "\n",
       "    .dataframe tbody tr th {\n",
       "        vertical-align: top;\n",
       "    }\n",
       "\n",
       "    .dataframe thead th {\n",
       "        text-align: right;\n",
       "    }\n",
       "</style>\n",
       "<table border=\"1\" class=\"dataframe\">\n",
       "  <thead>\n",
       "    <tr style=\"text-align: right;\">\n",
       "      <th></th>\n",
       "      <th>product_id</th>\n",
       "      <th>price_per_one</th>\n",
       "    </tr>\n",
       "  </thead>\n",
       "  <tbody>\n",
       "    <tr>\n",
       "      <th>0</th>\n",
       "      <td>10002</td>\n",
       "      <td>1.38</td>\n",
       "    </tr>\n",
       "    <tr>\n",
       "      <th>1</th>\n",
       "      <td>10080</td>\n",
       "      <td>0.85</td>\n",
       "    </tr>\n",
       "    <tr>\n",
       "      <th>2</th>\n",
       "      <td>10120</td>\n",
       "      <td>0.21</td>\n",
       "    </tr>\n",
       "    <tr>\n",
       "      <th>3</th>\n",
       "      <td>10123C</td>\n",
       "      <td>0.65</td>\n",
       "    </tr>\n",
       "    <tr>\n",
       "      <th>4</th>\n",
       "      <td>10124A</td>\n",
       "      <td>0.42</td>\n",
       "    </tr>\n",
       "  </tbody>\n",
       "</table>\n",
       "</div>"
      ],
      "text/plain": [
       "  product_id  price_per_one\n",
       "0      10002           1.38\n",
       "1      10080           0.85\n",
       "2      10120           0.21\n",
       "3     10123C           0.65\n",
       "4     10124A           0.42"
      ]
     },
     "execution_count": 12,
     "metadata": {},
     "output_type": "execute_result"
    }
   ],
   "source": [
    "product = product.groupby('product_id')['price_per_one'].mean().reset_index()\n",
    "product.head()"
   ]
  },
  {
   "cell_type": "markdown",
   "id": "ee74cb3f",
   "metadata": {},
   "source": [
    "<h4><a id=\"id6\">Обработка пропусков</a> </h4>"
   ]
  },
  {
   "cell_type": "code",
   "execution_count": 13,
   "id": "5fb79187",
   "metadata": {},
   "outputs": [
    {
     "data": {
      "text/plain": [
       "purchase_id            0\n",
       "item_id                0\n",
       "quantity               0\n",
       "purchase_date          0\n",
       "customer_id        36210\n",
       "shop_id                0\n",
       "loyalty_program        0\n",
       "dtype: int64"
      ]
     },
     "execution_count": 13,
     "metadata": {},
     "output_type": "execute_result"
    }
   ],
   "source": [
    "#Определяем, в каких столбцах есть пропуски.\n",
    "retail.isnull().sum()"
   ]
  },
  {
   "cell_type": "code",
   "execution_count": 14,
   "id": "7c90434f",
   "metadata": {},
   "outputs": [
    {
     "data": {
      "text/html": [
       "<style type=\"text/css\">\n",
       "#T_c83cf_row0_col0, #T_c83cf_row1_col0, #T_c83cf_row2_col0, #T_c83cf_row3_col0, #T_c83cf_row5_col0, #T_c83cf_row6_col0 {\n",
       "  background-color: #3b4cc0;\n",
       "  color: #f1f1f1;\n",
       "}\n",
       "#T_c83cf_row4_col0 {\n",
       "  background-color: #b40426;\n",
       "  color: #f1f1f1;\n",
       "}\n",
       "</style>\n",
       "<table id=\"T_c83cf\">\n",
       "  <thead>\n",
       "    <tr>\n",
       "      <th class=\"blank level0\" >&nbsp;</th>\n",
       "      <th id=\"T_c83cf_level0_col0\" class=\"col_heading level0 col0\" >0</th>\n",
       "    </tr>\n",
       "  </thead>\n",
       "  <tbody>\n",
       "    <tr>\n",
       "      <th id=\"T_c83cf_level0_row0\" class=\"row_heading level0 row0\" >purchase_id</th>\n",
       "      <td id=\"T_c83cf_row0_col0\" class=\"data row0 col0\" >0.000000</td>\n",
       "    </tr>\n",
       "    <tr>\n",
       "      <th id=\"T_c83cf_level0_row1\" class=\"row_heading level0 row1\" >item_id</th>\n",
       "      <td id=\"T_c83cf_row1_col0\" class=\"data row1 col0\" >0.000000</td>\n",
       "    </tr>\n",
       "    <tr>\n",
       "      <th id=\"T_c83cf_level0_row2\" class=\"row_heading level0 row2\" >quantity</th>\n",
       "      <td id=\"T_c83cf_row2_col0\" class=\"data row2 col0\" >0.000000</td>\n",
       "    </tr>\n",
       "    <tr>\n",
       "      <th id=\"T_c83cf_level0_row3\" class=\"row_heading level0 row3\" >purchase_date</th>\n",
       "      <td id=\"T_c83cf_row3_col0\" class=\"data row3 col0\" >0.000000</td>\n",
       "    </tr>\n",
       "    <tr>\n",
       "      <th id=\"T_c83cf_level0_row4\" class=\"row_heading level0 row4\" >customer_id</th>\n",
       "      <td id=\"T_c83cf_row4_col0\" class=\"data row4 col0\" >34.000000</td>\n",
       "    </tr>\n",
       "    <tr>\n",
       "      <th id=\"T_c83cf_level0_row5\" class=\"row_heading level0 row5\" >shop_id</th>\n",
       "      <td id=\"T_c83cf_row5_col0\" class=\"data row5 col0\" >0.000000</td>\n",
       "    </tr>\n",
       "    <tr>\n",
       "      <th id=\"T_c83cf_level0_row6\" class=\"row_heading level0 row6\" >loyalty_program</th>\n",
       "      <td id=\"T_c83cf_row6_col0\" class=\"data row6 col0\" >0.000000</td>\n",
       "    </tr>\n",
       "  </tbody>\n",
       "</table>\n"
      ],
      "text/plain": [
       "<pandas.io.formats.style.Styler at 0x1c26b426220>"
      ]
     },
     "execution_count": 14,
     "metadata": {},
     "output_type": "execute_result"
    }
   ],
   "source": [
    "#Определяем пропуски в столбцах в %\n",
    "pd.DataFrame(round(retail.isna().mean()*100,)).style.background_gradient('coolwarm')"
   ]
  },
  {
   "cell_type": "markdown",
   "id": "0aff9f0a",
   "metadata": {},
   "source": [
    "Пропусков слишком много - 34% - поэтому удалить мы их не можем.\n",
    "\n",
    "Так как отсутствует именно id покупателя, то скорее всего это не постоянные покупатели, а те кто зашёл в магазин лишь единожды, проверим, являются ли участниками программы лояльности:"
   ]
  },
  {
   "cell_type": "code",
   "execution_count": 15,
   "id": "76b762f1",
   "metadata": {},
   "outputs": [
    {
     "data": {
      "text/plain": [
       "0"
      ]
     },
     "execution_count": 15,
     "metadata": {},
     "output_type": "execute_result"
    }
   ],
   "source": [
    "len(retail[(retail['customer_id'].isna()) & (retail['loyalty_program']==1)])"
   ]
  },
  {
   "cell_type": "markdown",
   "id": "755a79de",
   "metadata": {},
   "source": [
    "Все они не участвуют в программе лояльности - присвоим им в качестве customer_id - purchase_id"
   ]
  },
  {
   "cell_type": "code",
   "execution_count": 16,
   "id": "302bb4e8",
   "metadata": {},
   "outputs": [],
   "source": [
    "retail['customer_id'] = retail['customer_id'].fillna(retail['purchase_id'].str.replace('[a-zA-Z]', '', regex=True))"
   ]
  },
  {
   "cell_type": "code",
   "execution_count": 17,
   "id": "f5e4aef9",
   "metadata": {},
   "outputs": [
    {
     "data": {
      "text/plain": [
       "product_id       0\n",
       "price_per_one    0\n",
       "dtype: int64"
      ]
     },
     "execution_count": 17,
     "metadata": {},
     "output_type": "execute_result"
    }
   ],
   "source": [
    "#Определяем, в каких столбцах есть пропуски.\n",
    "product.isnull().sum()"
   ]
  },
  {
   "cell_type": "markdown",
   "id": "48e0a2fc",
   "metadata": {},
   "source": [
    "<h4><a id=\"id4\">Преобразование типов данных</a> </h4>"
   ]
  },
  {
   "cell_type": "code",
   "execution_count": 18,
   "id": "4417deda",
   "metadata": {},
   "outputs": [],
   "source": [
    "# преобразование данных о времени\n",
    "retail['purchase_date'] = pd.to_datetime(retail['purchase_date'])"
   ]
  },
  {
   "cell_type": "code",
   "execution_count": 19,
   "id": "903447e4",
   "metadata": {
    "scrolled": true
   },
   "outputs": [],
   "source": [
    "#customer_id меняем тип на int\n",
    "retail['customer_id'] = retail['customer_id'].astype(int)\n",
    "#loyalty_program меняем тип на int\n",
    "retail['loyalty_program'] = retail['loyalty_program'].astype(int)"
   ]
  },
  {
   "cell_type": "code",
   "execution_count": 20,
   "id": "d9d2a905",
   "metadata": {},
   "outputs": [
    {
     "data": {
      "text/plain": [
       "array(['Shop 0', 'Shop 1', 'Shop 4', 'Shop 6', 'Shop 2', 'Shop 11',\n",
       "       'Shop 3', 'Shop 5', 'Shop 7', 'Shop 12', 'Shop 8', 'Shop 27',\n",
       "       'Shop 10', 'Shop 20', 'Shop 19', 'Shop 25', 'Shop 14', 'Shop 21',\n",
       "       'Shop 18', 'Shop 9', 'Shop 16', 'Shop 28', 'Shop 29', 'Shop 17',\n",
       "       'Shop 22', 'Shop 13', 'Shop 26', 'Shop 24', 'Shop 15', 'Shop 23',\n",
       "       'Shop 30'], dtype=object)"
      ]
     },
     "execution_count": 20,
     "metadata": {},
     "output_type": "execute_result"
    }
   ],
   "source": [
    "#посмотрим значения столбца shop_id\n",
    "retail['shop_id'].unique()"
   ]
  },
  {
   "cell_type": "code",
   "execution_count": 21,
   "id": "b2848106",
   "metadata": {},
   "outputs": [],
   "source": [
    "# для удобства избавимся от Shop, оставим только номер\n",
    "retail['shop_id'] = retail['shop_id'].str.replace('Shop ', '')"
   ]
  },
  {
   "cell_type": "code",
   "execution_count": 22,
   "id": "6783e391",
   "metadata": {},
   "outputs": [
    {
     "data": {
      "text/plain": [
       "array(['0', '1', '4', '6', '2', '11', '3', '5', '7', '12', '8', '27',\n",
       "       '10', '20', '19', '25', '14', '21', '18', '9', '16', '28', '29',\n",
       "       '17', '22', '13', '26', '24', '15', '23', '30'], dtype=object)"
      ]
     },
     "execution_count": 22,
     "metadata": {},
     "output_type": "execute_result"
    }
   ],
   "source": [
    "retail['shop_id'].unique()"
   ]
  },
  {
   "cell_type": "code",
   "execution_count": 23,
   "id": "64ef2640",
   "metadata": {},
   "outputs": [],
   "source": [
    "# поменяем тип данных\n",
    "retail['shop_id'] = retail['shop_id'].astype(int)"
   ]
  },
  {
   "cell_type": "markdown",
   "id": "cae73c32",
   "metadata": {},
   "source": [
    "<h4><a id=\"id5\">Обработка аномалий</a> </h4>"
   ]
  },
  {
   "cell_type": "code",
   "execution_count": 24,
   "id": "b2add07f",
   "metadata": {},
   "outputs": [
    {
     "data": {
      "text/plain": [
       "count   105,335.00\n",
       "mean          7.82\n",
       "std         327.95\n",
       "min     -74,216.00\n",
       "25%           0.00\n",
       "50%           2.00\n",
       "75%           7.00\n",
       "max      74,214.00\n",
       "Name: quantity, dtype: float64"
      ]
     },
     "execution_count": 24,
     "metadata": {},
     "output_type": "execute_result"
    }
   ],
   "source": [
    "#Получим статистическую характеристику данных \n",
    "retail['quantity'].describe()"
   ]
  },
  {
   "cell_type": "code",
   "execution_count": 25,
   "id": "e7c7915f",
   "metadata": {
    "scrolled": false
   },
   "outputs": [
    {
     "data": {
      "image/png": "[encoded data removed]",
      "text/plain": [
       "<Figure size 800x600 with 1 Axes>"
      ]
     },
     "metadata": {},
     "output_type": "display_data"
    }
   ],
   "source": [
    "# Построение диаграммы размаха для столбца количества товаров в чеке\n",
    "plt.figure(figsize=(8, 6))\n",
    "sns.boxplot(data=retail, y='quantity')\n",
    "plt.title('Диаграмма размаха для quantity')\n",
    "plt.ylabel('Количество товаров')\n",
    "plt.grid(True)\n",
    "plt.show()"
   ]
  },
  {
   "cell_type": "markdown",
   "id": "1bed934c",
   "metadata": {},
   "source": [
    "Очень много чеков с отрицательным количеством товаров, давайте посчитаем сколько"
   ]
  },
  {
   "cell_type": "code",
   "execution_count": 26,
   "id": "ca7d272e",
   "metadata": {},
   "outputs": [
    {
     "data": {
      "text/plain": [
       "35173"
      ]
     },
     "execution_count": 26,
     "metadata": {},
     "output_type": "execute_result"
    }
   ],
   "source": [
    "#количество строк всего\n",
    "len(retail[retail['quantity']<1])"
   ]
  },
  {
   "cell_type": "code",
   "execution_count": 27,
   "id": "b842006c",
   "metadata": {},
   "outputs": [
    {
     "name": "stdout",
     "output_type": "stream",
     "text": [
      "Количество чеков с отрицательным количеством товаров = 35173\n",
      "% чеков с отрицательным количеством товаров = 33.39\n"
     ]
    }
   ],
   "source": [
    "#количество строк всего\n",
    "print('Количество чеков с отрицательным количеством товаров =', len(retail[retail['quantity']<1]))\n",
    "#% количество строк \n",
    "print('% чеков с отрицательным количеством товаров =', round((len(retail[retail['quantity']<1])/len(retail['quantity'])*100),2))"
   ]
  },
  {
   "cell_type": "markdown",
   "id": "b4848941",
   "metadata": {},
   "source": [
    "Количество таких чеков достаточно большое - возможно, это возвраты, примем решение удалить такие строки."
   ]
  },
  {
   "cell_type": "code",
   "execution_count": 28,
   "id": "f8454ea4",
   "metadata": {},
   "outputs": [],
   "source": [
    "retail = retail[retail['quantity']>0]"
   ]
  },
  {
   "cell_type": "code",
   "execution_count": 29,
   "id": "004fd201",
   "metadata": {
    "scrolled": false
   },
   "outputs": [
    {
     "data": {
      "image/png": "[encoded data removed]",
      "text/plain": [
       "<Figure size 800x600 with 1 Axes>"
      ]
     },
     "metadata": {},
     "output_type": "display_data"
    }
   ],
   "source": [
    "# Построение диаграммы размаха для столбца количества товаров в чеке\n",
    "plt.figure(figsize=(8, 6))\n",
    "sns.boxplot(data=retail, y='quantity')\n",
    "plt.title('Диаграмма размаха для quantity')\n",
    "plt.ylabel('Количество товаров')\n",
    "plt.grid(True)\n",
    "plt.show()"
   ]
  },
  {
   "cell_type": "code",
   "execution_count": 30,
   "id": "0ba283f9",
   "metadata": {},
   "outputs": [
    {
     "data": {
      "text/plain": [
       "1"
      ]
     },
     "execution_count": 30,
     "metadata": {},
     "output_type": "execute_result"
    }
   ],
   "source": [
    "#количество чеков с количеством товаров больше 50 тысяч\n",
    "len(retail[retail['quantity']>50000])"
   ]
  },
  {
   "cell_type": "markdown",
   "id": "b4f9fb51",
   "metadata": {},
   "source": [
    "Возможно, это был какой-то крупный заказ, удалим его, чтоб не искажать данные"
   ]
  },
  {
   "cell_type": "code",
   "execution_count": 31,
   "id": "bb85f1f5",
   "metadata": {},
   "outputs": [],
   "source": [
    "retail = retail[retail['quantity']<50000]"
   ]
  },
  {
   "cell_type": "code",
   "execution_count": 32,
   "id": "0b236f8c",
   "metadata": {},
   "outputs": [
    {
     "data": {
      "image/png": "[encoded data removed]",
      "text/plain": [
       "<Figure size 800x600 with 1 Axes>"
      ]
     },
     "metadata": {},
     "output_type": "display_data"
    }
   ],
   "source": [
    "# Построение диаграммы размаха для столбца количества товаров в чеке\n",
    "plt.figure(figsize=(8, 6))\n",
    "sns.boxplot(data=retail, y='quantity')\n",
    "plt.title('Диаграмма размаха для quantity')\n",
    "plt.ylabel('Количество товаров')\n",
    "plt.grid(True)\n",
    "plt.show()"
   ]
  },
  {
   "cell_type": "markdown",
   "id": "6e165495",
   "metadata": {},
   "source": [
    "Чуть приблизим график"
   ]
  },
  {
   "cell_type": "code",
   "execution_count": 33,
   "id": "b7494233",
   "metadata": {},
   "outputs": [
    {
     "data": {
      "image/png": "[encoded data removed]",
      "text/plain": [
       "<Figure size 800x600 with 1 Axes>"
      ]
     },
     "metadata": {},
     "output_type": "display_data"
    }
   ],
   "source": [
    "# Построение диаграммы размаха для столбца количества товаров в чеке\n",
    "plt.figure(figsize=(8, 6))\n",
    "sns.boxplot(data=retail, y='quantity')\n",
    "plt.title('Диаграмма размаха для quantity')\n",
    "plt.ylabel('Количество товаров')\n",
    "plt.ylim(0, 2000)\n",
    "plt.grid(True)\n",
    "plt.show()"
   ]
  },
  {
   "cell_type": "code",
   "execution_count": 34,
   "id": "f7da66a7",
   "metadata": {},
   "outputs": [
    {
     "data": {
      "text/plain": [
       "13"
      ]
     },
     "execution_count": 34,
     "metadata": {},
     "output_type": "execute_result"
    }
   ],
   "source": [
    "# посмотрим, сколько чеков с количеством больше 1600\n",
    "len(retail[retail['quantity']>1600])"
   ]
  },
  {
   "cell_type": "markdown",
   "id": "d2a264c0",
   "metadata": {},
   "source": [
    "удалим такие крупные покупки"
   ]
  },
  {
   "cell_type": "code",
   "execution_count": 35,
   "id": "5792e779",
   "metadata": {},
   "outputs": [],
   "source": [
    "retail = retail[retail['quantity']<1600]"
   ]
  },
  {
   "cell_type": "code",
   "execution_count": 36,
   "id": "17fa92f2",
   "metadata": {},
   "outputs": [
    {
     "data": {
      "text/plain": [
       "count   3,159.00\n",
       "mean        7.70\n",
       "std       165.33\n",
       "min         0.00\n",
       "25%         1.38\n",
       "50%         2.77\n",
       "75%         4.99\n",
       "max     9,268.76\n",
       "Name: price_per_one, dtype: float64"
      ]
     },
     "execution_count": 36,
     "metadata": {},
     "output_type": "execute_result"
    }
   ],
   "source": [
    "# посмотрим характиреистику столбца с ценами\n",
    "product['price_per_one'].describe()"
   ]
  },
  {
   "cell_type": "markdown",
   "id": "8ca36aba",
   "metadata": {},
   "source": [
    "Что за товары стоимостью 0 рублей? Посмотрим сколько их."
   ]
  },
  {
   "cell_type": "code",
   "execution_count": 37,
   "id": "aad8d62a",
   "metadata": {},
   "outputs": [
    {
     "data": {
      "text/plain": [
       "57"
      ]
     },
     "execution_count": 37,
     "metadata": {},
     "output_type": "execute_result"
    }
   ],
   "source": [
    "len(product[product['price_per_one']==0])"
   ]
  },
  {
   "cell_type": "markdown",
   "id": "f96c9058",
   "metadata": {},
   "source": [
    "Удалим такие товары."
   ]
  },
  {
   "cell_type": "code",
   "execution_count": 38,
   "id": "bee047cc",
   "metadata": {},
   "outputs": [],
   "source": [
    "product = product[product['price_per_one']>0]"
   ]
  },
  {
   "cell_type": "markdown",
   "id": "b05a45ee",
   "metadata": {},
   "source": [
    "<h4><a id=\"id6\">Добавление столбцов</a> </h4>"
   ]
  },
  {
   "cell_type": "code",
   "execution_count": 39,
   "id": "7417f487",
   "metadata": {},
   "outputs": [
    {
     "data": {
      "text/html": [
       "<div>\n",
       "<style scoped>\n",
       "    .dataframe tbody tr th:only-of-type {\n",
       "        vertical-align: middle;\n",
       "    }\n",
       "\n",
       "    .dataframe tbody tr th {\n",
       "        vertical-align: top;\n",
       "    }\n",
       "\n",
       "    .dataframe thead th {\n",
       "        text-align: right;\n",
       "    }\n",
       "</style>\n",
       "<table border=\"1\" class=\"dataframe\">\n",
       "  <thead>\n",
       "    <tr style=\"text-align: right;\">\n",
       "      <th></th>\n",
       "      <th>purchase_id</th>\n",
       "      <th>item_id</th>\n",
       "      <th>quantity</th>\n",
       "      <th>purchase_date</th>\n",
       "      <th>customer_id</th>\n",
       "      <th>shop_id</th>\n",
       "      <th>loyalty_program</th>\n",
       "      <th>date_day</th>\n",
       "      <th>date_week</th>\n",
       "      <th>date_month</th>\n",
       "    </tr>\n",
       "  </thead>\n",
       "  <tbody>\n",
       "    <tr>\n",
       "      <th>0</th>\n",
       "      <td>538280</td>\n",
       "      <td>21873</td>\n",
       "      <td>11</td>\n",
       "      <td>2016-12-10 12:50:00</td>\n",
       "      <td>18427</td>\n",
       "      <td>0</td>\n",
       "      <td>0</td>\n",
       "      <td>2016-12-10</td>\n",
       "      <td>2016-12-05/2016-12-11</td>\n",
       "      <td>2016-12</td>\n",
       "    </tr>\n",
       "    <tr>\n",
       "      <th>2</th>\n",
       "      <td>538855</td>\n",
       "      <td>21239</td>\n",
       "      <td>7</td>\n",
       "      <td>2016-12-14 13:50:00</td>\n",
       "      <td>22182</td>\n",
       "      <td>0</td>\n",
       "      <td>1</td>\n",
       "      <td>2016-12-14</td>\n",
       "      <td>2016-12-12/2016-12-18</td>\n",
       "      <td>2016-12</td>\n",
       "    </tr>\n",
       "    <tr>\n",
       "      <th>7</th>\n",
       "      <td>541424</td>\n",
       "      <td>79321</td>\n",
       "      <td>1</td>\n",
       "      <td>2017-01-17 17:57:00</td>\n",
       "      <td>541424</td>\n",
       "      <td>0</td>\n",
       "      <td>0</td>\n",
       "      <td>2017-01-17</td>\n",
       "      <td>2017-01-16/2017-01-22</td>\n",
       "      <td>2017-01</td>\n",
       "    </tr>\n",
       "    <tr>\n",
       "      <th>10</th>\n",
       "      <td>537795</td>\n",
       "      <td>82494L</td>\n",
       "      <td>5</td>\n",
       "      <td>2016-12-08 13:03:00</td>\n",
       "      <td>22892</td>\n",
       "      <td>0</td>\n",
       "      <td>1</td>\n",
       "      <td>2016-12-08</td>\n",
       "      <td>2016-12-05/2016-12-11</td>\n",
       "      <td>2016-12</td>\n",
       "    </tr>\n",
       "    <tr>\n",
       "      <th>11</th>\n",
       "      <td>541696</td>\n",
       "      <td>22197</td>\n",
       "      <td>4</td>\n",
       "      <td>2017-01-20 18:08:00</td>\n",
       "      <td>541696</td>\n",
       "      <td>0</td>\n",
       "      <td>0</td>\n",
       "      <td>2017-01-20</td>\n",
       "      <td>2017-01-16/2017-01-22</td>\n",
       "      <td>2017-01</td>\n",
       "    </tr>\n",
       "  </tbody>\n",
       "</table>\n",
       "</div>"
      ],
      "text/plain": [
       "   purchase_id item_id  quantity       purchase_date  customer_id  shop_id  \\\n",
       "0       538280   21873        11 2016-12-10 12:50:00        18427        0   \n",
       "2       538855   21239         7 2016-12-14 13:50:00        22182        0   \n",
       "7       541424   79321         1 2017-01-17 17:57:00       541424        0   \n",
       "10      537795  82494L         5 2016-12-08 13:03:00        22892        0   \n",
       "11      541696   22197         4 2017-01-20 18:08:00       541696        0   \n",
       "\n",
       "    loyalty_program    date_day              date_week date_month  \n",
       "0                 0  2016-12-10  2016-12-05/2016-12-11    2016-12  \n",
       "2                 1  2016-12-14  2016-12-12/2016-12-18    2016-12  \n",
       "7                 0  2017-01-17  2017-01-16/2017-01-22    2017-01  \n",
       "10                1  2016-12-08  2016-12-05/2016-12-11    2016-12  \n",
       "11                0  2017-01-20  2017-01-16/2017-01-22    2017-01  "
      ]
     },
     "execution_count": 39,
     "metadata": {},
     "output_type": "execute_result"
    }
   ],
   "source": [
    "# Добавляем столбцы с днем, неделей и месяцем\n",
    "retail['date_day'] = retail['purchase_date'].dt.date\n",
    "retail['date_week'] = retail['purchase_date'].dt.to_period('1W')\n",
    "retail['date_month'] = retail['purchase_date'].dt.to_period('M')\n",
    "retail.head()"
   ]
  },
  {
   "cell_type": "code",
   "execution_count": 40,
   "id": "38d253d4",
   "metadata": {},
   "outputs": [
    {
     "data": {
      "text/html": [
       "<div>\n",
       "<style scoped>\n",
       "    .dataframe tbody tr th:only-of-type {\n",
       "        vertical-align: middle;\n",
       "    }\n",
       "\n",
       "    .dataframe tbody tr th {\n",
       "        vertical-align: top;\n",
       "    }\n",
       "\n",
       "    .dataframe thead th {\n",
       "        text-align: right;\n",
       "    }\n",
       "</style>\n",
       "<table border=\"1\" class=\"dataframe\">\n",
       "  <thead>\n",
       "    <tr style=\"text-align: right;\">\n",
       "      <th></th>\n",
       "      <th>purchase_id</th>\n",
       "      <th>item_id</th>\n",
       "      <th>quantity</th>\n",
       "      <th>purchase_date</th>\n",
       "      <th>customer_id</th>\n",
       "      <th>shop_id</th>\n",
       "      <th>loyalty_program</th>\n",
       "      <th>date_day</th>\n",
       "      <th>date_week</th>\n",
       "      <th>date_month</th>\n",
       "      <th>total</th>\n",
       "    </tr>\n",
       "  </thead>\n",
       "  <tbody>\n",
       "    <tr>\n",
       "      <th>0</th>\n",
       "      <td>538280</td>\n",
       "      <td>21873</td>\n",
       "      <td>11</td>\n",
       "      <td>2016-12-10 12:50:00</td>\n",
       "      <td>18427</td>\n",
       "      <td>0</td>\n",
       "      <td>0</td>\n",
       "      <td>2016-12-10</td>\n",
       "      <td>2016-12-05/2016-12-11</td>\n",
       "      <td>2016-12</td>\n",
       "      <td>19.91</td>\n",
       "    </tr>\n",
       "    <tr>\n",
       "      <th>1</th>\n",
       "      <td>538855</td>\n",
       "      <td>21239</td>\n",
       "      <td>7</td>\n",
       "      <td>2016-12-14 13:50:00</td>\n",
       "      <td>22182</td>\n",
       "      <td>0</td>\n",
       "      <td>1</td>\n",
       "      <td>2016-12-14</td>\n",
       "      <td>2016-12-12/2016-12-18</td>\n",
       "      <td>2016-12</td>\n",
       "      <td>10.32</td>\n",
       "    </tr>\n",
       "    <tr>\n",
       "      <th>2</th>\n",
       "      <td>541424</td>\n",
       "      <td>79321</td>\n",
       "      <td>1</td>\n",
       "      <td>2017-01-17 17:57:00</td>\n",
       "      <td>541424</td>\n",
       "      <td>0</td>\n",
       "      <td>0</td>\n",
       "      <td>2017-01-17</td>\n",
       "      <td>2017-01-16/2017-01-22</td>\n",
       "      <td>2017-01</td>\n",
       "      <td>7.01</td>\n",
       "    </tr>\n",
       "    <tr>\n",
       "      <th>3</th>\n",
       "      <td>537795</td>\n",
       "      <td>82494L</td>\n",
       "      <td>5</td>\n",
       "      <td>2016-12-08 13:03:00</td>\n",
       "      <td>22892</td>\n",
       "      <td>0</td>\n",
       "      <td>1</td>\n",
       "      <td>2016-12-08</td>\n",
       "      <td>2016-12-05/2016-12-11</td>\n",
       "      <td>2016-12</td>\n",
       "      <td>25.72</td>\n",
       "    </tr>\n",
       "    <tr>\n",
       "      <th>4</th>\n",
       "      <td>541696</td>\n",
       "      <td>22197</td>\n",
       "      <td>4</td>\n",
       "      <td>2017-01-20 18:08:00</td>\n",
       "      <td>541696</td>\n",
       "      <td>0</td>\n",
       "      <td>0</td>\n",
       "      <td>2017-01-20</td>\n",
       "      <td>2017-01-16/2017-01-22</td>\n",
       "      <td>2017-01</td>\n",
       "      <td>4.86</td>\n",
       "    </tr>\n",
       "  </tbody>\n",
       "</table>\n",
       "</div>"
      ],
      "text/plain": [
       "  purchase_id item_id  quantity       purchase_date  customer_id  shop_id  \\\n",
       "0      538280   21873        11 2016-12-10 12:50:00        18427        0   \n",
       "1      538855   21239         7 2016-12-14 13:50:00        22182        0   \n",
       "2      541424   79321         1 2017-01-17 17:57:00       541424        0   \n",
       "3      537795  82494L         5 2016-12-08 13:03:00        22892        0   \n",
       "4      541696   22197         4 2017-01-20 18:08:00       541696        0   \n",
       "\n",
       "   loyalty_program    date_day              date_week date_month  total  \n",
       "0                0  2016-12-10  2016-12-05/2016-12-11    2016-12  19.91  \n",
       "1                1  2016-12-14  2016-12-12/2016-12-18    2016-12  10.32  \n",
       "2                0  2017-01-17  2017-01-16/2017-01-22    2017-01   7.01  \n",
       "3                1  2016-12-08  2016-12-05/2016-12-11    2016-12  25.72  \n",
       "4                0  2017-01-20  2017-01-16/2017-01-22    2017-01   4.86  "
      ]
     },
     "execution_count": 40,
     "metadata": {},
     "output_type": "execute_result"
    }
   ],
   "source": [
    "# Слияние таблиц retail и product по столбцу item_id\n",
    "data = pd.merge(retail, product, left_on='item_id', right_on='product_id', how='left')\n",
    "# Добавление столбца total с суммой чека\n",
    "data['total'] = data['quantity'] * data['price_per_one']\n",
    "data = data.drop(['price_per_one', 'product_id'], axis=1)\n",
    "data.head()"
   ]
  },
  {
   "cell_type": "code",
   "execution_count": 41,
   "id": "776a414a",
   "metadata": {},
   "outputs": [],
   "source": [
    "#считаем сумму чека\n",
    "purchase_totals = data.groupby('purchase_id')['total'].sum()\n",
    "# Объединение полученных значений с исходным датафреймом по 'purchase_id'\n",
    "data = data.merge(purchase_totals, on='purchase_id', suffixes=('', '_total'))"
   ]
  },
  {
   "cell_type": "code",
   "execution_count": 42,
   "id": "80b3bba4",
   "metadata": {},
   "outputs": [],
   "source": [
    "# Группировка данных по 'purchase_id' и подсчет уникальных значений 'item_id' и суммы 'quantity' для каждого 'purchase_id'\n",
    "purchase_items = data.groupby('purchase_id').agg({'item_id': 'nunique', 'quantity': 'sum'}).reset_index()\n",
    "\n",
    "# Объединение полученных значений с исходным датафреймом по 'purchase_id'\n",
    "data = data.merge(purchase_items, on='purchase_id', suffixes=('', '_items'))"
   ]
  },
  {
   "cell_type": "markdown",
   "id": "81038584",
   "metadata": {},
   "source": [
    "<font color='#006957'><b>ВЫВОД</b></font>\n",
    "\n",
    "В ходе предобработки:\n",
    "- заменили названия столбцов\n",
    "- поправили типы данных\n",
    "- избавились от явных дубликатов\n",
    "- избавились от аномалий в столбце product['price_per_one']\n",
    "- избавились от аномалий в столбце retail['quantity']\n",
    "- добавили столбцы с датой \n",
    "- добавили столбец с ценой"
   ]
  },
  {
   "cell_type": "markdown",
   "id": "b3adb824",
   "metadata": {},
   "source": [
    "<h3><a id=\"id7\">Анализ данных</a> </h3>"
   ]
  },
  {
   "cell_type": "markdown",
   "id": "1e0c77ee",
   "metadata": {},
   "source": [
    "<h4><a id=\"id8\">Изучение общей информации о данных</a> </h4>"
   ]
  },
  {
   "cell_type": "markdown",
   "id": "aefce0aa",
   "metadata": {},
   "source": [
    "*Посмотрим, сколько всего чеков:*"
   ]
  },
  {
   "cell_type": "code",
   "execution_count": 43,
   "id": "4c1b036a",
   "metadata": {},
   "outputs": [
    {
     "name": "stdout",
     "output_type": "stream",
     "text": [
      "Всего чеков: 3701\n"
     ]
    }
   ],
   "source": [
    "print('Всего чеков:', data['purchase_id'].nunique())"
   ]
  },
  {
   "cell_type": "markdown",
   "id": "f81e8b60",
   "metadata": {},
   "source": [
    "*Посмотрим, сколько всего покупателей в данных:*"
   ]
  },
  {
   "cell_type": "code",
   "execution_count": 44,
   "id": "a1f1d0a7",
   "metadata": {},
   "outputs": [
    {
     "name": "stdout",
     "output_type": "stream",
     "text": [
      "Всего уникальных покупателей: 2046\n"
     ]
    }
   ],
   "source": [
    "print('Всего уникальных покупателей:', data['customer_id'].nunique())"
   ]
  },
  {
   "cell_type": "markdown",
   "id": "79e052f9",
   "metadata": {},
   "source": [
    "*Посмотрим, сколько в среднем покупок приходится на покупателя:*"
   ]
  },
  {
   "cell_type": "code",
   "execution_count": 45,
   "id": "ca4fe68a",
   "metadata": {},
   "outputs": [
    {
     "name": "stdout",
     "output_type": "stream",
     "text": [
      "В среднем на покупателя приходится 2 покупки.\n"
     ]
    }
   ],
   "source": [
    "print('В среднем на покупателя приходится {} покупки.'.format(round(data['purchase_id'].nunique()/data['customer_id'].nunique())))"
   ]
  },
  {
   "cell_type": "markdown",
   "id": "645d8f5b",
   "metadata": {},
   "source": [
    "*Посмотрим максимальную и минимальную дату:*"
   ]
  },
  {
   "cell_type": "code",
   "execution_count": 46,
   "id": "4812665b",
   "metadata": {},
   "outputs": [
    {
     "name": "stdout",
     "output_type": "stream",
     "text": [
      "Минимальная дата: 2016-12-01 08:26:00\n",
      "Максимальная дата: 2017-02-28 17:01:00\n"
     ]
    }
   ],
   "source": [
    "print('Минимальная дата:', retail['purchase_date'].min())\n",
    "print('Максимальная дата:', retail['purchase_date'].max())"
   ]
  },
  {
   "cell_type": "markdown",
   "id": "3d7cd6ff",
   "metadata": {},
   "source": [
    "У нас есть данные с 1 декабря 2016 года по 28 февраля 2017 года. Получается ровно 3 месяца."
   ]
  },
  {
   "cell_type": "markdown",
   "id": "422617af",
   "metadata": {},
   "source": [
    "*Построим гистограмму по дате и времени.*"
   ]
  },
  {
   "cell_type": "code",
   "execution_count": 47,
   "id": "29ddf444",
   "metadata": {},
   "outputs": [],
   "source": [
    "daily_purchases = data.groupby(data['purchase_date'])['purchase_id'].nunique()"
   ]
  },
  {
   "cell_type": "code",
   "execution_count": 48,
   "id": "d171379c",
   "metadata": {},
   "outputs": [
    {
     "data": {
      "image/png": "[encoded data removed]",
      "text/plain": [
       "<Figure size 1500x500 with 1 Axes>"
      ]
     },
     "metadata": {},
     "output_type": "display_data"
    }
   ],
   "source": [
    "plt.figure(figsize=(15, 5))\n",
    "sns.histplot(data=daily_purchases , x='purchase_date', bins=120)\n",
    "plt.title('Гистограмма по дате и времени', fontsize=15)\n",
    "plt.ylabel('Кол-во покупок')\n",
    "plt.xlabel('Дата')\n",
    "plt.xticks(rotation=45)\n",
    "plt.grid(True)\n",
    "plt.show()"
   ]
  },
  {
   "cell_type": "markdown",
   "id": "c1d6b713",
   "metadata": {},
   "source": [
    "По графику видим, что на предпраздничные дни пришлось больше всего покупок. Затем были новогодние каникулы, когда магазин не работал."
   ]
  },
  {
   "cell_type": "markdown",
   "id": "b208c9cb",
   "metadata": {},
   "source": [
    "**ВЫВОД**\n",
    "\n",
    "- Определили актуальный период для дальнейшего исследования, за который имеются полные данные: с 1 декабря 2016 года по 28 февраля 2017 года\n",
    "- Покупок в данных за актуальный период: 3701.\n",
    "- Уникальных покупателей за актуальный период 2046.\n",
    "- В среднем на покупателя 2 покупки."
   ]
  },
  {
   "cell_type": "markdown",
   "id": "98ea972b",
   "metadata": {},
   "source": [
    "<h4><a id=\"id9\">Средний чек</a> </h4>"
   ]
  },
  {
   "cell_type": "code",
   "execution_count": 49,
   "id": "dda5ff8b",
   "metadata": {},
   "outputs": [],
   "source": [
    "#выделим пользователей, участвующих в программе лояльности и нет - в разные датафреймы\n",
    "loyal_customers = data[data['loyalty_program'] == 1]\n",
    "non_loyal_customers = data[data['loyalty_program'] == 0]"
   ]
  },
  {
   "cell_type": "code",
   "execution_count": 50,
   "id": "951faf71",
   "metadata": {},
   "outputs": [
    {
     "name": "stdout",
     "output_type": "stream",
     "text": [
      "Всего уникальных покупателей-участников программы лояльности: 560\n"
     ]
    }
   ],
   "source": [
    "print('Всего уникальных покупателей-участников программы лояльности:', loyal_customers['customer_id'].nunique())"
   ]
  },
  {
   "cell_type": "code",
   "execution_count": 51,
   "id": "3578278d",
   "metadata": {},
   "outputs": [
    {
     "name": "stdout",
     "output_type": "stream",
     "text": [
      "Всего уникальных покупателей-неучастников программы лояльности: 1486\n"
     ]
    }
   ],
   "source": [
    "print('Всего уникальных покупателей-неучастников программы лояльности:', non_loyal_customers['customer_id'].nunique())"
   ]
  },
  {
   "cell_type": "markdown",
   "id": "b03ce603",
   "metadata": {},
   "source": [
    "Для расчёта среднего воспользуемся медианой - так как она не так подвержена всплескам, которые наверняка были из-за оптовых покупок."
   ]
  },
  {
   "cell_type": "code",
   "execution_count": 52,
   "id": "99a9d3ca",
   "metadata": {},
   "outputs": [
    {
     "name": "stdout",
     "output_type": "stream",
     "text": [
      "Средний чек за все время покупателей-участников программы лояльности: 437\n"
     ]
    }
   ],
   "source": [
    "print('Средний чек за все время покупателей-участников программы лояльности:', round(loyal_customers['total_total'].median()))"
   ]
  },
  {
   "cell_type": "code",
   "execution_count": 53,
   "id": "280c78f5",
   "metadata": {},
   "outputs": [
    {
     "name": "stdout",
     "output_type": "stream",
     "text": [
      "Средний чек за все время покупателей-неучастников программы лояльности: 704\n"
     ]
    }
   ],
   "source": [
    "print('Средний чек за все время покупателей-неучастников программы лояльности:', round(non_loyal_customers['total_total'].median()))"
   ]
  },
  {
   "cell_type": "code",
   "execution_count": 55,
   "id": "3f1589c3",
   "metadata": {},
   "outputs": [
    {
     "data": {
      "image/png": "[encoded data removed]",
      "text/plain": [
       "<Figure size 1200x600 with 1 Axes>"
      ]
     },
     "metadata": {},
     "output_type": "display_data"
    }
   ],
   "source": [
    "# Рассчитываем средний чек для каждой группы по неделям\n",
    "loyal_avg_check = loyal_customers.groupby('date_week')['total_total'].median()\n",
    "non_loyal_avg_check = non_loyal_customers.groupby('date_week')['total_total'].median()\n",
    "\n",
    "# Создание столбчатой диаграммы\n",
    "plt.figure(figsize=(12, 6))\n",
    "sns.barplot(x=loyal_avg_check.index, y=loyal_avg_check.values, color='#7209B7', label='Участники')\n",
    "sns.barplot(x=non_loyal_avg_check.index, y=non_loyal_avg_check.values, color='#4CC9F0', alpha=0.7, label='Не участники')\n",
    "plt.xlabel('Неделя')\n",
    "plt.ylabel('Средний чек')\n",
    "plt.title('Средний чек по неделям для участников и неучастников программы лояльности по медиане')\n",
    "plt.legend()\n",
    "plt.xticks(rotation=70)\n",
    "plt.grid(False)\n",
    "plt.show()"
   ]
  },
  {
   "cell_type": "code",
   "execution_count": 57,
   "id": "0b29e171",
   "metadata": {
    "scrolled": true
   },
   "outputs": [
    {
     "data": {
      "text/plain": [
       "date_week\n",
       "2016-11-28/2016-12-04     791.36\n",
       "2016-12-05/2016-12-11     835.18\n",
       "2016-12-12/2016-12-18     938.93\n",
       "2016-12-19/2016-12-25     648.96\n",
       "2017-01-02/2017-01-08   1,016.93\n",
       "2017-01-09/2017-01-15   1,133.44\n",
       "2017-01-16/2017-01-22   1,435.54\n",
       "2017-01-23/2017-01-29     521.05\n",
       "2017-01-30/2017-02-05     431.33\n",
       "2017-02-06/2017-02-12     408.42\n",
       "2017-02-13/2017-02-19     552.09\n",
       "2017-02-20/2017-02-26     618.29\n",
       "2017-02-27/2017-03-05     456.94\n",
       "Freq: W-SUN, Name: total_total, dtype: float64"
      ]
     },
     "execution_count": 57,
     "metadata": {},
     "output_type": "execute_result"
    }
   ],
   "source": [
    "non_loyal_customers.groupby('date_week')['total_total'].median()"
   ]
  },
  {
   "cell_type": "code",
   "execution_count": null,
   "id": "81a49773",
   "metadata": {},
   "outputs": [],
   "source": [
    "# Рассчитываем средний чек для каждой группы по неделям\n",
    "loyal_avg_check = loyal_customers.groupby('date_week')['total_total'].median()\n",
    "non_loyal_avg_check = non_loyal_customers.groupby('date_week')['total_total'].median()\n",
    "\n",
    "# Создание столбчатой диаграммы\n",
    "plt.figure(figsize=(12, 6))\n",
    "sns.barplot(x=loyal_avg_check.index, y=loyal_avg_check.values, color='#7209B7', label='Участники')\n",
    "sns.barplot(x=non_loyal_avg_check.index, y=non_loyal_avg_check.values, color='#4CC9F0', alpha=0.7, label='Не участники')\n",
    "plt.xlabel('Неделя')\n",
    "plt.ylabel('Средний чек')\n",
    "plt.title('Средний чек по неделям для участников и неучастников программы лояльности по медиане')\n",
    "plt.legend()\n",
    "plt.xticks(rotation=70)\n",
    "plt.grid(False)\n",
    "plt.show()"
   ]
  },
  {
   "cell_type": "markdown",
   "id": "0fcd54da",
   "metadata": {},
   "source": [
    "**ВЫВОД**\n",
    "\n",
    "Хоть по данным за весь период средний чек у участников программы лояльности сильно ниже, чем у остальных. По данным графикам можем сказать, что средние чеки у участников программы лояльности к концу периода выше."
   ]
  },
  {
   "cell_type": "markdown",
   "id": "a80f3f74",
   "metadata": {},
   "source": [
    "<h4><a id=\"id10\">Количество товаров</a> </h4>"
   ]
  },
  {
   "cell_type": "code",
   "execution_count": 56,
   "id": "1316965f",
   "metadata": {},
   "outputs": [
    {
     "name": "stdout",
     "output_type": "stream",
     "text": [
      "Среднее количество товаров в чеке за все время покупателей-участников программы лояльности: 168\n"
     ]
    }
   ],
   "source": [
    "print('Среднее количество товаров в чеке за все время покупателей-участников программы лояльности:', round(loyal_customers['quantity_items'].median()))"
   ]
  },
  {
   "cell_type": "code",
   "execution_count": 57,
   "id": "90b3fb44",
   "metadata": {},
   "outputs": [
    {
     "name": "stdout",
     "output_type": "stream",
     "text": [
      "Среднее количество товаров в чеке за все время покупателей-участников программы лояльности: 281\n"
     ]
    }
   ],
   "source": [
    "print('Среднее количество товаров в чеке за все время покупателей-участников программы лояльности:', round(non_loyal_customers['quantity_items'].median()))"
   ]
  },
  {
   "cell_type": "code",
   "execution_count": 58,
   "id": "f181bd1b",
   "metadata": {},
   "outputs": [
    {
     "data": {
      "image/png": "[encoded data removed]",
      "text/plain": [
       "<Figure size 1200x600 with 1 Axes>"
      ]
     },
     "metadata": {},
     "output_type": "display_data"
    }
   ],
   "source": [
    "# Рассчитываем среднее количество покупок на пользователя для каждой группы по неделям\n",
    "loyal_avg_purchases = loyal_customers.groupby('date_week')['quantity_items'].median()\n",
    "non_loyal_avg_purchases = non_loyal_customers.groupby('date_week')['quantity_items'].median()\n",
    "\n",
    "plt.figure(figsize=(12, 6))\n",
    "sns.barplot(x=loyal_avg_purchases.index, y=loyal_avg_purchases.values, color='#DDA0DD', alpha=0.7, label='Участники')\n",
    "sns.barplot(x=non_loyal_avg_purchases.index, y=non_loyal_avg_purchases.values, color='#008B8B', alpha=0.7, label='Не участники')\n",
    "plt.xlabel('Неделя')\n",
    "plt.ylabel('Среднее количество покупок на пользователя')\n",
    "plt.title('Среднее количество товаров в чеке на пользователя по неделям для участников и неучастников программы лояльности по медиане')\n",
    "plt.legend()\n",
    "plt.xticks(rotation=70)\n",
    "\n",
    "plt.grid(False)\n",
    "plt.show()"
   ]
  },
  {
   "cell_type": "markdown",
   "id": "6322ec9d",
   "metadata": {},
   "source": [
    "**ВЫВОД**\n",
    "\n",
    "Здесь также видим, что среднее количество товаров в чеке за все время у неучастников больше, но по графику видим, что к концу периода разница уменьшилась."
   ]
  },
  {
   "cell_type": "markdown",
   "id": "ff0ffdaa",
   "metadata": {},
   "source": [
    "<h4><a id=\"id11\">Количество уникальных товаров</a> </h4>"
   ]
  },
  {
   "cell_type": "code",
   "execution_count": 59,
   "id": "ed3f4739",
   "metadata": {},
   "outputs": [
    {
     "name": "stdout",
     "output_type": "stream",
     "text": [
      "Среднее количество уникальных товаров в чеке за все время покупателей-участников программы лояльности: 23\n"
     ]
    }
   ],
   "source": [
    "print('Среднее количество уникальных товаров в чеке за все время покупателей-участников программы лояльности:', round(loyal_customers['item_id_items'].median()))"
   ]
  },
  {
   "cell_type": "code",
   "execution_count": 60,
   "id": "f7ca4860",
   "metadata": {
    "scrolled": true
   },
   "outputs": [
    {
     "name": "stdout",
     "output_type": "stream",
     "text": [
      "Среднее количество уникальных товаров в чеке за все время покупателей-участников программы лояльности: 34\n"
     ]
    }
   ],
   "source": [
    "print('Среднее количество уникальных товаров в чеке за все время покупателей-участников программы лояльности:', round(non_loyal_customers['item_id_items'].median()))"
   ]
  },
  {
   "cell_type": "code",
   "execution_count": 61,
   "id": "1d360fd7",
   "metadata": {},
   "outputs": [
    {
     "data": {
      "image/png": "[encoded data removed]",
      "text/plain": [
       "<Figure size 1200x600 with 1 Axes>"
      ]
     },
     "metadata": {},
     "output_type": "display_data"
    }
   ],
   "source": [
    "# Рассчитываем среднее количество покупок на пользователя для каждой группы по неделям\n",
    "loyal_avg_purchases = loyal_customers.groupby('date_week')['item_id_items'].median()\n",
    "non_loyal_avg_purchases = non_loyal_customers.groupby('date_week')['item_id_items'].median()\n",
    "\n",
    "plt.figure(figsize=(12, 6))\n",
    "sns.barplot(x=loyal_avg_purchases.index, y=loyal_avg_purchases.values, color='#ADFF2F', alpha=0.7, label='Участники')\n",
    "sns.barplot(x=non_loyal_avg_purchases.index, y=non_loyal_avg_purchases.values, color='#FA8072', alpha=0.7, label='Не участники')\n",
    "plt.xlabel('Неделя')\n",
    "plt.ylabel('Среднее количество покупок на пользователя')\n",
    "plt.title('Среднее количество покупок на пользователя по неделям для участников и неучастников программы лояльности по медиане')\n",
    "plt.legend()\n",
    "plt.xticks(rotation=70)\n",
    "\n",
    "plt.grid(False)\n",
    "plt.show()"
   ]
  },
  {
   "cell_type": "markdown",
   "id": "fdef9a28",
   "metadata": {},
   "source": [
    "**Вывод** \n",
    "\n",
    "Здесь опять та же картина. За весь период у неучастников больше, но в конце разница уменьшается."
   ]
  },
  {
   "cell_type": "markdown",
   "id": "10e918c3",
   "metadata": {},
   "source": [
    "<h4><a id=\"id12\">Расчёт LTV</a> </h4>"
   ]
  },
  {
   "cell_type": "code",
   "execution_count": 62,
   "id": "8639c910",
   "metadata": {},
   "outputs": [],
   "source": [
    "#выделим пользователей, участвующих в программе лояльности и нет - в разные датафреймы\n",
    "loyal_customers = data[data['loyalty_program'] == 1]\n",
    "non_loyal_customers = data[data['loyalty_program'] == 0]"
   ]
  },
  {
   "cell_type": "code",
   "execution_count": 63,
   "id": "710bcc20",
   "metadata": {},
   "outputs": [
    {
     "name": "stdout",
     "output_type": "stream",
     "text": [
      "LTV участников программы лояльности: 2074.3833455701447\n"
     ]
    }
   ],
   "source": [
    "# Группировка данных по покупателям и расчет общей суммы покупок\n",
    "loyal_customers = loyal_customers.groupby('customer_id').agg({'total':'sum',\n",
    "                                                              'date_month':'nunique'})\n",
    "# Расчет общей стоимости участия покупателей в программе лояльности\n",
    "cost_per_month = 200\n",
    "loyal_customers['total_cost'] = loyal_customers['total'] + loyal_customers['date_month'] * cost_per_month\n",
    "\n",
    "# Рассчитываем среднюю выручку на клиента в месяц\n",
    "average_revenue_per_month = loyal_customers['total_cost'].mean()\n",
    "\n",
    "# Рассчитываем среднюю продолжительность жизни клиента в месяцах\n",
    "average_lifespan_months = loyal_customers['date_month'].mean()\n",
    "\n",
    "# Рассчитываем LTV\n",
    "ltv = average_revenue_per_month * average_lifespan_months\n",
    "\n",
    "print(\"LTV участников программы лояльности:\", ltv)"
   ]
  },
  {
   "cell_type": "code",
   "execution_count": 64,
   "id": "f02681e4",
   "metadata": {},
   "outputs": [
    {
     "name": "stdout",
     "output_type": "stream",
     "text": [
      "LTV неучастников программы лояльности: 1528.3294070658774\n"
     ]
    }
   ],
   "source": [
    "# Группировка данных по покупателям и расчет общей суммы покупок\n",
    "non_loyal_customers = non_loyal_customers.groupby('customer_id').agg({'total':'sum',\n",
    "                                                              'date_month':'nunique'})\n",
    "\n",
    "# Рассчитываем среднюю выручку на клиента в месяц\n",
    "average_revenue_per_month = non_loyal_customers['total'].mean()\n",
    "\n",
    "# Рассчитываем среднюю продолжительность жизни клиента в месяцах\n",
    "average_lifespan_months = non_loyal_customers['date_month'].mean()\n",
    "\n",
    "# Рассчитываем LTV\n",
    "ltv = average_revenue_per_month * average_lifespan_months\n",
    "\n",
    "print(\"LTV неучастников программы лояльности:\", ltv)"
   ]
  },
  {
   "cell_type": "markdown",
   "id": "fbf71134",
   "metadata": {},
   "source": [
    "**ВЫВОД**\n",
    "\n",
    "Эти значения представляют собой прогнозную стоимость каждой группы клиентов за время их взаимодействия с компанией. Высокое значение LTV участников программы лояльности может указывать на то, что эти клиенты имеют более высокую степень лояльности и склонны делать повторные покупки, что приводит к более высокой выручке от них. С другой стороны, LTV неучастников программы лояльности ниже, что может свидетельствовать о менее активных и меньше повторяющихся покупках у этой группы клиентов.\n"
   ]
  },
  {
   "cell_type": "markdown",
   "id": "e8382b35",
   "metadata": {},
   "source": [
    "<font color='#006957'><b>ВЫВОД</b></font>\n",
    "\n",
    "В результате проведенного анализа программы лояльности магазина \"Строили, строили и наконец построили\" были получены следующие выводы:\n",
    "\n",
    "1. Общая информация:\n",
    "    - Период, за который имеются полные данные: с 1 декабря 2016 года по 28 февраля 2017 года.\n",
    "    - Покупок в данных за актуальный период: 3701.\n",
    "    - Уникальных покупателей за актуальный период 2046 (560 - участников программы лояльности, 1486 - неучастников)\n",
    "    - Клиенты с картой лояльности совершают покупки чаще и приносят больше выручки.\n",
    "    \n",
    "2. Средние значения:\n",
    "\n",
    "    - За весь исследуемый период средний чек неучастников выше, чем у участников, но по графикам можно заметить, что к к онцу периода эти значения сравниваются, а где-то и выше\n",
    "    - Тоже самое можно сказать и про среднее количество товаров в чеке и среднее количество уникальных товаров в чеке\n",
    "    \n",
    "    \n",
    "3. LTV:\n",
    "    - LTV участников программы лояльности составляет 2074.\n",
    "    - LTV неучастников программы лояльности составляет 1528.\n",
    "\n",
    "    Программа лояльности имеет положительное влияние на LTV клиентов, так как участники программы лояльности имеют более высокую прогнозную стоимость по сравнению с неучастниками. Рекомендуется продолжать развивать и улучшать программу лояльности для удержания и привлечения новых клиентов и увеличения их LTV.\n",
    "\n",
    "Исходя из проведенного анализа, можно сказать, что программа лояльности в данном виде пока неэффективна, но имеет потенциал. Клиенты с картами лояльности покупают пока меньше товаров и приносят меньше выручки. Однако, следует учитывать, что данные, на которых основан анализ, представлены за праздничные дни и могут искажать общую картину. Для более точной оценки эффективности программы лояльности рекомендуется провести дополнительные исследования и анализы, включая данные за более продолжительный период времени, вне праздничных дней, чтобы исключить возможные искажения."
   ]
  },
  {
   "cell_type": "markdown",
   "id": "c345ec14",
   "metadata": {},
   "source": [
    "<h3><a id=\"id12\">Статистический анализ</a> </h3>\n"
   ]
  },
  {
   "cell_type": "code",
   "execution_count": 65,
   "id": "c4aee8c5",
   "metadata": {},
   "outputs": [
    {
     "data": {
      "text/html": [
       "<div>\n",
       "<style scoped>\n",
       "    .dataframe tbody tr th:only-of-type {\n",
       "        vertical-align: middle;\n",
       "    }\n",
       "\n",
       "    .dataframe tbody tr th {\n",
       "        vertical-align: top;\n",
       "    }\n",
       "\n",
       "    .dataframe thead th {\n",
       "        text-align: right;\n",
       "    }\n",
       "</style>\n",
       "<table border=\"1\" class=\"dataframe\">\n",
       "  <thead>\n",
       "    <tr style=\"text-align: right;\">\n",
       "      <th></th>\n",
       "      <th>loyalty_program</th>\n",
       "      <th>customer_id</th>\n",
       "      <th>purchase_count</th>\n",
       "      <th>total_sum</th>\n",
       "      <th>quantity_sum</th>\n",
       "      <th>avg</th>\n",
       "      <th>avg_quanity</th>\n",
       "    </tr>\n",
       "  </thead>\n",
       "  <tbody>\n",
       "    <tr>\n",
       "      <th>0</th>\n",
       "      <td>0</td>\n",
       "      <td>18026</td>\n",
       "      <td>2</td>\n",
       "      <td>1,718.36</td>\n",
       "      <td>574</td>\n",
       "      <td>859.18</td>\n",
       "      <td>287.00</td>\n",
       "    </tr>\n",
       "    <tr>\n",
       "      <th>1</th>\n",
       "      <td>0</td>\n",
       "      <td>18027</td>\n",
       "      <td>2</td>\n",
       "      <td>1,850.37</td>\n",
       "      <td>1832</td>\n",
       "      <td>925.19</td>\n",
       "      <td>916.00</td>\n",
       "    </tr>\n",
       "    <tr>\n",
       "      <th>2</th>\n",
       "      <td>0</td>\n",
       "      <td>18029</td>\n",
       "      <td>1</td>\n",
       "      <td>385.26</td>\n",
       "      <td>180</td>\n",
       "      <td>385.26</td>\n",
       "      <td>180.00</td>\n",
       "    </tr>\n",
       "    <tr>\n",
       "      <th>3</th>\n",
       "      <td>0</td>\n",
       "      <td>18031</td>\n",
       "      <td>1</td>\n",
       "      <td>370.66</td>\n",
       "      <td>83</td>\n",
       "      <td>370.66</td>\n",
       "      <td>83.00</td>\n",
       "    </tr>\n",
       "    <tr>\n",
       "      <th>4</th>\n",
       "      <td>0</td>\n",
       "      <td>18035</td>\n",
       "      <td>1</td>\n",
       "      <td>3,614.03</td>\n",
       "      <td>1180</td>\n",
       "      <td>3,614.03</td>\n",
       "      <td>1,180.00</td>\n",
       "    </tr>\n",
       "  </tbody>\n",
       "</table>\n",
       "</div>"
      ],
      "text/plain": [
       "   loyalty_program  customer_id  purchase_count  total_sum  quantity_sum  \\\n",
       "0                0        18026               2   1,718.36           574   \n",
       "1                0        18027               2   1,850.37          1832   \n",
       "2                0        18029               1     385.26           180   \n",
       "3                0        18031               1     370.66            83   \n",
       "4                0        18035               1   3,614.03          1180   \n",
       "\n",
       "       avg  avg_quanity  \n",
       "0   859.18       287.00  \n",
       "1   925.19       916.00  \n",
       "2   385.26       180.00  \n",
       "3   370.66        83.00  \n",
       "4 3,614.03     1,180.00  "
      ]
     },
     "execution_count": 65,
     "metadata": {},
     "output_type": "execute_result"
    }
   ],
   "source": [
    "loyalty_program = data.groupby(['loyalty_program', 'customer_id']).agg({'purchase_id': ['nunique'], 'total':['sum'], 'quantity':['sum']}).reset_index()\n",
    "loyalty_program.columns = ['loyalty_program', 'customer_id', 'purchase_count', 'total_sum', 'quantity_sum']\n",
    "#средний чек\n",
    "loyalty_program['avg'] = loyalty_program['total_sum'] / loyalty_program['purchase_count']\n",
    "#количество товаров\n",
    "loyalty_program['avg_quanity'] = loyalty_program['quantity_sum'] / loyalty_program['purchase_count']\n",
    "loyalty_program.head()"
   ]
  },
  {
   "cell_type": "code",
   "execution_count": 66,
   "id": "76a51820",
   "metadata": {},
   "outputs": [],
   "source": [
    "group_a = loyalty_program[loyalty_program['loyalty_program'] == 0]\n",
    "group_b = loyalty_program[loyalty_program['loyalty_program'] == 1]"
   ]
  },
  {
   "cell_type": "markdown",
   "id": "be007951",
   "metadata": {},
   "source": [
    "<h4><a id=\"id13\">Средний чек</a> </h4>"
   ]
  },
  {
   "cell_type": "markdown",
   "id": "9852ec0d",
   "metadata": {},
   "source": [
    "Сформулируем гипотезы:\n",
    "\n",
    "Нулевая гипотеза (H0): \n",
    "- Средний чек участников программы лояльности равен среднему чеку остальных покупателей.\n",
    "\n",
    "Альтернативная гипотеза (H1):\n",
    "- Средний чек участников программы лояльности отличается от среднего чека остальных покупателей.\n",
    "- Средний чек участников программы лояльности может быть как выше, так и ниже среднего чека остальных покупателей."
   ]
  },
  {
   "cell_type": "markdown",
   "id": "47086a25",
   "metadata": {},
   "source": [
    "Выберем уровень значимости 0.06, который определяет, насколько сильные должны быть данные, чтобы отвергнуть нулевую гипотезу."
   ]
  },
  {
   "cell_type": "markdown",
   "id": "73355cde",
   "metadata": {},
   "source": [
    "В данном случае в качестве статистического теста подходит t-тест для двух независимых выборок, так как мы сравниваем средние значения двух групп."
   ]
  },
  {
   "cell_type": "code",
   "execution_count": 67,
   "id": "8aac4f4f",
   "metadata": {},
   "outputs": [
    {
     "name": "stdout",
     "output_type": "stream",
     "text": [
      "p-значение: 0.05850557549580523\n",
      "Отвергаем нулевую гипотезу. Средний чек участников программы лояльности отличен от остальных покупателей.\n"
     ]
    }
   ],
   "source": [
    "# Проведение t-теста для двух независимых выборок\n",
    "t_statistic, p_value = stats.ttest_ind(group_a['avg'], group_b['avg'])\n",
    "\n",
    "# Вывод результатов\n",
    "print('p-значение:', p_value)\n",
    "if p_value < 0.06:\n",
    "    print(\"Отвергаем нулевую гипотезу. Средний чек участников программы лояльности отличен от остальных покупателей.\")\n",
    "else:\n",
    "    print(\"Не отвергаем нулевую гипотезу. Средний чек участников программы лояльности не отличается от среднего чека остальных покупателей.\")"
   ]
  },
  {
   "cell_type": "markdown",
   "id": "46ae54cc",
   "metadata": {},
   "source": [
    "Посмотрим распределение:\n",
    "    "
   ]
  },
  {
   "cell_type": "code",
   "execution_count": 68,
   "id": "acee46aa",
   "metadata": {},
   "outputs": [
    {
     "data": {
      "image/png": "[encoded data removed]",
      "text/plain": [
       "<Figure size 640x480 with 1 Axes>"
      ]
     },
     "metadata": {},
     "output_type": "display_data"
    }
   ],
   "source": [
    "# Разделение данных на участников программы лояльности и остальных покупателей\n",
    "loyalty_customers = loyalty_program[loyalty_program['loyalty_program'] == 1]\n",
    "non_loyalty_customers = loyalty_program[loyalty_program['loyalty_program'] == 0]\n",
    "\n",
    "# Построение графика распределения среднего чека\n",
    "plt.hist(loyalty_customers['avg'], bins=30, alpha=0.5, label='Участники программы лояльности', orientation='horizontal')\n",
    "plt.hist(non_loyalty_customers['avg'], bins=30, alpha=0.5, label='Нет участия в программе лояльности', orientation='horizontal')\n",
    "plt.ylabel('Средний чек')\n",
    "plt.xlabel('Количество покупателей')\n",
    "plt.legend()\n",
    "plt.title('Распределение среднего чека для участников программы лояльности и нет')\n",
    "plt.show()"
   ]
  },
  {
   "cell_type": "markdown",
   "id": "94f0782b",
   "metadata": {},
   "source": [
    "При полученном значении p-значения (0.0585), мы можем отвергнуть нулевую гипотезу о равенстве средних чеков участников программы лояльности и остальных покупателей. Это означает, что есть статистически значимое различия в средних чеках между этими двумя группами.\n",
    "\n",
    "По графику распрделения выборки - мы видим, что средний чек неучастников выше."
   ]
  },
  {
   "cell_type": "markdown",
   "id": "8d738717",
   "metadata": {},
   "source": [
    "<h4><a id=\"id14\">Количество товаров в чеке</a> </h4>"
   ]
  },
  {
   "cell_type": "markdown",
   "id": "6b592272",
   "metadata": {},
   "source": [
    "Сформулируем гипотезы:\n",
    "\n",
    "Нулевая гипотеза (H0): \n",
    "- Количество товарок в чеке участников программы лояльности равно количеству товаров в чеке остальных покупателей.\n",
    "\n",
    "Альтернативная гипотеза (H1): \n",
    "- Количество товаров в чеке участников программы лояльности меньше или больше, чем количество товаров в чеке остальных покупателей."
   ]
  },
  {
   "cell_type": "code",
   "execution_count": 69,
   "id": "c780ba70",
   "metadata": {},
   "outputs": [
    {
     "name": "stdout",
     "output_type": "stream",
     "text": [
      "p-значение: 0.11053880729205216\n",
      "Не отвергаем нулевую гипотезу. Количество покупок участников программы лояльности меньше, чем количество покупок остальных покупателей.\n"
     ]
    }
   ],
   "source": [
    "# Проведение t-теста для двух независимых выборок\n",
    "t_statistic, p_value = stats.ttest_ind(group_a['avg_quanity'], group_b['avg_quanity'])\n",
    "\n",
    "# Вывод результатов\n",
    "print('p-значение:', p_value)\n",
    "if p_value < 0.06:\n",
    "    print(\"Отвергаем нулевую гипотезу. Количество покупок участников программы лояльности равно количеству покупок остальных покупателей.\")\n",
    "else:\n",
    "    print(\"Не отвергаем нулевую гипотезу. Количество покупок участников программы лояльности меньше, чем количество покупок остальных покупателей.\")"
   ]
  },
  {
   "cell_type": "markdown",
   "id": "39f43473",
   "metadata": {},
   "source": [
    "Посмотрим распределение:"
   ]
  },
  {
   "cell_type": "code",
   "execution_count": 70,
   "id": "3c6c4901",
   "metadata": {},
   "outputs": [
    {
     "data": {
      "image/png": "[encoded data removed]",
      "text/plain": [
       "<Figure size 640x480 with 1 Axes>"
      ]
     },
     "metadata": {},
     "output_type": "display_data"
    }
   ],
   "source": [
    "# Построение графика распределения количества товаров в чеке\n",
    "plt.hist(loyalty_customers['avg'], bins=30, alpha=0.5, label='Участники программы лояльности', orientation='horizontal')\n",
    "plt.hist(non_loyalty_customers['avg'], bins=30, alpha=0.5, label='Нет участия в программе лояльности', orientation='horizontal')\n",
    "plt.ylabel('Количество товаров в чеке')\n",
    "plt.xlabel('Количество покупателей')\n",
    "plt.legend()\n",
    "plt.title('Распределение количества товаров в чеке для участников программы лояльности и нет')\n",
    "plt.show()"
   ]
  },
  {
   "cell_type": "markdown",
   "id": "892ec467",
   "metadata": {},
   "source": [
    "<font color='#006957'><b>ВЫВОД</b></font>\n",
    "\n",
    "Средний чек участников программы лояльности выше, чем остальных покупателей.\n",
    "\n",
    "Среднее количетво товаров в чеке участников программы лояльности меньше, чем у остальных."
   ]
  },
  {
   "cell_type": "markdown",
   "id": "9a2ca1c0",
   "metadata": {},
   "source": [
    "<h3><a id=\"id15\">Вывод</a> </h3>"
   ]
  },
  {
   "cell_type": "markdown",
   "id": "3a4b02e1",
   "metadata": {},
   "source": [
    "В ходе проведенного исследования были выполнены следующие действия:\n",
    "\n",
    "Предобработка данных:\n",
    "\n",
    "    Названия столбцов были заменены для более понятного обозначения.\n",
    "    Были скорректированы типы данных в соответствии с содержимым столбцов.\n",
    "    Исключены явные дубликаты строк.\n",
    "    Устранены аномалии в столбцах, такие как некорректные значения цен и количества товаров.\n",
    "    Добавлены столбцы с датами для удобства анализа.\n",
    "    Был определен актуальный период для дальнейшего исследования, который составляет с 1 декабря 2016 года по 28 февраля 2017 года.\n",
    "Исследовательский анализ данных:\n",
    "\n",
    "    - За весь исследуемый период средний чек неучастников выше, чем у участников, но по графикам можно заметить, что к к онцу периода эти значения сравниваются, а где-то и выше\n",
    "    - Тоже самое можно сказать и про среднее количество товаров в чеке и среднее количество уникальных товаров в чеке\n",
    "\n",
    "    - LTV участников программы лояльности составляет 2074.\n",
    "    - LTV неучастников программы лояльности составляет 1528.\n",
    "\n",
    "    Программа лояльности имеет положительное влияние на LTV клиентов, так как участники программы лояльности имеют более высокую прогнозную стоимость по сравнению с неучастниками. Рекомендуется продолжать развивать и улучшать программу лояльности для удержания и привлечения новых клиентов и увеличения их LTV.\n",
    "\n",
    "\n",
    "Статистический анализ данных:\n",
    "\n",
    "    Было подтверждено, что различия в среднем чеке являются статистически значимыми, что позволяет предполагать, что существуют отличия между клиентами с картой лояльности и без нее.\n",
    "\n",
    "На основе проведенного анализа можно сделать следующие выводы:\n",
    "\n",
    "    Программа лояльности в данном виде пока не показывает хорошие результаты. Клиенты, участвующие в программе, не имеют более высокий средний чек и не приносят больше выручки по сравнению с остальными покупателями, но к концу периода разрыв между ними сильно сократился, а где-то и ушел в плюс. Также необходимо учитывать, что анализ проводился на ограниченный период и данные могут быть искажены из-за праздничных дней. Для получения более точной картины следует проанализировать данные за более продолжительный период времени.\n",
    "\n",
    "Рекомендации:\n",
    "\n",
    "    Расширить программу лояльности на все магазины сети. Это позволит привлечь больше клиентов и увеличить активность покупателей.\n",
    "    Провести маркетинговую кампанию для привлечения новых участников программы лояльности. Это может включать рекламные акции, предложения и скидки, чтобы привлечь внимание потенциальных клиентов.\n",
    "    Анализировать данные за более длительный период времени. Это позволит получить более полную картину о долгосрочных тенденциях и эффективности программы лояльности.\n",
    "    Исследовать влияние программы лояльности на оптовые заказы. Разработать специальные предложения и условия для оптовых клиентов, чтобы увеличить их заказы и выручку от них.\n",
    "    Постоянно мониторить и анализировать данные по программе лояльности. Это поможет выявить возможные улучшения и оптимизировать стратегию программы."
   ]
  },
  {
   "cell_type": "markdown",
   "id": "d8a401af",
   "metadata": {},
   "source": [
    "Презентация:\n",
    "https://disk.yandex.ru/i/Llohd5-aae0YUQ"
   ]
  },
  {
   "cell_type": "markdown",
   "id": "ada35d57",
   "metadata": {},
   "source": [
    "Дашборд: https://public.tableau.com/app/profile/galina.baltaeva/viz/retail_16848568983200/Dashboard1"
   ]
  }
 ],
 "metadata": {
  "ExecuteTimeLog": [
   {
    "duration": 1254,
    "start_time": "2023-05-23T12:10:04.694Z"
   },
   {
    "duration": 275,
    "start_time": "2023-05-23T12:10:05.952Z"
   },
   {
    "duration": 12,
    "start_time": "2023-05-23T12:10:06.228Z"
   },
   {
    "duration": 21,
    "start_time": "2023-05-23T12:10:06.242Z"
   },
   {
    "duration": 18,
    "start_time": "2023-05-23T12:10:06.264Z"
   },
   {
    "duration": 41,
    "start_time": "2023-05-23T12:10:06.284Z"
   },
   {
    "duration": 7,
    "start_time": "2023-05-23T12:10:06.327Z"
   },
   {
    "duration": 56,
    "start_time": "2023-05-23T12:10:06.336Z"
   },
   {
    "duration": 63,
    "start_time": "2023-05-23T12:10:06.394Z"
   },
   {
    "duration": 6,
    "start_time": "2023-05-23T12:10:06.460Z"
   },
   {
    "duration": 22,
    "start_time": "2023-05-23T12:10:06.467Z"
   },
   {
    "duration": 31,
    "start_time": "2023-05-23T12:10:06.490Z"
   },
   {
    "duration": 10,
    "start_time": "2023-05-23T12:10:06.523Z"
   },
   {
    "duration": 18,
    "start_time": "2023-05-23T12:10:06.535Z"
   },
   {
    "duration": 80,
    "start_time": "2023-05-23T12:10:06.555Z"
   },
   {
    "duration": 7,
    "start_time": "2023-05-23T12:10:06.636Z"
   },
   {
    "duration": 83,
    "start_time": "2023-05-23T12:10:06.644Z"
   },
   {
    "duration": 6,
    "start_time": "2023-05-23T12:10:06.729Z"
   },
   {
    "duration": 23,
    "start_time": "2023-05-23T12:10:06.736Z"
   },
   {
    "duration": 13,
    "start_time": "2023-05-23T12:10:06.760Z"
   },
   {
    "duration": 13,
    "start_time": "2023-05-23T12:10:06.774Z"
   },
   {
    "duration": 68,
    "start_time": "2023-05-23T12:10:06.806Z"
   },
   {
    "duration": 8,
    "start_time": "2023-05-23T12:10:06.875Z"
   },
   {
    "duration": 36,
    "start_time": "2023-05-23T12:10:06.884Z"
   },
   {
    "duration": 12,
    "start_time": "2023-05-23T12:10:06.922Z"
   },
   {
    "duration": 152,
    "start_time": "2023-05-23T12:10:06.936Z"
   },
   {
    "duration": 10,
    "start_time": "2023-05-23T12:10:07.089Z"
   },
   {
    "duration": 10,
    "start_time": "2023-05-23T12:10:07.119Z"
   },
   {
    "duration": 7,
    "start_time": "2023-05-23T12:10:07.130Z"
   },
   {
    "duration": 117,
    "start_time": "2023-05-23T12:10:07.138Z"
   },
   {
    "duration": 5,
    "start_time": "2023-05-23T12:10:07.256Z"
   },
   {
    "duration": 9,
    "start_time": "2023-05-23T12:10:07.262Z"
   },
   {
    "duration": 120,
    "start_time": "2023-05-23T12:10:07.273Z"
   },
   {
    "duration": 120,
    "start_time": "2023-05-23T12:10:07.395Z"
   },
   {
    "duration": 6,
    "start_time": "2023-05-23T12:10:07.516Z"
   },
   {
    "duration": 27,
    "start_time": "2023-05-23T12:10:07.523Z"
   },
   {
    "duration": 36,
    "start_time": "2023-05-23T12:10:07.552Z"
   },
   {
    "duration": 53,
    "start_time": "2023-05-23T12:10:07.590Z"
   },
   {
    "duration": 47,
    "start_time": "2023-05-23T12:10:07.645Z"
   },
   {
    "duration": 65,
    "start_time": "2023-05-23T12:10:07.693Z"
   },
   {
    "duration": 40,
    "start_time": "2023-05-23T12:10:07.759Z"
   },
   {
    "duration": 33,
    "start_time": "2023-05-23T12:10:07.801Z"
   },
   {
    "duration": 41,
    "start_time": "2023-05-23T12:10:07.836Z"
   },
   {
    "duration": 10,
    "start_time": "2023-05-23T12:10:07.878Z"
   },
   {
    "duration": 34,
    "start_time": "2023-05-23T12:10:07.889Z"
   },
   {
    "duration": 20,
    "start_time": "2023-05-23T12:10:07.925Z"
   },
   {
    "duration": 25,
    "start_time": "2023-05-23T12:10:07.946Z"
   },
   {
    "duration": 15,
    "start_time": "2023-05-23T12:10:07.973Z"
   },
   {
    "duration": 438,
    "start_time": "2023-05-23T12:10:07.990Z"
   },
   {
    "duration": 15,
    "start_time": "2023-05-23T12:10:08.430Z"
   },
   {
    "duration": 4,
    "start_time": "2023-05-23T12:10:08.446Z"
   },
   {
    "duration": 4,
    "start_time": "2023-05-23T12:10:08.452Z"
   },
   {
    "duration": 3,
    "start_time": "2023-05-23T12:10:08.458Z"
   },
   {
    "duration": 11,
    "start_time": "2023-05-23T12:10:08.463Z"
   },
   {
    "duration": 1347,
    "start_time": "2023-05-23T12:10:08.475Z"
   },
   {
    "duration": 308,
    "start_time": "2023-05-23T12:10:09.824Z"
   },
   {
    "duration": 4,
    "start_time": "2023-05-23T12:10:10.134Z"
   },
   {
    "duration": 6,
    "start_time": "2023-05-23T12:10:10.139Z"
   },
   {
    "duration": 338,
    "start_time": "2023-05-23T12:10:10.147Z"
   },
   {
    "duration": 4,
    "start_time": "2023-05-23T12:10:10.487Z"
   },
   {
    "duration": 23,
    "start_time": "2023-05-23T12:10:10.493Z"
   },
   {
    "duration": 478,
    "start_time": "2023-05-23T12:10:10.518Z"
   },
   {
    "duration": 20,
    "start_time": "2023-05-23T12:10:10.998Z"
   },
   {
    "duration": 12,
    "start_time": "2023-05-23T12:10:11.020Z"
   },
   {
    "duration": 12,
    "start_time": "2023-05-23T12:10:11.033Z"
   },
   {
    "duration": 32,
    "start_time": "2023-05-23T12:10:11.046Z"
   },
   {
    "duration": 4,
    "start_time": "2023-05-23T12:10:11.080Z"
   },
   {
    "duration": 13,
    "start_time": "2023-05-23T12:10:11.109Z"
   },
   {
    "duration": 253,
    "start_time": "2023-05-23T12:10:11.124Z"
   },
   {
    "duration": 5,
    "start_time": "2023-05-23T12:10:11.379Z"
   },
   {
    "duration": 260,
    "start_time": "2023-05-23T12:10:11.385Z"
   }
  ],
  "kernelspec": {
   "display_name": "Python 3 (ipykernel)",
   "language": "python",
   "name": "python3"
  },
  "language_info": {
   "codemirror_mode": {
    "name": "ipython",
    "version": 3
   },
   "file_extension": ".py",
   "mimetype": "text/x-python",
   "name": "python",
   "nbconvert_exporter": "python",
   "pygments_lexer": "ipython3",
   "version": "3.9.13"
  },
  "toc": {
   "base_numbering": 1,
   "nav_menu": {},
   "number_sections": true,
   "sideBar": true,
   "skip_h1_title": true,
   "title_cell": "Table of Contents",
   "title_sidebar": "Contents",
   "toc_cell": false,
   "toc_position": {},
   "toc_section_display": true,
   "toc_window_display": false
  }
 },
 "nbformat": 4,
 "nbformat_minor": 5
}
